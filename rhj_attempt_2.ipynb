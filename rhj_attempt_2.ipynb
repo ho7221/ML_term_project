{
 "cells": [
  {
   "cell_type": "markdown",
   "metadata": {},
   "source": [
    "## Import library & Dataset"
   ]
  },
  {
   "cell_type": "code",
   "execution_count": null,
   "metadata": {},
   "outputs": [],
   "source": [
    "pip install numpy pandas seaborn scikit-learn seaborn"
   ]
  },
  {
   "cell_type": "code",
   "execution_count": 2,
   "metadata": {},
   "outputs": [],
   "source": [
    "%matplotlib inline\n",
    "import pandas as pd\n",
    "import numpy as np\n",
    "import seaborn as sns\n",
    "from sklearn.decomposition import PCA \n",
    "from sklearn.preprocessing import StandardScaler"
   ]
  },
  {
   "cell_type": "code",
   "execution_count": 3,
   "metadata": {},
   "outputs": [],
   "source": [
    "DATA_SRC='./Data/Dataset.csv'\n",
    "df=pd.read_csv(DATA_SRC)\n",
    "both_side_df=df.drop(columns=['MatchID','Home_team','Away_team','Score_home','Score_away'])\n",
    "features=['Possesion','Shots_on_target','Shots','Touches','Passes','Tackles','Clearance','Corners','Offsides','Yellow_cards','Fouls_conceded','Red_cards']"
   ]
  },
  {
   "cell_type": "markdown",
   "metadata": {},
   "source": [
    "## Preprocess trainset & testset"
   ]
  },
  {
   "cell_type": "code",
   "execution_count": 4,
   "metadata": {},
   "outputs": [],
   "source": [
    "scaler=StandardScaler()\n",
    "standardized_both_side_df=pd.DataFrame(scaler.fit_transform(both_side_df))"
   ]
  },
  {
   "cell_type": "markdown",
   "metadata": {},
   "source": [
    "## Linear Regression"
   ]
  },
  {
   "cell_type": "code",
   "execution_count": 5,
   "metadata": {},
   "outputs": [],
   "source": [
    "from sklearn.linear_model import LinearRegression\n",
    "from sklearn.metrics import mean_squared_error\n",
    "from sklearn.metrics import r2_score\n",
    "from sklearn.model_selection import train_test_split"
   ]
  },
  {
   "cell_type": "code",
   "execution_count": 6,
   "metadata": {},
   "outputs": [],
   "source": [
    "X=standardized_both_side_df.values\n",
    "y=df['Score_home'].values\n",
    "X_train, X_test, y_train, y_test = train_test_split(X, y, test_size = .2, random_state = 42)"
   ]
  },
  {
   "cell_type": "code",
   "execution_count": 7,
   "metadata": {},
   "outputs": [
    {
     "name": "stdout",
     "output_type": "stream",
     "text": [
      "[[ 0.19219005 -0.16244169  1.55945006 ...  0.33324066 -0.24407486\n",
      "  -0.29046747]\n",
      " [ 0.73595558 -0.70806855  0.43215017 ... -1.18792848 -0.24407486\n",
      "  -0.29046747]\n",
      " [-0.92165224  0.95521333 -0.31938309 ... -0.6808721  -0.24407486\n",
      "  -0.29046747]\n",
      " ...\n",
      " [-1.14968295  1.18402459 -0.69514972 ...  0.84029703  3.80916832\n",
      "  -0.29046747]\n",
      " [ 1.66561923 -1.64091447  1.55945006 ...  0.58676884 -0.24407486\n",
      "  -0.29046747]\n",
      " [ 0.34128705 -0.31204906 -1.07091635 ...  0.58676884 -0.24407486\n",
      "  -0.29046747]]\n"
     ]
    }
   ],
   "source": [
    "X=standardized_both_side_df.values\n",
    "y=df['Score_home'].values\n",
    "X_train, X_test, y_train, y_test = train_test_split(X, y, test_size = .2, random_state = 42)\n"
   ]
  },
  {
   "cell_type": "code",
   "execution_count": 13,
   "metadata": {},
   "outputs": [
    {
     "name": "stdout",
     "output_type": "stream",
     "text": [
      "Train RMSE:  1.0093878139198815\n",
      "Test RMSE:  1.0094508434492406\n",
      "Train Score:  0.4120207250627377\n",
      "Test Score:  0.3931961011213172\n"
     ]
    }
   ],
   "source": [
    "lin_reg=LinearRegression()\n",
    "lin_reg.fit(X_train,y_train)\n",
    "predictions_home=lin_reg.predict(X_test)\n",
    "predictions_away=lin_reg.predict(X_test)\n",
    "Y_train_pred=lin_reg.predict(X_train)\n",
    "print(\"Train RMSE: \",np.sqrt(mean_squared_error(y_train,Y_train_pred)))\n",
    "print(\"Test RMSE: \",np.sqrt(mean_squared_error(y_test,predictions)))\n",
    "print(\"Train Score: \",r2_score(y_train,Y_train_pred))\n",
    "print(\"Test Score: \",r2_score(y_test,predictions))"
   ]
  },
  {
   "cell_type": "markdown",
   "metadata": {},
   "source": [
    "## Problem\n",
    "Test error is now less than Train error but problem is that score is too low. We should now try reducing feature and append dataset.\n"
   ]
  }
 ],
 "metadata": {
  "kernelspec": {
   "display_name": "Python 3.7.0 64-bit",
   "language": "python",
   "name": "python3"
  },
  "language_info": {
   "codemirror_mode": {
    "name": "ipython",
    "version": 3
   },
   "file_extension": ".py",
   "mimetype": "text/x-python",
   "name": "python",
   "nbconvert_exporter": "python",
   "pygments_lexer": "ipython3",
   "version": "3.7.0"
  },
  "orig_nbformat": 4,
  "vscode": {
   "interpreter": {
    "hash": "e774977668b7c0ae8309835a5187aa7fbf7669e7d0bb59755bc63e573643edcd"
   }
  }
 },
 "nbformat": 4,
 "nbformat_minor": 2
}
