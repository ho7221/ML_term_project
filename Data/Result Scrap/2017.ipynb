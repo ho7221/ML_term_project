{
 "cells": [
  {
   "cell_type": "code",
   "execution_count": 17,
   "metadata": {},
   "outputs": [
    {
     "name": "stderr",
     "output_type": "stream",
     "text": [
      "/var/folders/6n/txlp40p947xbl8xqx_cmg3cr0000gn/T/ipykernel_10857/4245133537.py:7: DeprecationWarning: executable_path has been deprecated, please pass in a Service object\n",
      "  browser = webdriver.Chrome('./chromedriver')\n"
     ]
    }
   ],
   "source": [
    "import time\n",
    "\n",
    "from selenium import webdriver\n",
    "from selenium.webdriver.common.keys import Keys\n",
    "from selenium.webdriver.common.by import By\n",
    "\n",
    "browser = webdriver.Chrome('./chromedriver')\n",
    "\n",
    "browser.get(\"https://www.premierleague.com/results?co=1&se=54&cl=-1\")\n",
    "time.sleep(2)\n",
    "browser.find_element(By.XPATH, '/html/body/div[2]/div/div/div[1]/div[5]/button[1]').click()\n",
    "elem = browser.find_element(By.TAG_NAME,\"body\")\n",
    "\n",
    "no_of_pagedowns = 50\n",
    "\n",
    "while no_of_pagedowns:\n",
    "    elem.send_keys(Keys.PAGE_DOWN)\n",
    "    time.sleep(1)\n",
    "    no_of_pagedowns-=1\n",
    "\n",
    "uls = browser.find_elements(By.CLASS_NAME,\"matchList\")\n",
    "text_file = open(\"Matches-2017.txt\", \"w\")\n",
    "for ul in uls:\n",
    "    post_elems = ul.find_elements(By.CLASS_NAME,\"matchFixtureContainer\")\n",
    "    for post in post_elems:\n",
    "        matchId = post.get_attribute(\"data-comp-match-item\")\n",
    "        text_file.write(matchId + \"\\n\")\n",
    "\n",
    "\n",
    "text_file.close()"
   ]
  },
  {
   "cell_type": "code",
   "execution_count": 18,
   "metadata": {},
   "outputs": [
    {
     "name": "stderr",
     "output_type": "stream",
     "text": [
      "/var/folders/6n/txlp40p947xbl8xqx_cmg3cr0000gn/T/ipykernel_10857/4058941663.py:21: DeprecationWarning: executable_path has been deprecated, please pass in a Service object\n",
      "  browser = webdriver.Chrome('./chromedriver')\n"
     ]
    }
   ],
   "source": [
    "import time\n",
    "from selenium import webdriver\n",
    "from selenium.webdriver.common.keys import Keys\n",
    "from selenium.common.exceptions import StaleElementReferenceException\n",
    "from selenium.webdriver.common.by import By\n",
    "\n",
    "\n",
    "browser = webdriver.Chrome('./chromedriver')\n",
    "text_file = open(\"Stats-2017.txt\",\"w\")\n",
    "cookie=False\n",
    "with open(\"Matches-2017.txt\", \"r\") as ins:\n",
    "    for line in ins:\n",
    "        try:\n",
    "            browser.get(\"https://www.premierleague.com/match/\" + line)\n",
    "            time.sleep(1)\n",
    "            if not cookie:\n",
    "                time.sleep(2)\n",
    "                browser.find_element(By.XPATH, '/html/body/div[3]/div/div/div[1]/div[5]/button[1]').click()\n",
    "                cookie=True\n",
    "            time.sleep(1)\n",
    "            tab = browser.find_elements(By.CLASS_NAME,\"tablist\")\n",
    "            stats = tab[1].find_element(By.XPATH,\".//li[not(@class)]\")\n",
    "            stats.click()\n",
    "\n",
    "            time.sleep(1)\n",
    "            stats = browser.find_element(By.CLASS_NAME,\"matchCentreStatsContainer\")\n",
    "            text_file.write(\"Match: \" + line)\n",
    "            text_file.write(stats.text + \"\\n\\n\")\n",
    "        except StaleElementReferenceException:\n",
    "            text_file.write(\"Match: \" + line)\n",
    "            for x in range(0, 10):\n",
    "                text_file.write(\"XX-XX-,XX-XX-,XX-XX\\n\")\n",
    "            text_file.write(\"Match: \" + line)\n",
    "            text_file.write(stats.text + \"\\n\\n\")\n",
    "\n",
    "            text_file.write(\"\\n\\n\")\n",
    "        except:\n",
    "            print(line)\n"
   ]
  },
  {
   "cell_type": "code",
   "execution_count": null,
   "metadata": {},
   "outputs": [
    {
     "name": "stderr",
     "output_type": "stream",
     "text": [
      "/var/folders/6n/txlp40p947xbl8xqx_cmg3cr0000gn/T/ipykernel_10857/1011708565.py:8: DeprecationWarning: executable_path has been deprecated, please pass in a Service object\n",
      "  browser = webdriver.Chrome('./chromedriver')\n"
     ]
    },
    {
     "ename": "KeyboardInterrupt",
     "evalue": "",
     "output_type": "error",
     "traceback": [
      "\u001b[0;31m---------------------------------------------------------------------------\u001b[0m",
      "\u001b[0;31mKeyboardInterrupt\u001b[0m                         Traceback (most recent call last)",
      "\u001b[1;32m/Users/hokuma/Downloads/Soccer-prediction-with-Machine-Learning-master/Data/PL_site_2006_2018/Web scrapping/2016.ipynb Cell 3\u001b[0m in \u001b[0;36m<cell line: 18>\u001b[0;34m()\u001b[0m\n\u001b[1;32m     <a href='vscode-notebook-cell:/Users/hokuma/Downloads/Soccer-prediction-with-Machine-Learning-master/Data/PL_site_2006_2018/Web%20scrapping/2016.ipynb#X10sZmlsZQ%3D%3D?line=17'>18</a>\u001b[0m \u001b[39mwhile\u001b[39;00m no_of_pagedowns:\n\u001b[1;32m     <a href='vscode-notebook-cell:/Users/hokuma/Downloads/Soccer-prediction-with-Machine-Learning-master/Data/PL_site_2006_2018/Web%20scrapping/2016.ipynb#X10sZmlsZQ%3D%3D?line=18'>19</a>\u001b[0m     elem\u001b[39m.\u001b[39msend_keys(Keys\u001b[39m.\u001b[39mPAGE_DOWN)\n\u001b[0;32m---> <a href='vscode-notebook-cell:/Users/hokuma/Downloads/Soccer-prediction-with-Machine-Learning-master/Data/PL_site_2006_2018/Web%20scrapping/2016.ipynb#X10sZmlsZQ%3D%3D?line=19'>20</a>\u001b[0m     time\u001b[39m.\u001b[39;49msleep(\u001b[39m1\u001b[39;49m)\n\u001b[1;32m     <a href='vscode-notebook-cell:/Users/hokuma/Downloads/Soccer-prediction-with-Machine-Learning-master/Data/PL_site_2006_2018/Web%20scrapping/2016.ipynb#X10sZmlsZQ%3D%3D?line=20'>21</a>\u001b[0m     no_of_pagedowns\u001b[39m-\u001b[39m\u001b[39m=\u001b[39m\u001b[39m1\u001b[39m\n\u001b[1;32m     <a href='vscode-notebook-cell:/Users/hokuma/Downloads/Soccer-prediction-with-Machine-Learning-master/Data/PL_site_2006_2018/Web%20scrapping/2016.ipynb#X10sZmlsZQ%3D%3D?line=22'>23</a>\u001b[0m post_elems \u001b[39m=\u001b[39m browser\u001b[39m.\u001b[39mfind_elements(By\u001b[39m.\u001b[39mCLASS_NAME,\u001b[39m\"\u001b[39m\u001b[39mmatchFixtureContainer\u001b[39m\u001b[39m\"\u001b[39m)\n",
      "\u001b[0;31mKeyboardInterrupt\u001b[0m: "
     ]
    }
   ],
   "source": [
    "import time\n",
    "\n",
    "from selenium import webdriver\n",
    "from selenium.webdriver.common.keys import Keys\n",
    "from selenium.webdriver.common.by import By\n",
    "\n",
    "browser = webdriver.Chrome('./chromedriver')\n",
    "\n",
    "browser.get(\"https://www.premierleague.com/results?co=1&se=54&cl=-1\")\n",
    "time.sleep(2)\n",
    "browser.find_element(By.XPATH, '/html/body/div[2]/div/div/div[1]/div[5]/button[1]').click()\n",
    "\n",
    "elem = browser.find_element(By.TAG_NAME,\"body\")\n",
    "\n",
    "no_of_pagedowns = 50\n",
    "\n",
    "while no_of_pagedowns:\n",
    "    elem.send_keys(Keys.PAGE_DOWN)\n",
    "    time.sleep(1)\n",
    "    no_of_pagedowns-=1\n",
    "\n",
    "post_elems = browser.find_elements(By.CLASS_NAME,\"matchFixtureContainer\")\n",
    "text_file = open(\"MatchResults-2017.txt\", \"w\")\n",
    "for post in post_elems:\n",
    "    text_file.write(post.text + \"\\n\")\n",
    "    text_file.write(str(post.get_attribute(\"data-comp-match-item\")) + \"\\n\")\n",
    "text_file.close()\n"
   ]
  },
  {
   "cell_type": "code",
   "execution_count": null,
   "metadata": {},
   "outputs": [
    {
     "name": "stderr",
     "output_type": "stream",
     "text": [
      "/var/folders/6n/txlp40p947xbl8xqx_cmg3cr0000gn/T/ipykernel_10857/1166982428.py:8: DeprecationWarning: executable_path has been deprecated, please pass in a Service object\n",
      "  browser = webdriver.Chrome('./chromedriver')\n"
     ]
    },
    {
     "ename": "KeyboardInterrupt",
     "evalue": "",
     "output_type": "error",
     "traceback": [
      "\u001b[0;31m---------------------------------------------------------------------------\u001b[0m",
      "\u001b[0;31mKeyboardInterrupt\u001b[0m                         Traceback (most recent call last)",
      "\u001b[1;32m/Users/hokuma/Downloads/Soccer-prediction-with-Machine-Learning-master/Data/PL_site_2006_2018/Web scrapping/2016.ipynb Cell 4\u001b[0m in \u001b[0;36m<cell line: 18>\u001b[0;34m()\u001b[0m\n\u001b[1;32m     <a href='vscode-notebook-cell:/Users/hokuma/Downloads/Soccer-prediction-with-Machine-Learning-master/Data/PL_site_2006_2018/Web%20scrapping/2016.ipynb#X11sZmlsZQ%3D%3D?line=17'>18</a>\u001b[0m \u001b[39mwhile\u001b[39;00m no_of_pagedowns:\n\u001b[1;32m     <a href='vscode-notebook-cell:/Users/hokuma/Downloads/Soccer-prediction-with-Machine-Learning-master/Data/PL_site_2006_2018/Web%20scrapping/2016.ipynb#X11sZmlsZQ%3D%3D?line=18'>19</a>\u001b[0m     elem\u001b[39m.\u001b[39msend_keys(Keys\u001b[39m.\u001b[39mPAGE_DOWN)\n\u001b[0;32m---> <a href='vscode-notebook-cell:/Users/hokuma/Downloads/Soccer-prediction-with-Machine-Learning-master/Data/PL_site_2006_2018/Web%20scrapping/2016.ipynb#X11sZmlsZQ%3D%3D?line=19'>20</a>\u001b[0m     time\u001b[39m.\u001b[39;49msleep(\u001b[39m1\u001b[39;49m)\n\u001b[1;32m     <a href='vscode-notebook-cell:/Users/hokuma/Downloads/Soccer-prediction-with-Machine-Learning-master/Data/PL_site_2006_2018/Web%20scrapping/2016.ipynb#X11sZmlsZQ%3D%3D?line=20'>21</a>\u001b[0m     no_of_pagedowns\u001b[39m-\u001b[39m\u001b[39m=\u001b[39m\u001b[39m1\u001b[39m\n\u001b[1;32m     <a href='vscode-notebook-cell:/Users/hokuma/Downloads/Soccer-prediction-with-Machine-Learning-master/Data/PL_site_2006_2018/Web%20scrapping/2016.ipynb#X11sZmlsZQ%3D%3D?line=22'>23</a>\u001b[0m post_elems \u001b[39m=\u001b[39m browser\u001b[39m.\u001b[39mfind_elements(By\u001b[39m.\u001b[39mCLASS_NAME,\u001b[39m\"\u001b[39m\u001b[39mmatchFixtureContainer\u001b[39m\u001b[39m\"\u001b[39m)\n",
      "\u001b[0;31mKeyboardInterrupt\u001b[0m: "
     ]
    }
   ],
   "source": [
    "import time\n",
    "\n",
    "from selenium import webdriver\n",
    "from selenium.webdriver.common.keys import Keys\n",
    "from selenium.webdriver.common.by import By\n",
    "\n",
    "browser = webdriver.Chrome('./chromedriver')\n",
    "\n",
    "browser.get(\"https://www.premierleague.com/results?co=1&se=54&cl=-1\")\n",
    "time.sleep(2)\n",
    "browser.find_element(By.XPATH, '/html/body/div[2]/div/div/div[1]/div[5]/button[1]').click()\n",
    "\n",
    "elem = browser.find_element(By.TAG_NAME,\"body\")\n",
    "\n",
    "no_of_pagedowns = 50\n",
    "\n",
    "while no_of_pagedowns:\n",
    "    elem.send_keys(Keys.PAGE_DOWN)\n",
    "    time.sleep(1)\n",
    "    no_of_pagedowns-=1\n",
    "\n",
    "post_elems = browser.find_elements(By.CLASS_NAME,\"matchFixtureContainer\")\n",
    "\n",
    "text_file = open(\"MatchResults-2017.csv\", \"w\")\n",
    "\n",
    "attribute_lst = ['MatchID', 'Home_team', 'Away_team', \"Score_home\", \"Score_away\"]\n",
    "\n",
    "attribute_lst_str = ','.join(attribute_lst) + '\\n'\n",
    "\n",
    "text_file.write(attribute_lst_str)\n",
    "\n",
    "for post in post_elems:\n",
    "    score_home, score_away = post.find_elements(By.CLASS_NAME,\"score\")[0].text.split(\"-\")\n",
    "    home_team = str(post.get_attribute(\"data-home\"))\n",
    "    away_team = str(post.get_attribute(\"data-away\"))\n",
    "    match_id  = str(post.get_attribute(\"data-comp-match-item\"))\n",
    "    line = match_id + \",\" + home_team + \",\" + away_team + \",\" + score_home + \",\" + score_away + \"\\n\"\n",
    "    text_file.write(line)\n",
    "    \n",
    "text_file.close()"
   ]
  },
  {
   "cell_type": "code",
   "execution_count": null,
   "metadata": {},
   "outputs": [],
   "source": []
  }
 ],
 "metadata": {
  "kernelspec": {
   "display_name": "Python 3",
   "language": "python",
   "name": "python3"
  },
  "language_info": {
   "codemirror_mode": {
    "name": "ipython",
    "version": 3
   },
   "file_extension": ".py",
   "mimetype": "text/x-python",
   "name": "python",
   "nbconvert_exporter": "python",
   "pygments_lexer": "ipython3",
   "version": "3.11.0 (v3.11.0:deaf509e8f, Oct 24 2022, 14:43:23) [Clang 13.0.0 (clang-1300.0.29.30)]"
  },
  "vscode": {
   "interpreter": {
    "hash": "aee8b7b246df8f9039afb4144a1f6fd8d2ca17a180786b69acc140d282b71a49"
   }
  }
 },
 "nbformat": 4,
 "nbformat_minor": 2
}
