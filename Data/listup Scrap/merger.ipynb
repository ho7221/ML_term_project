{
 "cells": [
  {
   "cell_type": "code",
   "execution_count": 10,
   "metadata": {},
   "outputs": [
    {
     "ename": "KeyError",
     "evalue": "'MatchID'",
     "output_type": "error",
     "traceback": [
      "\u001b[0;31m---------------------------------------------------------------------------\u001b[0m",
      "\u001b[0;31mKeyError\u001b[0m                                  Traceback (most recent call last)",
      "\u001b[1;32m/Users/hokuma/Desktop/Assignment/ML/ML_term_project/Data/listup Scrap/merger.ipynb Cell 1\u001b[0m in \u001b[0;36m<cell line: 4>\u001b[0;34m()\u001b[0m\n\u001b[1;32m     <a href='vscode-notebook-cell:/Users/hokuma/Desktop/Assignment/ML/ML_term_project/Data/listup%20Scrap/merger.ipynb#W0sZmlsZQ%3D%3D?line=23'>24</a>\u001b[0m \u001b[39mif\u001b[39;00m line\u001b[39m==\u001b[39m\u001b[39m'\u001b[39m\u001b[39m\\n\u001b[39;00m\u001b[39m'\u001b[39m: \u001b[39m# reset\u001b[39;00m\n\u001b[1;32m     <a href='vscode-notebook-cell:/Users/hokuma/Desktop/Assignment/ML/ML_term_project/Data/listup%20Scrap/merger.ipynb#W0sZmlsZQ%3D%3D?line=24'>25</a>\u001b[0m     \u001b[39mif\u001b[39;00m \u001b[39mlen\u001b[39m(pinfo)\u001b[39m!=\u001b[39m\u001b[39m23\u001b[39m:\n\u001b[0;32m---> <a href='vscode-notebook-cell:/Users/hokuma/Desktop/Assignment/ML/ML_term_project/Data/listup%20Scrap/merger.ipynb#W0sZmlsZQ%3D%3D?line=25'>26</a>\u001b[0m         \u001b[39mprint\u001b[39m(pinfo[\u001b[39m'\u001b[39;49m\u001b[39mMatchID\u001b[39;49m\u001b[39m'\u001b[39;49m])\n\u001b[1;32m     <a href='vscode-notebook-cell:/Users/hokuma/Desktop/Assignment/ML/ML_term_project/Data/listup%20Scrap/merger.ipynb#W0sZmlsZQ%3D%3D?line=26'>27</a>\u001b[0m         \u001b[39mbreak\u001b[39;00m\n\u001b[1;32m     <a href='vscode-notebook-cell:/Users/hokuma/Desktop/Assignment/ML/ML_term_project/Data/listup%20Scrap/merger.ipynb#W0sZmlsZQ%3D%3D?line=27'>28</a>\u001b[0m     writer\u001b[39m.\u001b[39mwriterow(pinfo)\n",
      "\u001b[0;31mKeyError\u001b[0m: 'MatchID'"
     ]
    }
   ],
   "source": [
    "import csv\n",
    "\n",
    "attributes=['matchID','homeP1','homeP2','homeP3','homeP4','homeP5','homeP6','homeP7','homeP8','homeP9','homeP10','homeP11','awayP1','awayP2','awayP3','awayP4','awayP5','awayP6','awayP7','awayP8','awayP9','awayP10','awayP11']\n",
    "for year in range(2013,2023):\n",
    "    txt_file=open('./Listup-{year}.txt'.format(year=str(year)),'r')\n",
    "    csv_file=open('./Listup-{year}.csv'.format(year=str(year)),'w')\n",
    "\n",
    "    writer=csv.writer(csv_file)\n",
    "    writer.writerow(attributes)\n",
    "    writer=csv.DictWriter(csv_file,attributes,restval='0')\n",
    "    pinfo={}\n",
    "    for line in txt_file:\n",
    "        if 'Match' in line: # init\n",
    "            pinfo['matchID']=line.split(' ')[1].strip()\n",
    "            txt_file.readline()\n",
    "            for i in range(11):\n",
    "                name=txt_file.readline().strip()\n",
    "                pinfo['homeP{num}'.format(num=str(i+1))]=name\n",
    "            txt_file.readline()\n",
    "            for i in range(11):\n",
    "                name=txt_file.readline().strip()\n",
    "                pinfo['awayP{num}'.format(num=str(i+1))]=name\n",
    "            continue\n",
    "        if line=='\\n': # reset\n",
    "            if len(pinfo)!=23:\n",
    "                print(pinfo['MatchID'])\n",
    "                break\n",
    "            writer.writerow(pinfo)\n",
    "            pinfo={}\n",
    "            continue\n",
    "    txt_file.close()\n",
    "    csv_file.close()"
   ]
  }
 ],
 "metadata": {
  "kernelspec": {
   "display_name": "Python 3.10.6 64-bit",
   "language": "python",
   "name": "python3"
  },
  "language_info": {
   "codemirror_mode": {
    "name": "ipython",
    "version": 3
   },
   "file_extension": ".py",
   "mimetype": "text/x-python",
   "name": "python",
   "nbconvert_exporter": "python",
   "pygments_lexer": "ipython3",
   "version": "3.10.6"
  },
  "orig_nbformat": 4,
  "vscode": {
   "interpreter": {
    "hash": "b0fa6594d8f4cbf19f97940f81e996739fb7646882a419484c72d19e05852a7e"
   }
  }
 },
 "nbformat": 4,
 "nbformat_minor": 2
}
