{
 "cells": [
  {
   "cell_type": "code",
   "execution_count": null,
   "metadata": {},
   "outputs": [],
   "source": [
    "# scrap listup\n",
    "import time\n",
    "from selenium import webdriver\n",
    "from selenium.webdriver.common.keys import Keys\n",
    "from selenium.common.exceptions import StaleElementReferenceException\n",
    "from selenium.webdriver.common.by import By\n",
    "\n",
    "browser = webdriver.Chrome('./chromedriver')\n",
    "\n",
    "browser.get(\"https://www.premierleague.com/\")\n",
    "time.sleep(5)\n",
    "browser.find_element(By.XPATH, '/html/body/div[2]/div/div/div[1]/div[5]/button[1]').click()\n",
    "time.sleep(1)\n",
    "for year in range(2013,2023):\n",
    "    text_file = open(\"Listup-{year}.txt\".format(year=year),\"w\",encoding='utf-8')\n",
    "    with open(\"../Result \\Scrap/Matches-{year}.txt\".format(year=year), \"r\",encoding='utf-8') as ins:\n",
    "        for line in ins:\n",
    "            try:\n",
    "                browser.get(\"https://www.premierleague.com/match/\" + line)\n",
    "                #elem = browser.find_element_by_tag_name(\"body\")\n",
    "                #elem.send_keys(Keys.PAGE_DOWN)\n",
    "                time.sleep(1)\n",
    "                tab = browser.find_elements(By.CLASS_NAME,\"tablist\")\n",
    "                tab[1].find_element(By.CLASS_NAME,\"matchCentreSquadLabelContainer\").click()\n",
    "                time.sleep(1)\n",
    "                home_lineup = browser.find_elements(By.CLASS_NAME,\"matchLineupTeamContainer\")[0]\n",
    "                home_names=home_lineup.find_elements(By.CLASS_NAME,\"name\")\n",
    "                away_lineup = browser.find_elements(By.CLASS_NAME,\"matchLineupTeamContainer\")[1]\n",
    "                away_names=away_lineup.find_elements(By.CLASS_NAME,\"name\")\n",
    "                text_file.write(\"Match: \" + line)\n",
    "                home_list = []\n",
    "                away_list = []\n",
    "                for home_name in home_names[:12]:\n",
    "                    home_list.append(home_name.text.split('\\n')[0])\n",
    "                for away_name in away_names[:12]:\n",
    "                    away_list.append(away_name.text.split('\\n')[0])\n",
    "                text_file.write(\"Home Lineup\\n\")\n",
    "                for home_name in home_list:\n",
    "                    text_file.write(home_name + \"\\n\")\n",
    "                text_file.write(\"Away Lineup\\n\")\n",
    "                for away_name in away_list:\n",
    "                    text_file.write(away_name + \"\\n\")\n",
    "                text_file.write(\"\\n\")\n",
    "            except:\n",
    "                print(str(year)+':'+line)\n",
    "    text_file.close()\n",
    "\n"
   ]
  },
  {
   "cell_type": "code",
   "execution_count": 1,
   "metadata": {},
   "outputs": [],
   "source": [
    "import csv\n",
    "\n",
    "attributes=['matchID','homeP1','homeP2','homeP3','homeP4','homeP5','homeP6','homeP7','homeP8','homeP9','homeP10','homeP11','awayP1','awayP2','awayP3','awayP4','awayP5','awayP6','awayP7','awayP8','awayP9','awayP10','awayP11']\n",
    "for year in range(2013,2023):\n",
    "    txt_file=open('./Listup-{year}.txt'.format(year=str(year)),'r')\n",
    "    csv_file=open('./Listup-{year}.csv'.format(year=str(year)),'w')\n",
    "\n",
    "    writer=csv.writer(csv_file)\n",
    "    writer.writerow(attributes)\n",
    "    writer=csv.DictWriter(csv_file,attributes,restval='0')\n",
    "    pinfo={}\n",
    "    for line in txt_file:\n",
    "        if 'Match' in line: # init\n",
    "            pinfo['matchID']=line.split(' ')[1].strip()\n",
    "            txt_file.readline()\n",
    "            for i in range(11):\n",
    "                name=txt_file.readline().strip()\n",
    "                pinfo['homeP{num}'.format(num=str(i+1))]=name\n",
    "            txt_file.readline()\n",
    "            txt_file.readline()\n",
    "            for i in range(11):\n",
    "                name=txt_file.readline().strip()\n",
    "                pinfo['awayP{num}'.format(num=str(i+1))]=name\n",
    "            txt_file.readline()\n",
    "            continue\n",
    "        if line=='\\n': # reset\n",
    "            if len(pinfo)!=23:\n",
    "                print(pinfo['matchID'])\n",
    "                break\n",
    "            writer.writerow(pinfo)\n",
    "            pinfo={}\n",
    "            continue\n",
    "    txt_file.close()\n",
    "    csv_file.close()"
   ]
  }
 ],
 "metadata": {
  "kernelspec": {
   "display_name": "Python 3",
   "language": "python",
   "name": "python3"
  },
  "language_info": {
   "codemirror_mode": {
    "name": "ipython",
    "version": 3
   },
   "file_extension": ".py",
   "mimetype": "text/x-python",
   "name": "python",
   "nbconvert_exporter": "python",
   "pygments_lexer": "ipython3",
   "version": "3.11.0 (v3.11.0:deaf509e8f, Oct 24 2022, 14:43:23) [Clang 13.0.0 (clang-1300.0.29.30)]"
  },
  "orig_nbformat": 4,
  "vscode": {
   "interpreter": {
    "hash": "aee8b7b246df8f9039afb4144a1f6fd8d2ca17a180786b69acc140d282b71a49"
   }
  }
 },
 "nbformat": 4,
 "nbformat_minor": 2
}
