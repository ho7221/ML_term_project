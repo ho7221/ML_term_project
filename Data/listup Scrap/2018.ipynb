{
 "cells": [
  {
   "cell_type": "code",
   "execution_count": 1,
   "metadata": {},
   "outputs": [
    {
     "name": "stderr",
     "output_type": "stream",
     "text": [
      "/Users/hokuma/Library/Python/3.7/lib/python/site-packages/ipykernel_launcher.py:7: DeprecationWarning: executable_path has been deprecated, please pass in a Service object\n",
      "  import sys\n"
     ]
    }
   ],
   "source": [
    "import time\n",
    "\n",
    "from selenium import webdriver\n",
    "from selenium.webdriver.common.keys import Keys\n",
    "from selenium.webdriver.common.by import By\n",
    "\n",
    "browser = webdriver.Chrome('./chromedriver')\n",
    "\n",
    "browser.get(\"https://www.premierleague.com/results?co=1&se=79&cl=-1\")\n",
    "time.sleep(2)\n",
    "browser.find_element(By.XPATH, '/html/body/div[2]/div/div/div[1]/div[5]/button[1]').click()\n",
    "elem = browser.find_element(By.TAG_NAME,\"body\")\n",
    "\n",
    "no_of_pagedowns = 50\n",
    "\n",
    "while no_of_pagedowns:\n",
    "    elem.send_keys(Keys.PAGE_DOWN)\n",
    "    time.sleep(1)\n",
    "    no_of_pagedowns-=1\n",
    "\n",
    "uls = browser.find_elements(By.CLASS_NAME,\"matchList\")\n",
    "text_file = open(\"Matches-2018.txt\", \"w\")\n",
    "for ul in uls:\n",
    "    post_elems = ul.find_elements(By.CLASS_NAME,\"matchFixtureContainer\")\n",
    "    for post in post_elems:\n",
    "        matchId = post.get_attribute(\"data-comp-match-item\")\n",
    "        text_file.write(matchId + \"\\n\")\n",
    "\n",
    "\n",
    "text_file.close()"
   ]
  },
  {
   "cell_type": "code",
   "execution_count": 11,
   "metadata": {},
   "outputs": [
    {
     "name": "stderr",
     "output_type": "stream",
     "text": [
      "C:\\Users\\류호준학부재학컴퓨터학과\\AppData\\Local\\Temp\\ipykernel_25584\\1113889115.py:21: DeprecationWarning: executable_path has been deprecated, please pass in a Service object\n",
      "  browser = webdriver.Chrome('./chromedriver.exe')\n"
     ]
    }
   ],
   "source": [
    "#Match stats\n",
    "import time\n",
    "from selenium import webdriver\n",
    "from selenium.webdriver.common.keys import Keys\n",
    "from selenium.common.exceptions import StaleElementReferenceException\n",
    "from selenium.webdriver.common.by import By\n",
    "\n",
    "\"\"\"\n",
    "\n",
    "    Script description:\n",
    "\n",
    "    This python script uses the output file Matches-2103.txt obtained from SeleniumScraper-Detailed.py\n",
    "    to  fetch the stats for every match in a particular season (2013 onwards). The Matches-2013.txt file\n",
    "    contains the match ids for every match in a season. Using the id, the url for the match is constructed.\n",
    "    Then, a request to open the url is sent. Inside the page, a click on the Stats tab is automated and then\n",
    "    from the Stats tab, all the Stats for the current match is fetched and stored in a text file called\n",
    "    Stats-2013.txt along with the Match ID in a formatted way for further use.\n",
    "\n",
    "\"\"\"\n",
    "\n",
    "browser = webdriver.Chrome('./chromedriver.exe')\n",
    "\n",
    "browser.get(\"https://www.premierleague.com/\")\n",
    "time.sleep(5)\n",
    "browser.find_element(By.XPATH, '/html/body/div[2]/div/div/div[1]/div[5]/button[1]').click()\n",
    "time.sleep(1)\n",
    "for year in range(2018,2019):\n",
    "    text_file = open(\"Listup-{year}.txt\".format(year=year),\"w\",encoding='utf-8')\n",
    "    with open(\"Matches-{year}.txt\".format(year=year), \"r\",encoding='utf-8') as ins:\n",
    "        for line in ins:\n",
    "            try:\n",
    "                browser.get(\"https://www.premierleague.com/match/\" + line)\n",
    "                #elem = browser.find_element_by_tag_name(\"body\")\n",
    "                #elem.send_keys(Keys.PAGE_DOWN)\n",
    "                time.sleep(1)\n",
    "                tab = browser.find_elements(By.CLASS_NAME,\"tablist\")\n",
    "                tab[1].find_element(By.CLASS_NAME,\"matchCentreSquadLabelContainer\").click()\n",
    "\n",
    "                time.sleep(1)\n",
    "                home_lineup = browser.find_elements(By.CLASS_NAME,\"matchLineupTeamContainer\")[0]\n",
    "                home_names=home_lineup.find_elements(By.CLASS_NAME,\"name\")\n",
    "                away_lineup = browser.find_elements(By.CLASS_NAME,\"matchLineupTeamContainer\")[1]\n",
    "                away_names=away_lineup.find_elements(By.CLASS_NAME,\"name\")\n",
    "                text_file.write(\"Match: \" + line)\n",
    "                home_list = []\n",
    "                away_list = []\n",
    "                for home_name in home_names[:12]:\n",
    "                    home_list.append(home_name.text.split('\\n')[0])\n",
    "                for away_name in away_names[:12]:\n",
    "                    away_list.append(away_name.text.split('\\n')[0])\n",
    "                text_file.write(\"Home Lineup\\n\")\n",
    "                for home_name in home_list:\n",
    "                    text_file.write(home_name + \"\\n\")\n",
    "                text_file.write(\"Away Lineup\\n\")\n",
    "                for away_name in away_list:\n",
    "                    text_file.write(away_name + \"\\n\")\n",
    "                text_file.write(\"\\n\")\n",
    "            except:\n",
    "                print(str(year)+':'+line)\n",
    "    text_file.close()\n",
    "\n"
   ]
  },
  {
   "cell_type": "code",
   "execution_count": 5,
   "metadata": {},
   "outputs": [
    {
     "name": "stderr",
     "output_type": "stream",
     "text": [
      "/Users/hokuma/Library/Python/3.7/lib/python/site-packages/ipykernel_launcher.py:8: DeprecationWarning: executable_path has been deprecated, please pass in a Service object\n",
      "  \n"
     ]
    }
   ],
   "source": [
    "#Match results\n",
    "import time\n",
    "\n",
    "from selenium import webdriver\n",
    "from selenium.webdriver.common.keys import Keys\n",
    "from selenium.webdriver.common.by import By\n",
    "\n",
    "browser = webdriver.Chrome('./chromedriver')\n",
    "\n",
    "browser.get(\"https://www.premierleague.com/results?co=1&se=79&cl=-1\")\n",
    "time.sleep(2)\n",
    "browser.find_element(By.XPATH, '/html/body/div[2]/div/div/div[1]/div[5]/button[1]').click()\n",
    "\n",
    "elem = browser.find_element(By.TAG_NAME,\"body\")\n",
    "\n",
    "no_of_pagedowns = 50\n",
    "\n",
    "while no_of_pagedowns:\n",
    "    elem.send_keys(Keys.PAGE_DOWN)\n",
    "    time.sleep(1)\n",
    "    no_of_pagedowns-=1\n",
    "\n",
    "post_elems = browser.find_elements(By.CLASS_NAME,\"matchFixtureContainer\")\n",
    "text_file = open(\"MatchResults-2018.txt\", \"w\")\n",
    "for post in post_elems:\n",
    "    #text_file.write(str(post.get_attribute(\"data-comp-match-item\")) + \"\\n\")\n",
    "    text_file.write(post.text + \"\\n\")\n",
    "    text_file.write(str(post.get_attribute(\"data-comp-match-item\")) + \"\\n\")\n",
    "text_file.close()\n",
    "\n",
    "# out_file = open(\"Matches.txt\",\"w\")\n",
    "\n",
    "# with open(\"Output.txt\", \"r\") as ins:\n",
    "#     for line in ins:\n",
    "#         if line.startswith(\"9\"):\n",
    "#             out_file.write(line)\n",
    "\n",
    "# out_file.close()\n"
   ]
  },
  {
   "cell_type": "code",
   "execution_count": 6,
   "metadata": {},
   "outputs": [
    {
     "name": "stderr",
     "output_type": "stream",
     "text": [
      "/Users/hokuma/Library/Python/3.7/lib/python/site-packages/ipykernel_launcher.py:8: DeprecationWarning: executable_path has been deprecated, please pass in a Service object\n",
      "  \n"
     ]
    }
   ],
   "source": [
    "#Match results\n",
    "import time\n",
    "\n",
    "from selenium import webdriver\n",
    "from selenium.webdriver.common.keys import Keys\n",
    "from selenium.webdriver.common.by import By\n",
    "\n",
    "browser = webdriver.Chrome('./chromedriver')\n",
    "\n",
    "browser.get(\"https://www.premierleague.com/results?co=1&se=79&cl=-1\")\n",
    "time.sleep(2)\n",
    "browser.find_element(By.XPATH, '/html/body/div[2]/div/div/div[1]/div[5]/button[1]').click()\n",
    "\n",
    "elem = browser.find_element(By.TAG_NAME,\"body\")\n",
    "\n",
    "no_of_pagedowns = 50\n",
    "\n",
    "while no_of_pagedowns:\n",
    "    elem.send_keys(Keys.PAGE_DOWN)\n",
    "    time.sleep(1)\n",
    "    no_of_pagedowns-=1\n",
    "\n",
    "post_elems = browser.find_elements(By.CLASS_NAME,\"matchFixtureContainer\")\n",
    "\n",
    "text_file = open(\"MatchResults-2018.csv\", \"w\")\n",
    "\n",
    "attribute_lst = ['MatchID', 'Home_team', 'Away_team', \"Score_home\", \"Score_away\"]\n",
    "\n",
    "attribute_lst_str = ','.join(attribute_lst) + '\\n'\n",
    "\n",
    "text_file.write(attribute_lst_str)\n",
    "\n",
    "for post in post_elems:\n",
    "    score_home, score_away = post.find_elements(By.CLASS_NAME,\"score\")[0].text.split(\"-\")\n",
    "    home_team = str(post.get_attribute(\"data-home\"))\n",
    "    away_team = str(post.get_attribute(\"data-away\"))\n",
    "    match_id  = str(post.get_attribute(\"data-comp-match-item\"))\n",
    "    line = match_id + \",\" + home_team + \",\" + away_team + \",\" + score_home + \",\" + score_away + \"\\n\"\n",
    "    text_file.write(line)\n",
    "    \n",
    "text_file.close()"
   ]
  },
  {
   "cell_type": "code",
   "execution_count": null,
   "metadata": {},
   "outputs": [],
   "source": []
  }
 ],
 "metadata": {
  "kernelspec": {
   "display_name": "Python 3.10.5 64-bit",
   "language": "python",
   "name": "python3"
  },
  "language_info": {
   "codemirror_mode": {
    "name": "ipython",
    "version": 3
   },
   "file_extension": ".py",
   "mimetype": "text/x-python",
   "name": "python",
   "nbconvert_exporter": "python",
   "pygments_lexer": "ipython3",
   "version": "3.10.5"
  },
  "vscode": {
   "interpreter": {
    "hash": "b694a669310a5c323d83cd6bdccc295152c93c728ccc5a1acd9f8589f6e654d9"
   }
  }
 },
 "nbformat": 4,
 "nbformat_minor": 2
}
