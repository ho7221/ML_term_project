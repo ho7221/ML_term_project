{
 "cells": [
  {
   "cell_type": "code",
   "execution_count": 3,
   "metadata": {},
   "outputs": [
    {
     "name": "stderr",
     "output_type": "stream",
     "text": [
      "/Users/hokuma/Library/Python/3.7/lib/python/site-packages/ipykernel_launcher.py:7: DeprecationWarning: executable_path has been deprecated, please pass in a Service object\n",
      "  import sys\n"
     ]
    }
   ],
   "source": [
    "# scrap all players from premier league website\n",
    "import time\n",
    "\n",
    "from selenium import webdriver\n",
    "from selenium.webdriver.common.keys import Keys\n",
    "from selenium.webdriver.common.by import By\n",
    "\n",
    "browser = webdriver.Chrome('./chromedriver.exe')\n",
    "browser.get(\"https://www.premierleague.com\")\n",
    "time.sleep(2)\n",
    "browser.find_element(By.XPATH, '/html/body/div[2]/div/div/div[1]/div[5]/button[1]').click()\n",
    "time.sleep(1)\n",
    "year=2018\n",
    "browser.get(\"https://www.premierleague.com/players\")\n",
    "time.sleep(5)\n",
    "elem = browser.find_element(By.TAG_NAME,\"body\")\n",
    "no_of_pagedowns = 100\n",
    "while no_of_pagedowns:\n",
    "    elem.send_keys(Keys.PAGE_DOWN)\n",
    "    time.sleep(1)\n",
    "    no_of_pagedowns-=1\n",
    "trs = browser.find_element(By.CLASS_NAME,\"dataContainer\").find_elements(By.TAG_NAME,\"tr\")\n",
    "text_file = open(\"Players-{year}.txt\".format(year=year), \"w\")\n",
    "for tr in trs:\n",
    "    link=tr.find_element(By.CLASS_NAME,\"playerName\").get_attribute(\"href\")\n",
    "    text_file.write(link.split(\"/\")[4]+\"\\n\")\n",
    "text_file.close()"
   ]
  },
  {
   "cell_type": "code",
   "execution_count": 1,
   "metadata": {},
   "outputs": [
    {
     "name": "stderr",
     "output_type": "stream",
     "text": [
      "/Users/hokuma/Library/Python/3.7/lib/python/site-packages/ipykernel_launcher.py:8: DeprecationWarning: executable_path has been deprecated, please pass in a Service object\n",
      "  \n"
     ]
    }
   ],
   "source": [
    "# scrap all stats from premier league website\n",
    "import time\n",
    "from selenium import webdriver\n",
    "from selenium.webdriver.common.keys import Keys\n",
    "from selenium.common.exceptions import StaleElementReferenceException\n",
    "from selenium.webdriver.common.by import By\n",
    "\n",
    "browser = webdriver.Chrome('./chromedriver')\n",
    "browser.get(\"https://www.premierleague.com\")\n",
    "time.sleep(2)\n",
    "browser.find_element(By.XPATH, '/html/body/div[2]/div/div/div[1]/div[5]/button[1]').click()\n",
    "\n",
    "for year in range(2014,2023):\n",
    "    text_file = open(\"Stats-{year}.txt\".format(year=str(year)),\"w\")\n",
    "    with open(\"Players-{year}.txt\".format(year=str(year)), \"r\") as ins:\n",
    "        for line in ins:\n",
    "            try:\n",
    "                browser.get('https://www.premierleague.com/players/{player}/player/stats'.format(player=line.strip()))\n",
    "                time.sleep(1)\n",
    "                statblocks = browser.find_elements(By.CLASS_NAME,\"statsListBlock\")\n",
    "                for statblock in statblocks:\n",
    "                    stats=statblock.find_elements(By.CLASS_NAME,\"normalStat\")\n",
    "                    text_file.write(\"playerID: \"+line)\n",
    "                    text_file.write(\"player: \"+browser.find_elements(By.CLASS_NAME,\"name\")[-1].text+\"\\n\")\n",
    "                    for stat in stats:\n",
    "                        text_file.write(stat.text+\"\\n\")\n",
    "                text_file.write(\"\\n\")\n",
    "            except:\n",
    "                print(line)\n",
    "    text_file.close()\n"
   ]
  },
  {
   "cell_type": "code",
   "execution_count": null,
   "metadata": {},
   "outputs": [],
   "source": [
    "# convert to csv of stats\n",
    "import csv\n",
    "\n",
    "attributes=['playerID','Name','Clean sheets','Goals Conceded','Tackles','Tackle success %','Last man tackles','Blocked shots','Interceptions','Clearances','Headed Clearance','Clearances off line','Recoveries','Duels won','Duels lost','Successful 50/50s','Aerial battles won','Aerial battles lost','Own goals','Errors leading to goal','Assists','Passes','Passes per match','Big Chances Created','Crosses','Cross accuracy %','Through balls','Accurate long balls','Yellow cards','Red cards','Fouls','Offsides','Goals','Headed goals','Goals with right foot','Goals with left foot','Hit woodwork','Goals per match','Penalties scored','Freekicks scored','Shots','Shots on target','Shooting accuracy %','Big chances missed','Saves','Penalties Saved','Punches','High Claims','Catches','Sweeper clearances','Throw outs','Goal Kicks']\n",
    "for year in range(2013,2023):\n",
    "    txt_file=open('./Stats-{year}.txt'.format(year=str(year)),'r')\n",
    "    csv_file=open('./Stats-{year}.csv'.format(year=str(year)),'w')\n",
    "\n",
    "    writer=csv.writer(csv_file)\n",
    "    writer.writerow(attributes)\n",
    "    writer=csv.DictWriter(csv_file,attributes,restval='0')\n",
    "    pID=-1\n",
    "    stat={}\n",
    "    for line in txt_file:\n",
    "        if pID==-1 and 'playerID' in line: # init\n",
    "            pID=line.split()[1].strip()\n",
    "            pName=txt_file.readline()[8:]\n",
    "            stat['playerID']=pID\n",
    "            stat['Name']=pName.strip()\n",
    "            continue\n",
    "        if line=='\\n': # reset\n",
    "            writer.writerow(stat)\n",
    "            pID=-1\n",
    "            stat={}\n",
    "            continue\n",
    "        if pID!=-1 and 'player' in line: # pass\n",
    "            txt_file.readline()\n",
    "            continue\n",
    "        if line.strip() in attributes:\n",
    "            stat[line.strip()]=txt_file.readline().strip().strip('%')\n",
    "    txt_file.close()\n",
    "    csv_file.close()"
   ]
  }
 ],
 "metadata": {
  "kernelspec": {
   "display_name": "Python 3.7.0 64-bit",
   "language": "python",
   "name": "python3"
  },
  "language_info": {
   "codemirror_mode": {
    "name": "ipython",
    "version": 3
   },
   "file_extension": ".py",
   "mimetype": "text/x-python",
   "name": "python",
   "nbconvert_exporter": "python",
   "pygments_lexer": "ipython3",
   "version": "3.7.0 (v3.7.0:1bf9cc5093, Jun 26 2018, 23:26:24) \n[Clang 6.0 (clang-600.0.57)]"
  },
  "vscode": {
   "interpreter": {
    "hash": "e774977668b7c0ae8309835a5187aa7fbf7669e7d0bb59755bc63e573643edcd"
   }
  }
 },
 "nbformat": 4,
 "nbformat_minor": 2
}
