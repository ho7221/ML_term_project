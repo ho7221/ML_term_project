{
 "cells": [
  {
   "cell_type": "code",
   "execution_count": 3,
   "metadata": {},
   "outputs": [
    {
     "name": "stderr",
     "output_type": "stream",
     "text": [
      "/Users/hokuma/Library/Python/3.7/lib/python/site-packages/ipykernel_launcher.py:7: DeprecationWarning: executable_path has been deprecated, please pass in a Service object\n",
      "  import sys\n"
     ]
    }
   ],
   "source": [
    "import time\n",
    "\n",
    "from selenium import webdriver\n",
    "from selenium.webdriver.common.keys import Keys\n",
    "from selenium.webdriver.common.by import By\n",
    "\n",
    "browser = webdriver.Chrome('./chromedriver')\n",
    "browser.get(\"https://www.premierleague.com\")\n",
    "time.sleep(2)\n",
    "browser.find_element(By.XPATH, '/html/body/div[2]/div/div/div[1]/div[5]/button[1]').click()\n",
    "time.sleep(1)\n",
    "for i in range(10):\n",
    "    year=2022-i\n",
    "    browser.get(\"https://www.premierleague.com/players\")\n",
    "    time.sleep(10)\n",
    "    elem = browser.find_element(By.TAG_NAME,\"body\")\n",
    "\n",
    "    no_of_pagedowns = 100\n",
    "\n",
    "    while no_of_pagedowns:\n",
    "        elem.send_keys(Keys.PAGE_DOWN)\n",
    "        time.sleep(1)\n",
    "        no_of_pagedowns-=1\n",
    "\n",
    "    trs = browser.find_element(By.CLASS_NAME,\"dataContainer\").find_elements(By.TAG_NAME,\"tr\")\n",
    "\n",
    "    text_file = open(\"Players-{year}.txt\".format(year=year), \"w\")\n",
    "    for tr in trs:\n",
    "        link=tr.find_element(By.CLASS_NAME,\"playerName\").get_attribute(\"href\")\n",
    "        text_file.write(link.split(\"/\")[4]+\"\\n\")\n",
    "    text_file.close()"
   ]
  },
  {
   "cell_type": "code",
   "execution_count": 1,
   "metadata": {},
   "outputs": [
    {
     "name": "stderr",
     "output_type": "stream",
     "text": [
      "/Users/hokuma/Library/Python/3.7/lib/python/site-packages/ipykernel_launcher.py:8: DeprecationWarning: executable_path has been deprecated, please pass in a Service object\n",
      "  \n"
     ]
    }
   ],
   "source": [
    "#Match stats\n",
    "import time\n",
    "from selenium import webdriver\n",
    "from selenium.webdriver.common.keys import Keys\n",
    "from selenium.common.exceptions import StaleElementReferenceException\n",
    "from selenium.webdriver.common.by import By\n",
    "\n",
    "browser = webdriver.Chrome('./chromedriver')\n",
    "browser.get(\"https://www.premierleague.com\")\n",
    "time.sleep(2)\n",
    "browser.find_element(By.XPATH, '/html/body/div[2]/div/div/div[1]/div[5]/button[1]').click()\n",
    "\n",
    "for year in range(2014,2023):\n",
    "    text_file = open(\"Stats-{year}.txt\".format(year=str(year)),\"w\")\n",
    "    with open(\"Players-{year}.txt\".format(year=str(year)), \"r\") as ins:\n",
    "        for line in ins:\n",
    "            try:\n",
    "                browser.get('https://www.premierleague.com/players/{player}/player/stats'.format(player=line.strip()))\n",
    "                time.sleep(1)\n",
    "                statblocks = browser.find_elements(By.CLASS_NAME,\"statsListBlock\")\n",
    "                for statblock in statblocks:\n",
    "                    stats=statblock.find_elements(By.CLASS_NAME,\"normalStat\")\n",
    "                    text_file.write(\"playerID: \"+line)\n",
    "                    text_file.write(\"player: \"+browser.find_elements(By.CLASS_NAME,\"name\")[-1].text+\"\\n\")\n",
    "                    for stat in stats:\n",
    "                        text_file.write(stat.text+\"\\n\")\n",
    "                text_file.write(\"\\n\")\n",
    "            except:\n",
    "                print(line)\n",
    "    text_file.close()\n"
   ]
  },
  {
   "cell_type": "code",
   "execution_count": 9,
   "metadata": {},
   "outputs": [
    {
     "name": "stderr",
     "output_type": "stream",
     "text": [
      "/var/folders/6n/txlp40p947xbl8xqx_cmg3cr0000gn/T/ipykernel_19493/3533489699.py:8: DeprecationWarning: executable_path has been deprecated, please pass in a Service object\n",
      "  browser = webdriver.Chrome('./chromedriver')\n"
     ]
    }
   ],
   "source": [
    "#Match results\n",
    "import time\n",
    "\n",
    "from selenium import webdriver\n",
    "from selenium.webdriver.common.keys import Keys\n",
    "from selenium.webdriver.common.by import By\n",
    "\n",
    "browser = webdriver.Chrome('./chromedriver')\n",
    "\n",
    "browser.get(\"https://www.premierleague.com/results?co=1&se=418&cl=-1\")\n",
    "time.sleep(2)\n",
    "browser.find_element(By.XPATH, '/html/body/div[2]/div/div/div[1]/div[5]/button[1]').click()\n",
    "\n",
    "elem = browser.find_element(By.TAG_NAME,\"body\")\n",
    "\n",
    "no_of_pagedowns = 50\n",
    "\n",
    "while no_of_pagedowns:\n",
    "    elem.send_keys(Keys.PAGE_DOWN)\n",
    "    time.sleep(1)\n",
    "    no_of_pagedowns-=1\n",
    "\n",
    "post_elems = browser.find_elements(By.CLASS_NAME,\"matchFixtureContainer\")\n",
    "text_file = open(\"MatchResults-2022.txt\", \"w\")\n",
    "for post in post_elems:\n",
    "    #text_file.write(str(post.get_attribute(\"data-comp-match-item\")) + \"\\n\")\n",
    "    text_file.write(post.text + \"\\n\")\n",
    "    text_file.write(str(post.get_attribute(\"data-comp-match-item\")) + \"\\n\")\n",
    "text_file.close()\n",
    "\n",
    "# out_file = open(\"Matches.txt\",\"w\")\n",
    "\n",
    "# with open(\"Output.txt\", \"r\") as ins:\n",
    "#     for line in ins:\n",
    "#         if line.startswith(\"9\"):\n",
    "#             out_file.write(line)\n",
    "\n",
    "# out_file.close()\n"
   ]
  },
  {
   "cell_type": "code",
   "execution_count": 3,
   "metadata": {},
   "outputs": [
    {
     "name": "stderr",
     "output_type": "stream",
     "text": [
      "/var/folders/6n/txlp40p947xbl8xqx_cmg3cr0000gn/T/ipykernel_21985/939785271.py:8: DeprecationWarning: executable_path has been deprecated, please pass in a Service object\n",
      "  browser = webdriver.Chrome('./chromedriver')\n"
     ]
    }
   ],
   "source": [
    "#Match results\n",
    "import time\n",
    "\n",
    "from selenium import webdriver\n",
    "from selenium.webdriver.common.keys import Keys\n",
    "from selenium.webdriver.common.by import By\n",
    "\n",
    "browser = webdriver.Chrome('./chromedriver')\n",
    "\n",
    "browser.get(\"https://www.premierleague.com/results?co=1&se=418&cl=-1\")\n",
    "time.sleep(2)\n",
    "browser.find_element(By.XPATH, '/html/body/div[2]/div/div/div[1]/div[5]/button[1]').click()\n",
    "\n",
    "elem = browser.find_element(By.TAG_NAME,\"body\")\n",
    "\n",
    "no_of_pagedowns = 50\n",
    "\n",
    "while no_of_pagedowns:\n",
    "    elem.send_keys(Keys.PAGE_DOWN)\n",
    "    time.sleep(1)\n",
    "    no_of_pagedowns-=1\n",
    "\n",
    "post_elems = browser.find_elements(By.CLASS_NAME,\"matchFixtureContainer\")\n",
    "\n",
    "text_file = open(\"MatchResults-2022.csv\", \"w\")\n",
    "\n",
    "attribute_lst = ['MatchID', 'Home_team', 'Away_team', \"Score_home\", \"Score_away\"]\n",
    "\n",
    "attribute_lst_str = ','.join(attribute_lst) + '\\n'\n",
    "\n",
    "text_file.write(attribute_lst_str)\n",
    "\n",
    "for post in post_elems:\n",
    "    score_home, score_away = post.find_elements(By.CLASS_NAME,\"score\")[0].text.split(\"-\")\n",
    "    home_team = str(post.get_attribute(\"data-home\"))\n",
    "    away_team = str(post.get_attribute(\"data-away\"))\n",
    "    match_id  = str(post.get_attribute(\"data-comp-match-item\"))\n",
    "    line = match_id + \",\" + home_team + \",\" + away_team + \",\" + score_home + \",\" + score_away + \"\\n\"\n",
    "    text_file.write(line)\n",
    "    \n",
    "text_file.close()"
   ]
  }
 ],
 "metadata": {
  "kernelspec": {
   "display_name": "Python 3.7.0 64-bit",
   "language": "python",
   "name": "python3"
  },
  "language_info": {
   "codemirror_mode": {
    "name": "ipython",
    "version": 3
   },
   "file_extension": ".py",
   "mimetype": "text/x-python",
   "name": "python",
   "nbconvert_exporter": "python",
   "pygments_lexer": "ipython3",
   "version": "3.7.0"
  },
  "vscode": {
   "interpreter": {
    "hash": "e774977668b7c0ae8309835a5187aa7fbf7669e7d0bb59755bc63e573643edcd"
   }
  }
 },
 "nbformat": 4,
 "nbformat_minor": 2
}
