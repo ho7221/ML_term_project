{
 "cells": [
  {
   "cell_type": "code",
   "execution_count": 10,
   "metadata": {},
   "outputs": [],
   "source": [
    "import csv\n",
    "\n",
    "attributes=['playerID','Name','Clean sheets','Goals Conceded','Tackles','Tackle success %','Last man tackles','Blocked shots','Interceptions','Clearances','Headed Clearance','Clearances off line','Recoveries','Duels won','Duels lost','Successful 50/50s','Aerial battles won','Aerial battles lost','Own goals','Errors leading to goal','Assists','Passes','Passes per match','Big Chances Created','Crosses','Cross accuracy %','Through balls','Accurate long balls','Yellow cards','Red cards','Fouls','Offsides','Goals','Headed goals','Goals with right foot','Goals with left foot','Hit woodwork','Goals per match','Penalties scored','Freekicks scored','Shots','Shots on target','Shooting accuracy %','Big chances missed','Saves','Penalties Saved','Punches','High Claims','Catches','Sweeper clearances','Throw outs','Goal Kicks']\n",
    "for year in range(2013,2023):\n",
    "    txt_file=open('./Stats-{year}.txt'.format(year=str(year)),'r')\n",
    "    csv_file=open('./Stats-{year}.csv'.format(year=str(year)),'w')\n",
    "\n",
    "    writer=csv.writer(csv_file)\n",
    "    writer.writerow(attributes)\n",
    "    writer=csv.DictWriter(csv_file,attributes,restval='0')\n",
    "    pID=-1\n",
    "    stat={}\n",
    "    for line in txt_file:\n",
    "        if pID==-1 and 'playerID' in line: # init\n",
    "            pID=line.split()[1].strip()\n",
    "            pName=txt_file.readline()[8:]\n",
    "            stat['playerID']=pID\n",
    "            stat['Name']=pName.strip()\n",
    "            continue\n",
    "        if line=='\\n': # reset\n",
    "            writer.writerow(stat)\n",
    "            pID=-1\n",
    "            stat={}\n",
    "            continue\n",
    "        if pID!=-1 and 'player' in line: # pass\n",
    "            txt_file.readline()\n",
    "            continue\n",
    "        if line.strip() in attributes:\n",
    "            stat[line.strip()]=txt_file.readline().strip().strip('%')\n",
    "    txt_file.close()\n",
    "    csv_file.close()\n",
    "\n",
    "\n",
    "        \n",
    "\n"
   ]
  }
 ],
 "metadata": {
  "kernelspec": {
   "display_name": "Python 3.10.6 64-bit",
   "language": "python",
   "name": "python3"
  },
  "language_info": {
   "codemirror_mode": {
    "name": "ipython",
    "version": 3
   },
   "file_extension": ".py",
   "mimetype": "text/x-python",
   "name": "python",
   "nbconvert_exporter": "python",
   "pygments_lexer": "ipython3",
   "version": "3.10.6"
  },
  "orig_nbformat": 4,
  "vscode": {
   "interpreter": {
    "hash": "b0fa6594d8f4cbf19f97940f81e996739fb7646882a419484c72d19e05852a7e"
   }
  }
 },
 "nbformat": 4,
 "nbformat_minor": 2
}
