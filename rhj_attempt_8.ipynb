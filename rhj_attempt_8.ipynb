{
 "cells": [
  {
   "cell_type": "code",
   "execution_count": 23,
   "metadata": {},
   "outputs": [],
   "source": [
    "import numpy as np\n",
    "import pandas as pd\n",
    "from sklearn.model_selection import train_test_split\n",
    "from sklearn.ensemble import RandomForestClassifier\n",
    "from sklearn.preprocessing import StandardScaler\n",
    "from sklearn.linear_model import LogisticRegression\n",
    "import matplotlib.pyplot as plt\n",
    "import seaborn as sns"
   ]
  },
  {
   "cell_type": "markdown",
   "source": [
    "When importing dataset, by sorting with MatchID, dataset is now timeseries dataset. Every feature is (home-away) and result is decided with score diff. We have total 50 feature differences."
   ],
   "metadata": {
    "collapsed": false
   }
  },
  {
   "cell_type": "code",
   "execution_count": 24,
   "metadata": {},
   "outputs": [],
   "source": [
    "data=pd.read_csv('Data/Dataset.csv').drop(['Unnamed: 0'],axis=1).sort_values(by=['MatchID'])\n",
    "df_home=data.filter(regex='home').rename(columns=lambda x:x.replace('_home',''))\n",
    "df_away=data.filter(regex='away').rename(columns=lambda x:x.replace('_away',''))\n",
    "df_diff=df_home-df_away\n",
    "cond=[(df_diff['Score']<0),(df_diff['Score']==0),(df_diff['Score']>0)]\n",
    "val=['Away','Draw','Home']\n",
    "df_diff['Result']=np.select(cond,val)\n",
    "df_diff=df_diff.drop(columns=['Score'])\n",
    "X=df_diff.iloc[:,:-1]\n",
    "y=df_diff.iloc[:,-1:]"
   ]
  },
  {
   "cell_type": "code",
   "execution_count": 25,
   "outputs": [],
   "source": [
    "scaler = StandardScaler().fit(X)\n",
    "X_scaled = scaler.transform(X)"
   ],
   "metadata": {
    "collapsed": false
   }
  },
  {
   "cell_type": "markdown",
   "source": [
    "## Train,Test,Validation set split\n",
    "Split train,test,validation set into 0.8,0.1,0.1"
   ],
   "metadata": {
    "collapsed": false
   }
  },
  {
   "cell_type": "code",
   "execution_count": 26,
   "metadata": {},
   "outputs": [],
   "source": [
    "X_train,X_test,y_train,y_test=train_test_split(X,y,test_size=0.2)\n",
    "X_test,X_val,y_test,y_val=train_test_split(X_test,y_test,test_size=0.5)"
   ]
  },
  {
   "cell_type": "code",
   "execution_count": 27,
   "outputs": [
    {
     "data": {
      "text/plain": "((2836, 50), (2836, 1), (354, 50), (354, 1), (355, 50), (355, 1))"
     },
     "execution_count": 27,
     "metadata": {},
     "output_type": "execute_result"
    }
   ],
   "source": [
    "X_train.shape, y_train.shape, X_test.shape, y_test.shape, X_val.shape, y_val.shape"
   ],
   "metadata": {
    "collapsed": false
   }
  },
  {
   "cell_type": "code",
   "execution_count": 27,
   "outputs": [],
   "source": [],
   "metadata": {
    "collapsed": false
   }
  },
  {
   "cell_type": "markdown",
   "source": [
    "## Feature selection"
   ],
   "metadata": {
    "collapsed": false
   }
  },
  {
   "cell_type": "code",
   "execution_count": 28,
   "outputs": [
    {
     "name": "stdout",
     "output_type": "stream",
     "text": [
      "Feature ranking:\n",
      "1. feature Assists (0.038)\n",
      "2. feature Clean sheets (0.037)\n",
      "3. feature Goals (0.032)\n",
      "4. feature Big Chances Created (0.030)\n",
      "5. feature Goals Conceded (0.030)\n",
      "6. feature Passes (0.029)\n",
      "7. feature Blocked shots (0.026)\n",
      "8. feature Shots on target (0.022)\n",
      "9. feature Goals with right foot (0.021)\n",
      "10. feature Tackle success % (0.021)\n",
      "11. feature Through balls (0.020)\n",
      "12. feature Cross accuracy % (0.020)\n",
      "13. feature Penalties scored (0.020)\n",
      "14. feature Goals with left foot (0.019)\n",
      "15. feature Hit woodwork (0.019)\n",
      "16. feature Accurate long balls (0.019)\n",
      "17. feature Sweeper clearances (0.019)\n",
      "18. feature Shooting accuracy % (0.019)\n",
      "19. feature Throw outs (0.019)\n",
      "20. feature Clearances off line (0.019)\n",
      "21. feature Big chances missed (0.019)\n",
      "22. feature Punches (0.019)\n",
      "23. feature Shots (0.019)\n",
      "24. feature Headed goals (0.018)\n",
      "25. feature Own goals (0.018)\n",
      "26. feature Catches (0.018)\n",
      "27. feature Crosses (0.018)\n",
      "28. feature Interceptions (0.018)\n",
      "29. feature Passes per match (0.018)\n",
      "30. feature Errors leading to goal (0.018)\n",
      "31. feature High Claims (0.018)\n",
      "32. feature Freekicks scored (0.018)\n",
      "33. feature Last man tackles (0.018)\n",
      "34. feature Offsides (0.017)\n",
      "35. feature Red cards (0.017)\n",
      "36. feature Clearances (0.017)\n",
      "37. feature Yellow cards (0.017)\n",
      "38. feature Penalties Saved (0.017)\n",
      "39. feature Goal Kicks (0.017)\n",
      "40. feature Tackles (0.017)\n",
      "41. feature Aerial battles lost (0.017)\n",
      "42. feature Aerial battles won (0.017)\n",
      "43. feature Successful 50/50s (0.016)\n",
      "44. feature Duels lost (0.016)\n",
      "45. feature Goals per match (0.016)\n",
      "46. feature Recoveries (0.016)\n",
      "47. feature Saves (0.016)\n",
      "48. feature Fouls (0.016)\n",
      "49. feature Headed Clearance (0.016)\n",
      "50. feature Duels won (0.016)\n"
     ]
    },
    {
     "ename": "ImportError",
     "evalue": "cannot import name '_check_savefig_extra_args' from 'matplotlib.backend_bases' (/Users/hokuma/miniconda/lib/python3.9/site-packages/matplotlib/backend_bases.py)",
     "output_type": "error",
     "traceback": [
      "\u001B[0;31m---------------------------------------------------------------------------\u001B[0m",
      "\u001B[0;31mImportError\u001B[0m                               Traceback (most recent call last)",
      "Cell \u001B[0;32mIn [28], line 14\u001B[0m\n\u001B[1;32m     11\u001B[0m     \u001B[38;5;28mprint\u001B[39m(\u001B[38;5;124m\"\u001B[39m\u001B[38;5;132;01m{}\u001B[39;00m\u001B[38;5;124m. feature \u001B[39m\u001B[38;5;132;01m{}\u001B[39;00m\u001B[38;5;124m (\u001B[39m\u001B[38;5;132;01m{:.3f}\u001B[39;00m\u001B[38;5;124m)\u001B[39m\u001B[38;5;124m\"\u001B[39m\u001B[38;5;241m.\u001B[39mformat(f \u001B[38;5;241m+\u001B[39m \u001B[38;5;241m1\u001B[39m, X\u001B[38;5;241m.\u001B[39mcolumns[indices][f], importances[indices[f]]))\n\u001B[1;32m     13\u001B[0m \u001B[38;5;66;03m# Plot the impurity-based feature importances of the forest\u001B[39;00m\n\u001B[0;32m---> 14\u001B[0m \u001B[43mplt\u001B[49m\u001B[38;5;241;43m.\u001B[39;49m\u001B[43mfigure\u001B[49m\u001B[43m(\u001B[49m\u001B[43m)\u001B[49m\n\u001B[1;32m     15\u001B[0m plt\u001B[38;5;241m.\u001B[39mtitle(\u001B[38;5;124m\"\u001B[39m\u001B[38;5;124mFeature importances\u001B[39m\u001B[38;5;124m\"\u001B[39m)\n\u001B[1;32m     16\u001B[0m plt\u001B[38;5;241m.\u001B[39mbar(\u001B[38;5;28mrange\u001B[39m(X\u001B[38;5;241m.\u001B[39mshape[\u001B[38;5;241m1\u001B[39m]), importances[indices],\n\u001B[1;32m     17\u001B[0m         color\u001B[38;5;241m=\u001B[39m\u001B[38;5;124m\"\u001B[39m\u001B[38;5;124mr\u001B[39m\u001B[38;5;124m\"\u001B[39m, yerr\u001B[38;5;241m=\u001B[39mstd[indices], align\u001B[38;5;241m=\u001B[39m\u001B[38;5;124m\"\u001B[39m\u001B[38;5;124mcenter\u001B[39m\u001B[38;5;124m\"\u001B[39m)\n",
      "File \u001B[0;32m~/miniconda/lib/python3.9/site-packages/matplotlib/_api/deprecation.py:454\u001B[0m, in \u001B[0;36mwrapper\u001B[0;34m(*args, **kwargs)\u001B[0m\n\u001B[1;32m    448\u001B[0m \u001B[38;5;129m@functools\u001B[39m\u001B[38;5;241m.\u001B[39mwraps(func)\n\u001B[1;32m    449\u001B[0m \u001B[38;5;28;01mdef\u001B[39;00m \u001B[38;5;21mwrapper\u001B[39m(\u001B[38;5;241m*\u001B[39margs, \u001B[38;5;241m*\u001B[39m\u001B[38;5;241m*\u001B[39mkwargs):\n\u001B[1;32m    450\u001B[0m     \u001B[38;5;66;03m# Don't use signature.bind here, as it would fail when stacked with\u001B[39;00m\n\u001B[1;32m    451\u001B[0m     \u001B[38;5;66;03m# rename_parameter and an \"old\" argument name is passed in\u001B[39;00m\n\u001B[1;32m    452\u001B[0m     \u001B[38;5;66;03m# (signature.bind would fail, but the actual call would succeed).\u001B[39;00m\n\u001B[1;32m    453\u001B[0m     \u001B[38;5;28;01mif\u001B[39;00m \u001B[38;5;28mlen\u001B[39m(args) \u001B[38;5;241m>\u001B[39m name_idx:\n\u001B[0;32m--> 454\u001B[0m         warn_deprecated(\n\u001B[1;32m    455\u001B[0m             since, message\u001B[38;5;241m=\u001B[39m\u001B[38;5;124m\"\u001B[39m\u001B[38;5;124mPassing the \u001B[39m\u001B[38;5;132;01m%(name)s\u001B[39;00m\u001B[38;5;124m \u001B[39m\u001B[38;5;132;01m%(obj_type)s\u001B[39;00m\u001B[38;5;124m \u001B[39m\u001B[38;5;124m\"\u001B[39m\n\u001B[1;32m    456\u001B[0m             \u001B[38;5;124m\"\u001B[39m\u001B[38;5;124mpositionally is deprecated since Matplotlib \u001B[39m\u001B[38;5;132;01m%(since)s\u001B[39;00m\u001B[38;5;124m; the \u001B[39m\u001B[38;5;124m\"\u001B[39m\n\u001B[1;32m    457\u001B[0m             \u001B[38;5;124m\"\u001B[39m\u001B[38;5;124mparameter will become keyword-only \u001B[39m\u001B[38;5;132;01m%(removal)s\u001B[39;00m\u001B[38;5;124m.\u001B[39m\u001B[38;5;124m\"\u001B[39m,\n\u001B[1;32m    458\u001B[0m             name\u001B[38;5;241m=\u001B[39mname, obj_type\u001B[38;5;241m=\u001B[39m\u001B[38;5;124mf\u001B[39m\u001B[38;5;124m\"\u001B[39m\u001B[38;5;124mparameter of \u001B[39m\u001B[38;5;132;01m{\u001B[39;00mfunc\u001B[38;5;241m.\u001B[39m\u001B[38;5;18m__name__\u001B[39m\u001B[38;5;132;01m}\u001B[39;00m\u001B[38;5;124m()\u001B[39m\u001B[38;5;124m\"\u001B[39m)\n\u001B[1;32m    459\u001B[0m     \u001B[38;5;28;01mreturn\u001B[39;00m func(\u001B[38;5;241m*\u001B[39margs, \u001B[38;5;241m*\u001B[39m\u001B[38;5;241m*\u001B[39mkwargs)\n",
      "File \u001B[0;32m~/miniconda/lib/python3.9/site-packages/matplotlib/pyplot.py:783\u001B[0m, in \u001B[0;36mfigure\u001B[0;34m(num, figsize, dpi, facecolor, edgecolor, frameon, FigureClass, clear, **kwargs)\u001B[0m\n\u001B[1;32m    781\u001B[0m \u001B[38;5;28;01mif\u001B[39;00m num \u001B[38;5;129;01mis\u001B[39;00m \u001B[38;5;28;01mNone\u001B[39;00m:\n\u001B[1;32m    782\u001B[0m     num \u001B[38;5;241m=\u001B[39m next_num\n\u001B[0;32m--> 783\u001B[0m \u001B[38;5;28;01melif\u001B[39;00m \u001B[38;5;28misinstance\u001B[39m(num, \u001B[38;5;28mstr\u001B[39m):\n\u001B[1;32m    784\u001B[0m     fig_label \u001B[38;5;241m=\u001B[39m num\n\u001B[1;32m    785\u001B[0m     all_labels \u001B[38;5;241m=\u001B[39m get_figlabels()\n",
      "File \u001B[0;32m~/miniconda/lib/python3.9/site-packages/matplotlib/pyplot.py:358\u001B[0m, in \u001B[0;36mnew_figure_manager\u001B[0;34m(*args, **kwargs)\u001B[0m\n\u001B[1;32m    344\u001B[0m \u001B[38;5;28;01mdef\u001B[39;00m \u001B[38;5;21mshow\u001B[39m(\u001B[38;5;241m*\u001B[39margs, \u001B[38;5;241m*\u001B[39m\u001B[38;5;241m*\u001B[39mkwargs):\n\u001B[1;32m    345\u001B[0m     \u001B[38;5;124;03m\"\"\"\u001B[39;00m\n\u001B[1;32m    346\u001B[0m \u001B[38;5;124;03m    Display all open figures.\u001B[39;00m\n\u001B[1;32m    347\u001B[0m \n\u001B[1;32m    348\u001B[0m \u001B[38;5;124;03m    Parameters\u001B[39;00m\n\u001B[1;32m    349\u001B[0m \u001B[38;5;124;03m    ----------\u001B[39;00m\n\u001B[1;32m    350\u001B[0m \u001B[38;5;124;03m    block : bool, optional\u001B[39;00m\n\u001B[1;32m    351\u001B[0m \u001B[38;5;124;03m        Whether to wait for all figures to be closed before returning.\u001B[39;00m\n\u001B[1;32m    352\u001B[0m \n\u001B[1;32m    353\u001B[0m \u001B[38;5;124;03m        If `True` block and run the GUI main loop until all figure windows\u001B[39;00m\n\u001B[1;32m    354\u001B[0m \u001B[38;5;124;03m        are closed.\u001B[39;00m\n\u001B[1;32m    355\u001B[0m \n\u001B[1;32m    356\u001B[0m \u001B[38;5;124;03m        If `False` ensure that all figure windows are displayed and return\u001B[39;00m\n\u001B[1;32m    357\u001B[0m \u001B[38;5;124;03m        immediately.  In this case, you are responsible for ensuring\u001B[39;00m\n\u001B[0;32m--> 358\u001B[0m \u001B[38;5;124;03m        that the event loop is running to have responsive figures.\u001B[39;00m\n\u001B[1;32m    359\u001B[0m \n\u001B[1;32m    360\u001B[0m \u001B[38;5;124;03m        Defaults to True in non-interactive mode and to False in interactive\u001B[39;00m\n\u001B[1;32m    361\u001B[0m \u001B[38;5;124;03m        mode (see `.pyplot.isinteractive`).\u001B[39;00m\n\u001B[1;32m    362\u001B[0m \n\u001B[1;32m    363\u001B[0m \u001B[38;5;124;03m    See Also\u001B[39;00m\n\u001B[1;32m    364\u001B[0m \u001B[38;5;124;03m    --------\u001B[39;00m\n\u001B[1;32m    365\u001B[0m \u001B[38;5;124;03m    ion : Enable interactive mode, which shows / updates the figure after\u001B[39;00m\n\u001B[1;32m    366\u001B[0m \u001B[38;5;124;03m          every plotting command, so that calling ``show()`` is not necessary.\u001B[39;00m\n\u001B[1;32m    367\u001B[0m \u001B[38;5;124;03m    ioff : Disable interactive mode.\u001B[39;00m\n\u001B[1;32m    368\u001B[0m \u001B[38;5;124;03m    savefig : Save the figure to an image file instead of showing it on screen.\u001B[39;00m\n\u001B[1;32m    369\u001B[0m \n\u001B[1;32m    370\u001B[0m \u001B[38;5;124;03m    Notes\u001B[39;00m\n\u001B[1;32m    371\u001B[0m \u001B[38;5;124;03m    -----\u001B[39;00m\n\u001B[1;32m    372\u001B[0m \u001B[38;5;124;03m    **Saving figures to file and showing a window at the same time**\u001B[39;00m\n\u001B[1;32m    373\u001B[0m \n\u001B[1;32m    374\u001B[0m \u001B[38;5;124;03m    If you want an image file as well as a user interface window, use\u001B[39;00m\n\u001B[1;32m    375\u001B[0m \u001B[38;5;124;03m    `.pyplot.savefig` before `.pyplot.show`. At the end of (a blocking)\u001B[39;00m\n\u001B[1;32m    376\u001B[0m \u001B[38;5;124;03m    ``show()`` the figure is closed and thus unregistered from pyplot. Calling\u001B[39;00m\n\u001B[1;32m    377\u001B[0m \u001B[38;5;124;03m    `.pyplot.savefig` afterwards would save a new and thus empty figure. This\u001B[39;00m\n\u001B[1;32m    378\u001B[0m \u001B[38;5;124;03m    limitation of command order does not apply if the show is non-blocking or\u001B[39;00m\n\u001B[1;32m    379\u001B[0m \u001B[38;5;124;03m    if you keep a reference to the figure and use `.Figure.savefig`.\u001B[39;00m\n\u001B[1;32m    380\u001B[0m \n\u001B[1;32m    381\u001B[0m \u001B[38;5;124;03m    **Auto-show in jupyter notebooks**\u001B[39;00m\n\u001B[1;32m    382\u001B[0m \n\u001B[1;32m    383\u001B[0m \u001B[38;5;124;03m    The jupyter backends (activated via ``%matplotlib inline``,\u001B[39;00m\n\u001B[1;32m    384\u001B[0m \u001B[38;5;124;03m    ``%matplotlib notebook``, or ``%matplotlib widget``), call ``show()`` at\u001B[39;00m\n\u001B[1;32m    385\u001B[0m \u001B[38;5;124;03m    the end of every cell by default. Thus, you usually don't have to call it\u001B[39;00m\n\u001B[1;32m    386\u001B[0m \u001B[38;5;124;03m    explicitly there.\u001B[39;00m\n\u001B[1;32m    387\u001B[0m \u001B[38;5;124;03m    \"\"\"\u001B[39;00m\n\u001B[1;32m    388\u001B[0m     _warn_if_gui_out_of_main_thread()\n\u001B[1;32m    389\u001B[0m     \u001B[38;5;28;01mreturn\u001B[39;00m _get_backend_mod()\u001B[38;5;241m.\u001B[39mshow(\u001B[38;5;241m*\u001B[39margs, \u001B[38;5;241m*\u001B[39m\u001B[38;5;241m*\u001B[39mkwargs)\n",
      "File \u001B[0;32m~/miniconda/lib/python3.9/site-packages/matplotlib/pyplot.py:336\u001B[0m, in \u001B[0;36m_warn_if_gui_out_of_main_thread\u001B[0;34m()\u001B[0m\n\u001B[1;32m    331\u001B[0m \u001B[38;5;28;01mdef\u001B[39;00m \u001B[38;5;21mdraw_if_interactive\u001B[39m(\u001B[38;5;241m*\u001B[39margs, \u001B[38;5;241m*\u001B[39m\u001B[38;5;241m*\u001B[39mkwargs):\n\u001B[1;32m    332\u001B[0m     \u001B[38;5;124;03m\"\"\"\u001B[39;00m\n\u001B[1;32m    333\u001B[0m \u001B[38;5;124;03m    Redraw the current figure if in interactive mode.\u001B[39;00m\n\u001B[1;32m    334\u001B[0m \n\u001B[1;32m    335\u001B[0m \u001B[38;5;124;03m    .. warning::\u001B[39;00m\n\u001B[0;32m--> 336\u001B[0m \n\u001B[1;32m    337\u001B[0m \u001B[38;5;124;03m        End users will typically not have to call this function because the\u001B[39;00m\n\u001B[1;32m    338\u001B[0m \u001B[38;5;124;03m        the interactive mode takes care of this.\u001B[39;00m\n\u001B[1;32m    339\u001B[0m \u001B[38;5;124;03m    \"\"\"\u001B[39;00m\n\u001B[1;32m    340\u001B[0m     \u001B[38;5;28;01mreturn\u001B[39;00m _get_backend_mod()\u001B[38;5;241m.\u001B[39mdraw_if_interactive(\u001B[38;5;241m*\u001B[39margs, \u001B[38;5;241m*\u001B[39m\u001B[38;5;241m*\u001B[39mkwargs)\n",
      "File \u001B[0;32m~/miniconda/lib/python3.9/site-packages/matplotlib/pyplot.py:207\u001B[0m, in \u001B[0;36m_get_backend_mod\u001B[0;34m()\u001B[0m\n\u001B[1;32m    201\u001B[0m     \u001B[38;5;28;01mreturn\u001B[39;00m \u001B[38;5;28mgetattr\u001B[39m(\n\u001B[1;32m    202\u001B[0m         backend_mod\u001B[38;5;241m.\u001B[39mFigureCanvas, \u001B[38;5;124m\"\u001B[39m\u001B[38;5;124mrequired_interactive_framework\u001B[39m\u001B[38;5;124m\"\u001B[39m, \u001B[38;5;28;01mNone\u001B[39;00m)\n\u001B[1;32m    204\u001B[0m _backend_mod \u001B[38;5;241m=\u001B[39m \u001B[38;5;28;01mNone\u001B[39;00m\n\u001B[0;32m--> 207\u001B[0m \u001B[38;5;28;01mdef\u001B[39;00m \u001B[38;5;21m_get_backend_mod\u001B[39m():\n\u001B[1;32m    208\u001B[0m     \u001B[38;5;124;03m\"\"\"\u001B[39;00m\n\u001B[1;32m    209\u001B[0m \u001B[38;5;124;03m    Ensure that a backend is selected and return it.\u001B[39;00m\n\u001B[1;32m    210\u001B[0m \n\u001B[1;32m    211\u001B[0m \u001B[38;5;124;03m    This is currently private, but may be made public in the future.\u001B[39;00m\n\u001B[1;32m    212\u001B[0m \u001B[38;5;124;03m    \"\"\"\u001B[39;00m\n\u001B[1;32m    213\u001B[0m     \u001B[38;5;28;01mif\u001B[39;00m _backend_mod \u001B[38;5;129;01mis\u001B[39;00m \u001B[38;5;28;01mNone\u001B[39;00m:\n\u001B[1;32m    214\u001B[0m         \u001B[38;5;66;03m# Use __getitem__ here to avoid going through the fallback logic (which\u001B[39;00m\n\u001B[1;32m    215\u001B[0m         \u001B[38;5;66;03m# will (re)import pyplot and then call switch_backend if we need to\u001B[39;00m\n\u001B[1;32m    216\u001B[0m         \u001B[38;5;66;03m# resolve the auto sentinel)\u001B[39;00m\n",
      "File \u001B[0;32m~/miniconda/lib/python3.9/site-packages/matplotlib/pyplot.py:265\u001B[0m, in \u001B[0;36mswitch_backend\u001B[0;34m(newbackend)\u001B[0m\n\u001B[1;32m    259\u001B[0m     candidates = []\n\u001B[1;32m    260\u001B[0m candidates += [\n\u001B[1;32m    261\u001B[0m     \"macosx\", \"qtagg\", \"gtk4agg\", \"gtk3agg\", \"tkagg\", \"wxagg\"]\n\u001B[1;32m    263\u001B[0m # Don't try to fallback on the cairo-based backends as they each have\n\u001B[1;32m    264\u001B[0m # an additional dependency (pycairo) over the agg-based backend, and\n\u001B[0;32m--> 265\u001B[0m # are of worse quality.\n\u001B[1;32m    266\u001B[0m for candidate in candidates:\n\u001B[1;32m    267\u001B[0m     try:\n",
      "File \u001B[0;32m~/miniconda/lib/python3.9/importlib/__init__.py:127\u001B[0m, in \u001B[0;36mimport_module\u001B[0;34m(name, package)\u001B[0m\n\u001B[1;32m    125\u001B[0m             \u001B[38;5;28;01mbreak\u001B[39;00m\n\u001B[1;32m    126\u001B[0m         level \u001B[38;5;241m+\u001B[39m\u001B[38;5;241m=\u001B[39m \u001B[38;5;241m1\u001B[39m\n\u001B[0;32m--> 127\u001B[0m \u001B[38;5;28;01mreturn\u001B[39;00m \u001B[43m_bootstrap\u001B[49m\u001B[38;5;241;43m.\u001B[39;49m\u001B[43m_gcd_import\u001B[49m\u001B[43m(\u001B[49m\u001B[43mname\u001B[49m\u001B[43m[\u001B[49m\u001B[43mlevel\u001B[49m\u001B[43m:\u001B[49m\u001B[43m]\u001B[49m\u001B[43m,\u001B[49m\u001B[43m \u001B[49m\u001B[43mpackage\u001B[49m\u001B[43m,\u001B[49m\u001B[43m \u001B[49m\u001B[43mlevel\u001B[49m\u001B[43m)\u001B[49m\n",
      "File \u001B[0;32m<frozen importlib._bootstrap>:1030\u001B[0m, in \u001B[0;36m_gcd_import\u001B[0;34m(name, package, level)\u001B[0m\n",
      "File \u001B[0;32m<frozen importlib._bootstrap>:1007\u001B[0m, in \u001B[0;36m_find_and_load\u001B[0;34m(name, import_)\u001B[0m\n",
      "File \u001B[0;32m<frozen importlib._bootstrap>:972\u001B[0m, in \u001B[0;36m_find_and_load_unlocked\u001B[0;34m(name, import_)\u001B[0m\n",
      "File \u001B[0;32m<frozen importlib._bootstrap>:228\u001B[0m, in \u001B[0;36m_call_with_frames_removed\u001B[0;34m(f, *args, **kwds)\u001B[0m\n",
      "File \u001B[0;32m<frozen importlib._bootstrap>:1030\u001B[0m, in \u001B[0;36m_gcd_import\u001B[0;34m(name, package, level)\u001B[0m\n",
      "File \u001B[0;32m<frozen importlib._bootstrap>:1007\u001B[0m, in \u001B[0;36m_find_and_load\u001B[0;34m(name, import_)\u001B[0m\n",
      "File \u001B[0;32m<frozen importlib._bootstrap>:986\u001B[0m, in \u001B[0;36m_find_and_load_unlocked\u001B[0;34m(name, import_)\u001B[0m\n",
      "File \u001B[0;32m<frozen importlib._bootstrap>:680\u001B[0m, in \u001B[0;36m_load_unlocked\u001B[0;34m(spec)\u001B[0m\n",
      "File \u001B[0;32m<frozen importlib._bootstrap_external>:850\u001B[0m, in \u001B[0;36mexec_module\u001B[0;34m(self, module)\u001B[0m\n",
      "File \u001B[0;32m<frozen importlib._bootstrap>:228\u001B[0m, in \u001B[0;36m_call_with_frames_removed\u001B[0;34m(f, *args, **kwds)\u001B[0m\n",
      "File \u001B[0;32m~/miniconda/lib/python3.9/site-packages/matplotlib_inline/__init__.py:1\u001B[0m\n\u001B[0;32m----> 1\u001B[0m \u001B[38;5;28;01mfrom\u001B[39;00m \u001B[38;5;21;01m.\u001B[39;00m \u001B[38;5;28;01mimport\u001B[39;00m backend_inline, config  \u001B[38;5;66;03m# noqa\u001B[39;00m\n\u001B[1;32m      2\u001B[0m __version__ \u001B[38;5;241m=\u001B[39m \u001B[38;5;124m\"\u001B[39m\u001B[38;5;124m0.1.6\u001B[39m\u001B[38;5;124m\"\u001B[39m\n",
      "File \u001B[0;32m~/miniconda/lib/python3.9/site-packages/matplotlib_inline/backend_inline.py:8\u001B[0m\n\u001B[1;32m      6\u001B[0m \u001B[38;5;28;01mimport\u001B[39;00m \u001B[38;5;21;01mmatplotlib\u001B[39;00m\n\u001B[1;32m      7\u001B[0m \u001B[38;5;28;01mfrom\u001B[39;00m \u001B[38;5;21;01mmatplotlib\u001B[39;00m \u001B[38;5;28;01mimport\u001B[39;00m colors\n\u001B[0;32m----> 8\u001B[0m \u001B[38;5;28;01mfrom\u001B[39;00m \u001B[38;5;21;01mmatplotlib\u001B[39;00m\u001B[38;5;21;01m.\u001B[39;00m\u001B[38;5;21;01mbackends\u001B[39;00m \u001B[38;5;28;01mimport\u001B[39;00m backend_agg\n\u001B[1;32m      9\u001B[0m \u001B[38;5;28;01mfrom\u001B[39;00m \u001B[38;5;21;01mmatplotlib\u001B[39;00m\u001B[38;5;21;01m.\u001B[39;00m\u001B[38;5;21;01mbackends\u001B[39;00m\u001B[38;5;21;01m.\u001B[39;00m\u001B[38;5;21;01mbackend_agg\u001B[39;00m \u001B[38;5;28;01mimport\u001B[39;00m FigureCanvasAgg\n\u001B[1;32m     10\u001B[0m \u001B[38;5;28;01mfrom\u001B[39;00m \u001B[38;5;21;01mmatplotlib\u001B[39;00m\u001B[38;5;21;01m.\u001B[39;00m\u001B[38;5;21;01m_pylab_helpers\u001B[39;00m \u001B[38;5;28;01mimport\u001B[39;00m Gcf\n",
      "File \u001B[0;32m~/miniconda/lib/python3.9/site-packages/matplotlib/backends/backend_agg.py:37\u001B[0m\n\u001B[1;32m     35\u001B[0m \u001B[38;5;28;01mfrom\u001B[39;00m \u001B[38;5;21;01mmatplotlib\u001B[39;00m \u001B[38;5;28;01mimport\u001B[39;00m _api, cbook\n\u001B[1;32m     36\u001B[0m \u001B[38;5;28;01mfrom\u001B[39;00m \u001B[38;5;21;01mmatplotlib\u001B[39;00m \u001B[38;5;28;01mimport\u001B[39;00m colors \u001B[38;5;28;01mas\u001B[39;00m mcolors\n\u001B[0;32m---> 37\u001B[0m \u001B[38;5;28;01mfrom\u001B[39;00m \u001B[38;5;21;01mmatplotlib\u001B[39;00m\u001B[38;5;21;01m.\u001B[39;00m\u001B[38;5;21;01mbackend_bases\u001B[39;00m \u001B[38;5;28;01mimport\u001B[39;00m (\n\u001B[1;32m     38\u001B[0m     _Backend, _check_savefig_extra_args, FigureCanvasBase, FigureManagerBase,\n\u001B[1;32m     39\u001B[0m     RendererBase)\n\u001B[1;32m     40\u001B[0m \u001B[38;5;28;01mfrom\u001B[39;00m \u001B[38;5;21;01mmatplotlib\u001B[39;00m\u001B[38;5;21;01m.\u001B[39;00m\u001B[38;5;21;01mfont_manager\u001B[39;00m \u001B[38;5;28;01mimport\u001B[39;00m findfont, get_font\n\u001B[1;32m     41\u001B[0m \u001B[38;5;28;01mfrom\u001B[39;00m \u001B[38;5;21;01mmatplotlib\u001B[39;00m\u001B[38;5;21;01m.\u001B[39;00m\u001B[38;5;21;01mft2font\u001B[39;00m \u001B[38;5;28;01mimport\u001B[39;00m (LOAD_FORCE_AUTOHINT, LOAD_NO_HINTING,\n\u001B[1;32m     42\u001B[0m                                 LOAD_DEFAULT, LOAD_NO_AUTOHINT)\n",
      "\u001B[0;31mImportError\u001B[0m: cannot import name '_check_savefig_extra_args' from 'matplotlib.backend_bases' (/Users/hokuma/miniconda/lib/python3.9/site-packages/matplotlib/backend_bases.py)"
     ]
    }
   ],
   "source": [
    "forest=RandomForestClassifier()\n",
    "forest.fit(X_train,y_train.values.ravel())\n",
    "importances = forest.feature_importances_\n",
    "std = np.std([tree.feature_importances_ for tree in forest.estimators_], axis=0)\n",
    "indices = np.argsort(importances)[::-1]\n",
    "\n",
    "# Print the feature ranking\n",
    "print(\"Feature ranking:\")\n",
    "\n",
    "for f in range(X.shape[1]):\n",
    "    print(\"{}. feature {} ({:.3f})\".format(f + 1, X.columns[indices][f], importances[indices[f]]))\n",
    "\n",
    "# Plot the impurity-based feature importances of the forest\n",
    "plt.figure()\n",
    "plt.title(\"Feature importances\")\n",
    "plt.bar(range(X.shape[1]), importances[indices],\n",
    "        color=\"r\", yerr=std[indices], align=\"center\")\n",
    "plt.xticks(range(X.shape[1]), X.columns[indices], rotation=45)\n",
    "plt.xlim([-1, X.shape[1]])\n",
    "plt.show()"
   ],
   "metadata": {
    "collapsed": false
   }
  },
  {
   "cell_type": "code",
   "execution_count": 52,
   "outputs": [
    {
     "name": "stderr",
     "output_type": "stream",
     "text": [
      "/Users/hokuma/miniconda/lib/python3.9/site-packages/sklearn/utils/validation.py:1111: DataConversionWarning: A column-vector y was passed when a 1d array was expected. Please change the shape of y to (n_samples, ), for example using ravel().\n",
      "  y = column_or_1d(y, warn=True)\n"
     ]
    },
    {
     "data": {
      "text/plain": "LogisticRegression(max_iter=1000)",
      "text/html": "<style>#sk-container-id-8 {color: black;background-color: white;}#sk-container-id-8 pre{padding: 0;}#sk-container-id-8 div.sk-toggleable {background-color: white;}#sk-container-id-8 label.sk-toggleable__label {cursor: pointer;display: block;width: 100%;margin-bottom: 0;padding: 0.3em;box-sizing: border-box;text-align: center;}#sk-container-id-8 label.sk-toggleable__label-arrow:before {content: \"▸\";float: left;margin-right: 0.25em;color: #696969;}#sk-container-id-8 label.sk-toggleable__label-arrow:hover:before {color: black;}#sk-container-id-8 div.sk-estimator:hover label.sk-toggleable__label-arrow:before {color: black;}#sk-container-id-8 div.sk-toggleable__content {max-height: 0;max-width: 0;overflow: hidden;text-align: left;background-color: #f0f8ff;}#sk-container-id-8 div.sk-toggleable__content pre {margin: 0.2em;color: black;border-radius: 0.25em;background-color: #f0f8ff;}#sk-container-id-8 input.sk-toggleable__control:checked~div.sk-toggleable__content {max-height: 200px;max-width: 100%;overflow: auto;}#sk-container-id-8 input.sk-toggleable__control:checked~label.sk-toggleable__label-arrow:before {content: \"▾\";}#sk-container-id-8 div.sk-estimator input.sk-toggleable__control:checked~label.sk-toggleable__label {background-color: #d4ebff;}#sk-container-id-8 div.sk-label input.sk-toggleable__control:checked~label.sk-toggleable__label {background-color: #d4ebff;}#sk-container-id-8 input.sk-hidden--visually {border: 0;clip: rect(1px 1px 1px 1px);clip: rect(1px, 1px, 1px, 1px);height: 1px;margin: -1px;overflow: hidden;padding: 0;position: absolute;width: 1px;}#sk-container-id-8 div.sk-estimator {font-family: monospace;background-color: #f0f8ff;border: 1px dotted black;border-radius: 0.25em;box-sizing: border-box;margin-bottom: 0.5em;}#sk-container-id-8 div.sk-estimator:hover {background-color: #d4ebff;}#sk-container-id-8 div.sk-parallel-item::after {content: \"\";width: 100%;border-bottom: 1px solid gray;flex-grow: 1;}#sk-container-id-8 div.sk-label:hover label.sk-toggleable__label {background-color: #d4ebff;}#sk-container-id-8 div.sk-serial::before {content: \"\";position: absolute;border-left: 1px solid gray;box-sizing: border-box;top: 0;bottom: 0;left: 50%;z-index: 0;}#sk-container-id-8 div.sk-serial {display: flex;flex-direction: column;align-items: center;background-color: white;padding-right: 0.2em;padding-left: 0.2em;position: relative;}#sk-container-id-8 div.sk-item {position: relative;z-index: 1;}#sk-container-id-8 div.sk-parallel {display: flex;align-items: stretch;justify-content: center;background-color: white;position: relative;}#sk-container-id-8 div.sk-item::before, #sk-container-id-8 div.sk-parallel-item::before {content: \"\";position: absolute;border-left: 1px solid gray;box-sizing: border-box;top: 0;bottom: 0;left: 50%;z-index: -1;}#sk-container-id-8 div.sk-parallel-item {display: flex;flex-direction: column;z-index: 1;position: relative;background-color: white;}#sk-container-id-8 div.sk-parallel-item:first-child::after {align-self: flex-end;width: 50%;}#sk-container-id-8 div.sk-parallel-item:last-child::after {align-self: flex-start;width: 50%;}#sk-container-id-8 div.sk-parallel-item:only-child::after {width: 0;}#sk-container-id-8 div.sk-dashed-wrapped {border: 1px dashed gray;margin: 0 0.4em 0.5em 0.4em;box-sizing: border-box;padding-bottom: 0.4em;background-color: white;}#sk-container-id-8 div.sk-label label {font-family: monospace;font-weight: bold;display: inline-block;line-height: 1.2em;}#sk-container-id-8 div.sk-label-container {text-align: center;}#sk-container-id-8 div.sk-container {/* jupyter's `normalize.less` sets `[hidden] { display: none; }` but bootstrap.min.css set `[hidden] { display: none !important; }` so we also need the `!important` here to be able to override the default hidden behavior on the sphinx rendered scikit-learn.org. See: https://github.com/scikit-learn/scikit-learn/issues/21755 */display: inline-block !important;position: relative;}#sk-container-id-8 div.sk-text-repr-fallback {display: none;}</style><div id=\"sk-container-id-8\" class=\"sk-top-container\"><div class=\"sk-text-repr-fallback\"><pre>LogisticRegression(max_iter=1000)</pre><b>In a Jupyter environment, please rerun this cell to show the HTML representation or trust the notebook. <br />On GitHub, the HTML representation is unable to render, please try loading this page with nbviewer.org.</b></div><div class=\"sk-container\" hidden><div class=\"sk-item\"><div class=\"sk-estimator sk-toggleable\"><input class=\"sk-toggleable__control sk-hidden--visually\" id=\"sk-estimator-id-8\" type=\"checkbox\" checked><label for=\"sk-estimator-id-8\" class=\"sk-toggleable__label sk-toggleable__label-arrow\">LogisticRegression</label><div class=\"sk-toggleable__content\"><pre>LogisticRegression(max_iter=1000)</pre></div></div></div></div></div>"
     },
     "execution_count": 52,
     "metadata": {},
     "output_type": "execute_result"
    }
   ],
   "source": [
    "model = LogisticRegression()\n",
    "model.max_iter=1000\n",
    "model.fit(X_train, y_train)"
   ],
   "metadata": {
    "collapsed": false
   }
  },
  {
   "cell_type": "code",
   "execution_count": 53,
   "outputs": [
    {
     "data": {
      "text/plain": "0.596045197740113"
     },
     "execution_count": 53,
     "metadata": {},
     "output_type": "execute_result"
    }
   ],
   "source": [
    "model.score(X_test,y_test)"
   ],
   "metadata": {
    "collapsed": false
   }
  },
  {
   "cell_type": "code",
   "execution_count": 54,
   "outputs": [
    {
     "data": {
      "text/plain": "0.5352112676056338"
     },
     "execution_count": 54,
     "metadata": {},
     "output_type": "execute_result"
    }
   ],
   "source": [
    "model.score(X_val,y_val)"
   ],
   "metadata": {
    "collapsed": false
   }
  },
  {
   "cell_type": "code",
   "execution_count": null,
   "outputs": [],
   "source": [],
   "metadata": {
    "collapsed": false
   }
  }
 ],
 "metadata": {
  "kernelspec": {
   "display_name": "Python 3.7.0 64-bit",
   "language": "python",
   "name": "python3"
  },
  "language_info": {
   "codemirror_mode": {
    "name": "ipython",
    "version": 3
   },
   "file_extension": ".py",
   "mimetype": "text/x-python",
   "name": "python",
   "nbconvert_exporter": "python",
   "pygments_lexer": "ipython3",
   "version": "3.7.0"
  },
  "orig_nbformat": 4,
  "vscode": {
   "interpreter": {
    "hash": "e774977668b7c0ae8309835a5187aa7fbf7669e7d0bb59755bc63e573643edcd"
   }
  }
 },
 "nbformat": 4,
 "nbformat_minor": 2
}
