{
 "cells": [
  {
   "cell_type": "code",
   "execution_count": 31,
   "metadata": {},
   "outputs": [],
   "source": [
    "import numpy as np\n",
    "import pandas as pd\n",
    "from sklearn.model_selection import train_test_split\n",
    "from sklearn.preprocessing import StandardScaler\n",
    "from sklearn.linear_model import LogisticRegression,SGDClassifier\n",
    "from sklearn.ensemble import RandomForestClassifier\n",
    "from sklearn import svm\n",
    "from sklearn import tree\n",
    "from sklearn.model_selection import GridSearchCV\n",
    "import matplotlib.pyplot as plt"
   ]
  },
  {
   "cell_type": "markdown",
   "source": [
    "# Classification\n",
    "When importing dataset, by sorting with MatchID, dataset is now timeseries dataset. Every feature is (home-away) and result is decided with score diff. We have total 50 *STANDARDIZED* feature differences. This data frame is for classification."
   ],
   "metadata": {
    "collapsed": false
   }
  },
  {
   "cell_type": "code",
   "execution_count": 8,
   "metadata": {},
   "outputs": [],
   "source": [
    "data=pd.read_csv('Data/Dataset.csv').drop(['Unnamed: 0'],axis=1).sort_values(by=['MatchID'])\n",
    "df_home=data.filter(regex='home').rename(columns=lambda x:x.replace('_home',''))\n",
    "df_away=data.filter(regex='away').rename(columns=lambda x:x.replace('_away',''))\n",
    "df_diff=df_home-df_away\n",
    "cond=[(df_diff['Score']<0),(df_diff['Score']==0),(df_diff['Score']>0)]\n",
    "val=['Away','Draw','Home']\n",
    "df_diff['Result']=np.select(cond,val)\n",
    "df_diff=df_diff.drop(columns=['Score'])\n",
    "X=df_diff.iloc[:,:-1]\n",
    "y=df_diff.iloc[:,-1:].values.ravel()"
   ]
  },
  {
   "cell_type": "code",
   "execution_count": 9,
   "outputs": [],
   "source": [
    "scaler = StandardScaler().fit(X)\n",
    "X_scaled = scaler.transform(X)"
   ],
   "metadata": {
    "collapsed": false
   }
  },
  {
   "cell_type": "markdown",
   "source": [
    "## Train,Test,Validation set split\n",
    "Split train,test,validation set into 0.8,0.1,0.1"
   ],
   "metadata": {
    "collapsed": false
   }
  },
  {
   "cell_type": "code",
   "execution_count": 10,
   "metadata": {},
   "outputs": [],
   "source": [
    "X_train,X_test,y_train,y_test=train_test_split(X_scaled,y,test_size=0.2)\n",
    "X_test,X_val,y_test,y_val=train_test_split(X_test,y_test,test_size=0.5)"
   ]
  },
  {
   "cell_type": "code",
   "execution_count": 11,
   "outputs": [
    {
     "data": {
      "text/plain": "((2835, 50), (2835,), (354, 50), (354,), (355, 50), (355,))"
     },
     "execution_count": 11,
     "metadata": {},
     "output_type": "execute_result"
    }
   ],
   "source": [
    "X_train.shape, y_train.shape, X_test.shape, y_test.shape, X_val.shape, y_val.shape"
   ],
   "metadata": {
    "collapsed": false
   }
  },
  {
   "cell_type": "markdown",
   "source": [
    "## SVM"
   ],
   "metadata": {
    "collapsed": false
   }
  },
  {
   "cell_type": "code",
   "execution_count": 16,
   "outputs": [
    {
     "name": "stdout",
     "output_type": "stream",
     "text": [
      "{'C': 7, 'gamma': 0.0001, 'kernel': 'rbf'}\n",
      "0.5541446208112875\n",
      "test score:0.5621468926553672\n",
      "val score:0.5774647887323944\n"
     ]
    }
   ],
   "source": [
    "parameters = {'kernel': ('linear', 'rbf'), 'gamma': [1, 0.1, 0.01, 0.001, 0.0001], 'C': np.arange(1, 10)}\n",
    "svc = svm.SVC()\n",
    "clf = GridSearchCV(svc, parameters)\n",
    "clf.fit(X_train, y_train)\n",
    "print(clf.best_params_)\n",
    "print(clf.best_score_)\n",
    "print(\"test score:\"+ str(clf.score(X_test,y_test)))\n",
    "print(\"val score:\"+str(clf.score(X_val,y_val)))"
   ],
   "metadata": {
    "collapsed": false
   }
  },
  {
   "cell_type": "code",
   "execution_count": 18,
   "outputs": [],
   "source": [
    "SVM_result=clf.cv_results_"
   ],
   "metadata": {
    "collapsed": false
   }
  },
  {
   "cell_type": "code",
   "execution_count": 38,
   "outputs": [],
   "source": [
    "tmp_score=pd.DataFrame(SVM_result['mean_test_score'])\n",
    "tmp_attr=pd.DataFrame(SVM_result['params'])"
   ],
   "metadata": {
    "collapsed": false
   }
  },
  {
   "cell_type": "code",
   "execution_count": 54,
   "outputs": [],
   "source": [
    "SVM_score=pd.concat([tmp_score,tmp_attr],axis=1)\n",
    "SVM_score.columns=['Score','C','gamma','kernel']\n",
    "SVM_score=SVM_score.sort_values(by='Score',ascending=False)"
   ],
   "metadata": {
    "collapsed": false
   }
  },
  {
   "cell_type": "code",
   "execution_count": 55,
   "outputs": [
    {
     "data": {
      "text/plain": "       Score  C   gamma kernel\n69  0.554145  7  0.0001    rbf\n59  0.553792  6  0.0001    rbf\n79  0.553086  8  0.0001    rbf\n49  0.552381  5  0.0001    rbf\n39  0.552028  4  0.0001    rbf\n..       ... ..     ...    ...\n81  0.450441  9  1.0000    rbf\n61  0.450441  7  1.0000    rbf\n21  0.450441  3  1.0000    rbf\n71  0.450441  8  1.0000    rbf\n11  0.450441  2  1.0000    rbf\n\n[90 rows x 4 columns]",
      "text/html": "<div>\n<style scoped>\n    .dataframe tbody tr th:only-of-type {\n        vertical-align: middle;\n    }\n\n    .dataframe tbody tr th {\n        vertical-align: top;\n    }\n\n    .dataframe thead th {\n        text-align: right;\n    }\n</style>\n<table border=\"1\" class=\"dataframe\">\n  <thead>\n    <tr style=\"text-align: right;\">\n      <th></th>\n      <th>Score</th>\n      <th>C</th>\n      <th>gamma</th>\n      <th>kernel</th>\n    </tr>\n  </thead>\n  <tbody>\n    <tr>\n      <th>69</th>\n      <td>0.554145</td>\n      <td>7</td>\n      <td>0.0001</td>\n      <td>rbf</td>\n    </tr>\n    <tr>\n      <th>59</th>\n      <td>0.553792</td>\n      <td>6</td>\n      <td>0.0001</td>\n      <td>rbf</td>\n    </tr>\n    <tr>\n      <th>79</th>\n      <td>0.553086</td>\n      <td>8</td>\n      <td>0.0001</td>\n      <td>rbf</td>\n    </tr>\n    <tr>\n      <th>49</th>\n      <td>0.552381</td>\n      <td>5</td>\n      <td>0.0001</td>\n      <td>rbf</td>\n    </tr>\n    <tr>\n      <th>39</th>\n      <td>0.552028</td>\n      <td>4</td>\n      <td>0.0001</td>\n      <td>rbf</td>\n    </tr>\n    <tr>\n      <th>...</th>\n      <td>...</td>\n      <td>...</td>\n      <td>...</td>\n      <td>...</td>\n    </tr>\n    <tr>\n      <th>81</th>\n      <td>0.450441</td>\n      <td>9</td>\n      <td>1.0000</td>\n      <td>rbf</td>\n    </tr>\n    <tr>\n      <th>61</th>\n      <td>0.450441</td>\n      <td>7</td>\n      <td>1.0000</td>\n      <td>rbf</td>\n    </tr>\n    <tr>\n      <th>21</th>\n      <td>0.450441</td>\n      <td>3</td>\n      <td>1.0000</td>\n      <td>rbf</td>\n    </tr>\n    <tr>\n      <th>71</th>\n      <td>0.450441</td>\n      <td>8</td>\n      <td>1.0000</td>\n      <td>rbf</td>\n    </tr>\n    <tr>\n      <th>11</th>\n      <td>0.450441</td>\n      <td>2</td>\n      <td>1.0000</td>\n      <td>rbf</td>\n    </tr>\n  </tbody>\n</table>\n<p>90 rows × 4 columns</p>\n</div>"
     },
     "execution_count": 55,
     "metadata": {},
     "output_type": "execute_result"
    }
   ],
   "source": [
    "SVM_score"
   ],
   "metadata": {
    "collapsed": false
   }
  },
  {
   "cell_type": "markdown",
   "source": [
    "more refine with fixed kernel"
   ],
   "metadata": {
    "collapsed": false
   }
  },
  {
   "cell_type": "code",
   "execution_count": 74,
   "outputs": [
    {
     "name": "stdout",
     "output_type": "stream",
     "text": [
      "{'C': 7, 'gamma': 0.0001, 'kernel': 'rbf'}\n",
      "0.5541446208112875\n",
      "test score:0.5621468926553672\n",
      "val score:0.5774647887323944\n"
     ]
    }
   ],
   "source": [
    "parameters = {'kernel': ['rbf'], 'gamma': [0.0001,0.00001,0.000001], 'C': np.arange(1, 10)}\n",
    "svc = svm.SVC()\n",
    "clf = GridSearchCV(svc, parameters)\n",
    "clf.fit(X_train, y_train)\n",
    "print(clf.best_params_)\n",
    "print(clf.best_score_)\n",
    "print(\"test score:\"+ str(clf.score(X_test,y_test)))\n",
    "print(\"val score:\"+str(clf.score(X_val,y_val)))"
   ],
   "metadata": {
    "collapsed": false
   }
  },
  {
   "cell_type": "markdown",
   "source": [
    "### optimal parameter for SVM classifier\n",
    "> 'C': 7, 'gamma': 0.0001, 'kernel': 'rbf'\n",
    "\n",
    "test score:0.56\n",
    "val score:0.57"
   ],
   "metadata": {
    "collapsed": false
   }
  },
  {
   "cell_type": "markdown",
   "source": [
    "## SGD classifier"
   ],
   "metadata": {
    "collapsed": false
   }
  },
  {
   "cell_type": "code",
   "execution_count": 56,
   "outputs": [
    {
     "name": "stdout",
     "output_type": "stream",
     "text": [
      "{'loss': 'hinge', 'max_iter': 2500}\n",
      "0.5178130511463845\n",
      "test score:0.5084745762711864\n",
      "val score:0.504225352112676\n"
     ]
    }
   ],
   "source": [
    "parameters = {'loss':['hinge', 'log_loss', 'modified_huber', 'squared_hinge', 'perceptron', 'squared_error', 'huber', 'epsilon_insensitive', 'squared_epsilon_insensitive'],'max_iter':[500, 1000, 1500, 2000, 2500, 3000]}\n",
    "svc = SGDClassifier()\n",
    "clf = GridSearchCV(svc, parameters)\n",
    "clf.fit(X_train, y_train)\n",
    "print(clf.best_params_)\n",
    "print(clf.best_score_)\n",
    "print(\"test score:\"+ str(clf.score(X_test,y_test)))\n",
    "print(\"val score:\"+str(clf.score(X_val,y_val)))"
   ],
   "metadata": {
    "collapsed": false
   }
  },
  {
   "cell_type": "code",
   "execution_count": 57,
   "outputs": [],
   "source": [
    "SGD_result=clf.cv_results_"
   ],
   "metadata": {
    "collapsed": false
   }
  },
  {
   "cell_type": "code",
   "execution_count": 58,
   "outputs": [
    {
     "data": {
      "text/plain": "{'mean_fit_time': array([0.04657016, 0.04790359, 0.04653454, 0.04534016, 0.05208573,\n        0.04828176, 0.06549859, 0.0649354 , 0.06655421, 0.07005467,\n        0.06573906, 0.06637435, 0.05401974, 0.0549511 , 0.05217109,\n        0.05947337, 0.05278435, 0.05589805, 0.04504905, 0.05192137,\n        0.06072502, 0.05273027, 0.04371166, 0.04225407, 0.04774833,\n        0.04566865, 0.04479065, 0.04643216, 0.04516473, 0.04904084,\n        0.09585299, 0.09775386, 0.10857973, 0.10312271, 0.08956218,\n        0.08989706, 0.03339806, 0.03314543, 0.03145885, 0.03165965,\n        0.03286886, 0.03487067, 0.1069818 , 0.09043384, 0.09237661,\n        0.08668704, 0.08226018, 0.09150434, 0.13087816, 0.12944274,\n        0.1207067 , 0.12655139, 0.13280582, 0.14331365]),\n 'std_fit_time': array([0.00634389, 0.01058731, 0.0081599 , 0.00489757, 0.00861178,\n        0.00340617, 0.00385678, 0.00920806, 0.00482274, 0.01136555,\n        0.00953257, 0.00462567, 0.00722481, 0.00530628, 0.01263617,\n        0.01111073, 0.01119579, 0.00968469, 0.01138832, 0.00860817,\n        0.03316033, 0.01207374, 0.00723005, 0.00961807, 0.00558457,\n        0.00922843, 0.00747433, 0.00690946, 0.00539114, 0.00347335,\n        0.02535809, 0.03460336, 0.03792389, 0.02475223, 0.0047249 ,\n        0.0063958 , 0.00258979, 0.00148433, 0.00118047, 0.00077762,\n        0.00053273, 0.00379417, 0.01813939, 0.00836754, 0.00324364,\n        0.00580589, 0.00969086, 0.01138357, 0.02045521, 0.0201532 ,\n        0.01968067, 0.01263058, 0.01270125, 0.03351155]),\n 'mean_score_time': array([0.0004324 , 0.00039806, 0.0003849 , 0.0004128 , 0.00052586,\n        0.0003932 , 0.00045443, 0.00042195, 0.00047817, 0.00038161,\n        0.00044012, 0.00043797, 0.00043321, 0.00044665, 0.00036612,\n        0.00040512, 0.00035362, 0.00048785, 0.00045986, 0.00042005,\n        0.00079837, 0.00040231, 0.00036206, 0.00034404, 0.00032101,\n        0.00041604, 0.00035176, 0.00036302, 0.00033488, 0.00034199,\n        0.0003808 , 0.00038781, 0.00041451, 0.00043106, 0.00042005,\n        0.00044637, 0.00044723, 0.00045652, 0.00040178, 0.00049582,\n        0.00047345, 0.00041404, 0.00045519, 0.00043364, 0.00044513,\n        0.00041552, 0.00046563, 0.00043025, 0.00039754, 0.00045424,\n        0.00040121, 0.00045242, 0.0004817 , 0.00043015]),\n 'std_score_time': array([1.34343621e-04, 2.27729559e-05, 7.11704977e-05, 3.96731954e-05,\n        1.84873560e-04, 1.76490309e-05, 4.05989809e-05, 2.14074926e-05,\n        8.07460900e-05, 3.63090753e-05, 2.09716213e-05, 5.41330946e-05,\n        5.33348277e-05, 4.20873559e-05, 3.81179341e-05, 5.27823196e-05,\n        3.35289430e-05, 5.05488772e-05, 8.28047187e-05, 2.11515848e-05,\n        7.80857465e-04, 5.20702247e-05, 4.74491549e-05, 1.95799580e-05,\n        1.86409789e-05, 3.68743450e-05, 3.22479439e-05, 3.50066680e-05,\n        3.56017620e-05, 4.66990368e-05, 2.23612733e-05, 4.44392278e-05,\n        3.72814088e-05, 3.64473313e-05, 7.36940065e-05, 5.45759657e-05,\n        3.30841840e-05, 3.92006549e-05, 2.18526723e-05, 5.54915542e-05,\n        3.55668742e-05, 3.32682693e-05, 6.75214549e-05, 3.98675218e-05,\n        6.10867297e-05, 2.22976316e-05, 5.75060473e-05, 2.09116880e-05,\n        2.15008619e-05, 5.93116042e-05, 6.13395729e-05, 2.11549169e-05,\n        8.86980690e-05, 5.36104520e-05]),\n 'param_loss': masked_array(data=['hinge', 'hinge', 'hinge', 'hinge', 'hinge', 'hinge',\n                    'log_loss', 'log_loss', 'log_loss', 'log_loss',\n                    'log_loss', 'log_loss', 'modified_huber',\n                    'modified_huber', 'modified_huber', 'modified_huber',\n                    'modified_huber', 'modified_huber', 'squared_hinge',\n                    'squared_hinge', 'squared_hinge', 'squared_hinge',\n                    'squared_hinge', 'squared_hinge', 'perceptron',\n                    'perceptron', 'perceptron', 'perceptron', 'perceptron',\n                    'perceptron', 'squared_error', 'squared_error',\n                    'squared_error', 'squared_error', 'squared_error',\n                    'squared_error', 'huber', 'huber', 'huber', 'huber',\n                    'huber', 'huber', 'epsilon_insensitive',\n                    'epsilon_insensitive', 'epsilon_insensitive',\n                    'epsilon_insensitive', 'epsilon_insensitive',\n                    'epsilon_insensitive', 'squared_epsilon_insensitive',\n                    'squared_epsilon_insensitive',\n                    'squared_epsilon_insensitive',\n                    'squared_epsilon_insensitive',\n                    'squared_epsilon_insensitive',\n                    'squared_epsilon_insensitive'],\n              mask=[False, False, False, False, False, False, False, False,\n                    False, False, False, False, False, False, False, False,\n                    False, False, False, False, False, False, False, False,\n                    False, False, False, False, False, False, False, False,\n                    False, False, False, False, False, False, False, False,\n                    False, False, False, False, False, False, False, False,\n                    False, False, False, False, False, False],\n        fill_value='?',\n             dtype=object),\n 'param_max_iter': masked_array(data=[500, 1000, 1500, 2000, 2500, 3000, 500, 1000, 1500,\n                    2000, 2500, 3000, 500, 1000, 1500, 2000, 2500, 3000,\n                    500, 1000, 1500, 2000, 2500, 3000, 500, 1000, 1500,\n                    2000, 2500, 3000, 500, 1000, 1500, 2000, 2500, 3000,\n                    500, 1000, 1500, 2000, 2500, 3000, 500, 1000, 1500,\n                    2000, 2500, 3000, 500, 1000, 1500, 2000, 2500, 3000],\n              mask=[False, False, False, False, False, False, False, False,\n                    False, False, False, False, False, False, False, False,\n                    False, False, False, False, False, False, False, False,\n                    False, False, False, False, False, False, False, False,\n                    False, False, False, False, False, False, False, False,\n                    False, False, False, False, False, False, False, False,\n                    False, False, False, False, False, False],\n        fill_value='?',\n             dtype=object),\n 'params': [{'loss': 'hinge', 'max_iter': 500},\n  {'loss': 'hinge', 'max_iter': 1000},\n  {'loss': 'hinge', 'max_iter': 1500},\n  {'loss': 'hinge', 'max_iter': 2000},\n  {'loss': 'hinge', 'max_iter': 2500},\n  {'loss': 'hinge', 'max_iter': 3000},\n  {'loss': 'log_loss', 'max_iter': 500},\n  {'loss': 'log_loss', 'max_iter': 1000},\n  {'loss': 'log_loss', 'max_iter': 1500},\n  {'loss': 'log_loss', 'max_iter': 2000},\n  {'loss': 'log_loss', 'max_iter': 2500},\n  {'loss': 'log_loss', 'max_iter': 3000},\n  {'loss': 'modified_huber', 'max_iter': 500},\n  {'loss': 'modified_huber', 'max_iter': 1000},\n  {'loss': 'modified_huber', 'max_iter': 1500},\n  {'loss': 'modified_huber', 'max_iter': 2000},\n  {'loss': 'modified_huber', 'max_iter': 2500},\n  {'loss': 'modified_huber', 'max_iter': 3000},\n  {'loss': 'squared_hinge', 'max_iter': 500},\n  {'loss': 'squared_hinge', 'max_iter': 1000},\n  {'loss': 'squared_hinge', 'max_iter': 1500},\n  {'loss': 'squared_hinge', 'max_iter': 2000},\n  {'loss': 'squared_hinge', 'max_iter': 2500},\n  {'loss': 'squared_hinge', 'max_iter': 3000},\n  {'loss': 'perceptron', 'max_iter': 500},\n  {'loss': 'perceptron', 'max_iter': 1000},\n  {'loss': 'perceptron', 'max_iter': 1500},\n  {'loss': 'perceptron', 'max_iter': 2000},\n  {'loss': 'perceptron', 'max_iter': 2500},\n  {'loss': 'perceptron', 'max_iter': 3000},\n  {'loss': 'squared_error', 'max_iter': 500},\n  {'loss': 'squared_error', 'max_iter': 1000},\n  {'loss': 'squared_error', 'max_iter': 1500},\n  {'loss': 'squared_error', 'max_iter': 2000},\n  {'loss': 'squared_error', 'max_iter': 2500},\n  {'loss': 'squared_error', 'max_iter': 3000},\n  {'loss': 'huber', 'max_iter': 500},\n  {'loss': 'huber', 'max_iter': 1000},\n  {'loss': 'huber', 'max_iter': 1500},\n  {'loss': 'huber', 'max_iter': 2000},\n  {'loss': 'huber', 'max_iter': 2500},\n  {'loss': 'huber', 'max_iter': 3000},\n  {'loss': 'epsilon_insensitive', 'max_iter': 500},\n  {'loss': 'epsilon_insensitive', 'max_iter': 1000},\n  {'loss': 'epsilon_insensitive', 'max_iter': 1500},\n  {'loss': 'epsilon_insensitive', 'max_iter': 2000},\n  {'loss': 'epsilon_insensitive', 'max_iter': 2500},\n  {'loss': 'epsilon_insensitive', 'max_iter': 3000},\n  {'loss': 'squared_epsilon_insensitive', 'max_iter': 500},\n  {'loss': 'squared_epsilon_insensitive', 'max_iter': 1000},\n  {'loss': 'squared_epsilon_insensitive', 'max_iter': 1500},\n  {'loss': 'squared_epsilon_insensitive', 'max_iter': 2000},\n  {'loss': 'squared_epsilon_insensitive', 'max_iter': 2500},\n  {'loss': 'squared_epsilon_insensitive', 'max_iter': 3000}],\n 'split0_test_score': array([0.49206349, 0.4356261 , 0.47089947, 0.44973545, 0.4691358 ,\n        0.45326279, 0.50440917, 0.43209877, 0.44444444, 0.44620811,\n        0.44620811, 0.43386243, 0.43209877, 0.47795414, 0.41798942,\n        0.44973545, 0.43738977, 0.42857143, 0.47089947, 0.4303351 ,\n        0.42857143, 0.42328042, 0.51146384, 0.4356261 , 0.41622575,\n        0.42680776, 0.33156966, 0.46560847, 0.47795414, 0.42151675,\n        0.32275132, 0.38624339, 0.34038801, 0.3633157 , 0.32098765,\n        0.35626102, 0.46737213, 0.48500882, 0.43738977, 0.50088183,\n        0.47971781, 0.51146384, 0.41446208, 0.38977072, 0.45326279,\n        0.44268078, 0.48148148, 0.38271605, 0.28218695, 0.33156966,\n        0.35626102, 0.35449735, 0.28395062, 0.31746032]),\n 'split1_test_score': array([0.5026455 , 0.48853616, 0.4691358 , 0.50088183, 0.52380952,\n        0.50970018, 0.47442681, 0.49206349, 0.48500882, 0.5026455 ,\n        0.51851852, 0.49029982, 0.43738977, 0.44797178, 0.41622575,\n        0.49382716, 0.48324515, 0.41269841, 0.48853616, 0.4356261 ,\n        0.48324515, 0.45679012, 0.40740741, 0.50088183, 0.46560847,\n        0.40388007, 0.49206349, 0.44973545, 0.50793651, 0.49382716,\n        0.35802469, 0.33333333, 0.28747795, 0.329806  , 0.28395062,\n        0.38447972, 0.51851852, 0.48148148, 0.50793651, 0.52380952,\n        0.51499118, 0.44797178, 0.39153439, 0.41093474, 0.46208113,\n        0.32098765, 0.43738977, 0.34567901, 0.29453263, 0.3015873 ,\n        0.29982363, 0.28395062, 0.3968254 , 0.28924162]),\n 'split2_test_score': array([0.49029982, 0.51675485, 0.52204586, 0.53262787, 0.52557319,\n        0.48324515, 0.49382716, 0.46031746, 0.46560847, 0.52910053,\n        0.50440917, 0.49559083, 0.4638448 , 0.51851852, 0.48677249,\n        0.54320988, 0.50793651, 0.42680776, 0.42504409, 0.44797178,\n        0.4356261 , 0.50440917, 0.41975309, 0.44444444, 0.40035273,\n        0.43915344, 0.5361552 , 0.47442681, 0.49559083, 0.41446208,\n        0.43738977, 0.3686067 , 0.31040564, 0.3968254 , 0.47442681,\n        0.34215168, 0.47795414, 0.52733686, 0.54497354, 0.42328042,\n        0.50440917, 0.50088183, 0.3686067 , 0.43386243, 0.35449735,\n        0.49382716, 0.3633157 , 0.41798942, 0.29100529, 0.31393298,\n        0.31569665, 0.45855379, 0.29453263, 0.38977072]),\n 'split3_test_score': array([0.51499118, 0.46560847, 0.53791887, 0.50088183, 0.53791887,\n        0.50617284, 0.53439153, 0.50617284, 0.55908289, 0.47795414,\n        0.51851852, 0.47442681, 0.43738977, 0.47266314, 0.45326279,\n        0.41093474, 0.49559083, 0.45326279, 0.3968254 , 0.42328042,\n        0.4691358 , 0.44268078, 0.43386243, 0.4303351 , 0.5361552 ,\n        0.48853616, 0.49206349, 0.49206349, 0.52557319, 0.45502646,\n        0.34391534, 0.50617284, 0.42328042, 0.33862434, 0.28042328,\n        0.39329806, 0.55379189, 0.48500882, 0.47619048, 0.4973545 ,\n        0.5026455 , 0.4638448 , 0.48677249, 0.49029982, 0.44620811,\n        0.49029982, 0.42680776, 0.27513228, 0.47089947, 0.28395062,\n        0.3015873 , 0.41446208, 0.30864198, 0.38271605]),\n 'split4_test_score': array([0.48853616, 0.40564374, 0.5026455 , 0.41975309, 0.53262787,\n        0.47619048, 0.52380952, 0.50793651, 0.51146384, 0.49029982,\n        0.51322751, 0.4638448 , 0.40564374, 0.51146384, 0.44268078,\n        0.41975309, 0.46208113, 0.50440917, 0.47619048, 0.48324515,\n        0.37742504, 0.4691358 , 0.45679012, 0.45326279, 0.41093474,\n        0.35273369, 0.45855379, 0.46208113, 0.34038801, 0.44444444,\n        0.34215168, 0.36684303, 0.2680776 , 0.29453263, 0.28395062,\n        0.48677249, 0.48324515, 0.53968254, 0.51322751, 0.42680776,\n        0.48148148, 0.49382716, 0.34744268, 0.43738977, 0.41269841,\n        0.3633157 , 0.46208113, 0.45326279, 0.28571429, 0.38095238,\n        0.27513228, 0.38095238, 0.32627866, 0.30335097]),\n 'mean_test_score': array([0.49770723, 0.46243386, 0.5005291 , 0.48077601, 0.51781305,\n        0.48571429, 0.50617284, 0.47971781, 0.49312169, 0.48924162,\n        0.50017637, 0.47160494, 0.43527337, 0.48571429, 0.44338624,\n        0.46349206, 0.47724868, 0.44514991, 0.45149912, 0.44409171,\n        0.43880071, 0.45925926, 0.44585538, 0.45291005, 0.44585538,\n        0.42222222, 0.46208113, 0.46878307, 0.46948854, 0.44585538,\n        0.36084656, 0.39223986, 0.32592593, 0.34462081, 0.3287478 ,\n        0.39259259, 0.50017637, 0.5037037 , 0.49594356, 0.47442681,\n        0.49664903, 0.48359788, 0.40176367, 0.4324515 , 0.42574956,\n        0.42222222, 0.43421517, 0.37495591, 0.32486772, 0.32239859,\n        0.30970018, 0.37848325, 0.32204586, 0.33650794]),\n 'std_test_score': array([0.00993933, 0.03895113, 0.02730897, 0.04045842, 0.02485709,\n        0.0207064 , 0.02131049, 0.02930026, 0.03969782, 0.02738177,\n        0.0274725 , 0.02198864, 0.01851096, 0.02605458, 0.02593492,\n        0.04927426, 0.02503167, 0.03237857, 0.03477604, 0.02117578,\n        0.03681634, 0.02724511, 0.03668091, 0.02522477, 0.05042241,\n        0.04443044, 0.06975749, 0.01408287, 0.06639831, 0.02816132,\n        0.03988543, 0.0594814 , 0.0543187 , 0.03417332, 0.07433899,\n        0.05059731, 0.03183605, 0.02468128, 0.03651092, 0.04134665,\n        0.01377921, 0.02382976, 0.04804694, 0.03363755, 0.03935155,\n        0.0691358 , 0.04025494, 0.06142632, 0.07313931, 0.03315321,\n        0.02669148, 0.05869175, 0.03999446, 0.04163752]),\n 'rank_test_score': array([ 7, 23,  4, 15,  1, 12,  2, 16, 10, 11,  5, 19, 35, 13, 33, 22, 17,\n        31, 27, 32, 34, 25, 28, 26, 28, 40, 24, 21, 20, 28, 46, 43, 50, 47,\n        49, 42,  6,  3,  9, 18,  8, 14, 41, 37, 38, 39, 36, 45, 51, 52, 54,\n        44, 53, 48], dtype=int32)}"
     },
     "execution_count": 58,
     "metadata": {},
     "output_type": "execute_result"
    }
   ],
   "source": [
    "SGD_result"
   ],
   "metadata": {
    "collapsed": false
   }
  },
  {
   "cell_type": "code",
   "execution_count": 62,
   "outputs": [],
   "source": [
    "tmp_score=pd.DataFrame(SGD_result['mean_test_score'])\n",
    "tmp_attr=pd.DataFrame(SGD_result['params'])"
   ],
   "metadata": {
    "collapsed": false
   }
  },
  {
   "cell_type": "code",
   "execution_count": 70,
   "outputs": [],
   "source": [
    "SGD_score=pd.concat([tmp_score,tmp_attr],axis=1)\n",
    "SGD_score.columns=['Score','loss','max_iter']\n",
    "SGD_score=SGD_score.sort_values(by='Score',ascending=False)"
   ],
   "metadata": {
    "collapsed": false
   }
  },
  {
   "cell_type": "code",
   "execution_count": 71,
   "outputs": [
    {
     "data": {
      "text/plain": "       Score                         loss  max_iter\n4   0.517813                        hinge      2500\n6   0.506173                     log_loss       500\n37  0.503704                        huber      1000\n2   0.500529                        hinge      1500\n10  0.500176                     log_loss      2500\n36  0.500176                        huber       500\n0   0.497707                        hinge       500\n40  0.496649                        huber      2500\n38  0.495944                        huber      1500\n8   0.493122                     log_loss      1500\n9   0.489242                     log_loss      2000\n5   0.485714                        hinge      3000\n13  0.485714               modified_huber      1000\n41  0.483598                        huber      3000\n3   0.480776                        hinge      2000\n7   0.479718                     log_loss      1000\n16  0.477249               modified_huber      2500\n39  0.474427                        huber      2000\n11  0.471605                     log_loss      3000\n28  0.469489                   perceptron      2500\n27  0.468783                   perceptron      2000\n15  0.463492               modified_huber      2000\n1   0.462434                        hinge      1000\n26  0.462081                   perceptron      1500\n21  0.459259                squared_hinge      2000\n23  0.452910                squared_hinge      3000\n18  0.451499                squared_hinge       500\n24  0.445855                   perceptron       500\n29  0.445855                   perceptron      3000\n22  0.445855                squared_hinge      2500\n17  0.445150               modified_huber      3000\n19  0.444092                squared_hinge      1000\n14  0.443386               modified_huber      1500\n20  0.438801                squared_hinge      1500\n12  0.435273               modified_huber       500\n46  0.434215          epsilon_insensitive      2500\n43  0.432451          epsilon_insensitive      1000\n44  0.425750          epsilon_insensitive      1500\n45  0.422222          epsilon_insensitive      2000\n25  0.422222                   perceptron      1000\n42  0.401764          epsilon_insensitive       500\n35  0.392593                squared_error      3000\n31  0.392240                squared_error      1000\n51  0.378483  squared_epsilon_insensitive      2000\n47  0.374956          epsilon_insensitive      3000\n30  0.360847                squared_error       500\n33  0.344621                squared_error      2000\n53  0.336508  squared_epsilon_insensitive      3000\n34  0.328748                squared_error      2500\n32  0.325926                squared_error      1500\n48  0.324868  squared_epsilon_insensitive       500\n49  0.322399  squared_epsilon_insensitive      1000\n52  0.322046  squared_epsilon_insensitive      2500\n50  0.309700  squared_epsilon_insensitive      1500",
      "text/html": "<div>\n<style scoped>\n    .dataframe tbody tr th:only-of-type {\n        vertical-align: middle;\n    }\n\n    .dataframe tbody tr th {\n        vertical-align: top;\n    }\n\n    .dataframe thead th {\n        text-align: right;\n    }\n</style>\n<table border=\"1\" class=\"dataframe\">\n  <thead>\n    <tr style=\"text-align: right;\">\n      <th></th>\n      <th>Score</th>\n      <th>loss</th>\n      <th>max_iter</th>\n    </tr>\n  </thead>\n  <tbody>\n    <tr>\n      <th>4</th>\n      <td>0.517813</td>\n      <td>hinge</td>\n      <td>2500</td>\n    </tr>\n    <tr>\n      <th>6</th>\n      <td>0.506173</td>\n      <td>log_loss</td>\n      <td>500</td>\n    </tr>\n    <tr>\n      <th>37</th>\n      <td>0.503704</td>\n      <td>huber</td>\n      <td>1000</td>\n    </tr>\n    <tr>\n      <th>2</th>\n      <td>0.500529</td>\n      <td>hinge</td>\n      <td>1500</td>\n    </tr>\n    <tr>\n      <th>10</th>\n      <td>0.500176</td>\n      <td>log_loss</td>\n      <td>2500</td>\n    </tr>\n    <tr>\n      <th>36</th>\n      <td>0.500176</td>\n      <td>huber</td>\n      <td>500</td>\n    </tr>\n    <tr>\n      <th>0</th>\n      <td>0.497707</td>\n      <td>hinge</td>\n      <td>500</td>\n    </tr>\n    <tr>\n      <th>40</th>\n      <td>0.496649</td>\n      <td>huber</td>\n      <td>2500</td>\n    </tr>\n    <tr>\n      <th>38</th>\n      <td>0.495944</td>\n      <td>huber</td>\n      <td>1500</td>\n    </tr>\n    <tr>\n      <th>8</th>\n      <td>0.493122</td>\n      <td>log_loss</td>\n      <td>1500</td>\n    </tr>\n    <tr>\n      <th>9</th>\n      <td>0.489242</td>\n      <td>log_loss</td>\n      <td>2000</td>\n    </tr>\n    <tr>\n      <th>5</th>\n      <td>0.485714</td>\n      <td>hinge</td>\n      <td>3000</td>\n    </tr>\n    <tr>\n      <th>13</th>\n      <td>0.485714</td>\n      <td>modified_huber</td>\n      <td>1000</td>\n    </tr>\n    <tr>\n      <th>41</th>\n      <td>0.483598</td>\n      <td>huber</td>\n      <td>3000</td>\n    </tr>\n    <tr>\n      <th>3</th>\n      <td>0.480776</td>\n      <td>hinge</td>\n      <td>2000</td>\n    </tr>\n    <tr>\n      <th>7</th>\n      <td>0.479718</td>\n      <td>log_loss</td>\n      <td>1000</td>\n    </tr>\n    <tr>\n      <th>16</th>\n      <td>0.477249</td>\n      <td>modified_huber</td>\n      <td>2500</td>\n    </tr>\n    <tr>\n      <th>39</th>\n      <td>0.474427</td>\n      <td>huber</td>\n      <td>2000</td>\n    </tr>\n    <tr>\n      <th>11</th>\n      <td>0.471605</td>\n      <td>log_loss</td>\n      <td>3000</td>\n    </tr>\n    <tr>\n      <th>28</th>\n      <td>0.469489</td>\n      <td>perceptron</td>\n      <td>2500</td>\n    </tr>\n    <tr>\n      <th>27</th>\n      <td>0.468783</td>\n      <td>perceptron</td>\n      <td>2000</td>\n    </tr>\n    <tr>\n      <th>15</th>\n      <td>0.463492</td>\n      <td>modified_huber</td>\n      <td>2000</td>\n    </tr>\n    <tr>\n      <th>1</th>\n      <td>0.462434</td>\n      <td>hinge</td>\n      <td>1000</td>\n    </tr>\n    <tr>\n      <th>26</th>\n      <td>0.462081</td>\n      <td>perceptron</td>\n      <td>1500</td>\n    </tr>\n    <tr>\n      <th>21</th>\n      <td>0.459259</td>\n      <td>squared_hinge</td>\n      <td>2000</td>\n    </tr>\n    <tr>\n      <th>23</th>\n      <td>0.452910</td>\n      <td>squared_hinge</td>\n      <td>3000</td>\n    </tr>\n    <tr>\n      <th>18</th>\n      <td>0.451499</td>\n      <td>squared_hinge</td>\n      <td>500</td>\n    </tr>\n    <tr>\n      <th>24</th>\n      <td>0.445855</td>\n      <td>perceptron</td>\n      <td>500</td>\n    </tr>\n    <tr>\n      <th>29</th>\n      <td>0.445855</td>\n      <td>perceptron</td>\n      <td>3000</td>\n    </tr>\n    <tr>\n      <th>22</th>\n      <td>0.445855</td>\n      <td>squared_hinge</td>\n      <td>2500</td>\n    </tr>\n    <tr>\n      <th>17</th>\n      <td>0.445150</td>\n      <td>modified_huber</td>\n      <td>3000</td>\n    </tr>\n    <tr>\n      <th>19</th>\n      <td>0.444092</td>\n      <td>squared_hinge</td>\n      <td>1000</td>\n    </tr>\n    <tr>\n      <th>14</th>\n      <td>0.443386</td>\n      <td>modified_huber</td>\n      <td>1500</td>\n    </tr>\n    <tr>\n      <th>20</th>\n      <td>0.438801</td>\n      <td>squared_hinge</td>\n      <td>1500</td>\n    </tr>\n    <tr>\n      <th>12</th>\n      <td>0.435273</td>\n      <td>modified_huber</td>\n      <td>500</td>\n    </tr>\n    <tr>\n      <th>46</th>\n      <td>0.434215</td>\n      <td>epsilon_insensitive</td>\n      <td>2500</td>\n    </tr>\n    <tr>\n      <th>43</th>\n      <td>0.432451</td>\n      <td>epsilon_insensitive</td>\n      <td>1000</td>\n    </tr>\n    <tr>\n      <th>44</th>\n      <td>0.425750</td>\n      <td>epsilon_insensitive</td>\n      <td>1500</td>\n    </tr>\n    <tr>\n      <th>45</th>\n      <td>0.422222</td>\n      <td>epsilon_insensitive</td>\n      <td>2000</td>\n    </tr>\n    <tr>\n      <th>25</th>\n      <td>0.422222</td>\n      <td>perceptron</td>\n      <td>1000</td>\n    </tr>\n    <tr>\n      <th>42</th>\n      <td>0.401764</td>\n      <td>epsilon_insensitive</td>\n      <td>500</td>\n    </tr>\n    <tr>\n      <th>35</th>\n      <td>0.392593</td>\n      <td>squared_error</td>\n      <td>3000</td>\n    </tr>\n    <tr>\n      <th>31</th>\n      <td>0.392240</td>\n      <td>squared_error</td>\n      <td>1000</td>\n    </tr>\n    <tr>\n      <th>51</th>\n      <td>0.378483</td>\n      <td>squared_epsilon_insensitive</td>\n      <td>2000</td>\n    </tr>\n    <tr>\n      <th>47</th>\n      <td>0.374956</td>\n      <td>epsilon_insensitive</td>\n      <td>3000</td>\n    </tr>\n    <tr>\n      <th>30</th>\n      <td>0.360847</td>\n      <td>squared_error</td>\n      <td>500</td>\n    </tr>\n    <tr>\n      <th>33</th>\n      <td>0.344621</td>\n      <td>squared_error</td>\n      <td>2000</td>\n    </tr>\n    <tr>\n      <th>53</th>\n      <td>0.336508</td>\n      <td>squared_epsilon_insensitive</td>\n      <td>3000</td>\n    </tr>\n    <tr>\n      <th>34</th>\n      <td>0.328748</td>\n      <td>squared_error</td>\n      <td>2500</td>\n    </tr>\n    <tr>\n      <th>32</th>\n      <td>0.325926</td>\n      <td>squared_error</td>\n      <td>1500</td>\n    </tr>\n    <tr>\n      <th>48</th>\n      <td>0.324868</td>\n      <td>squared_epsilon_insensitive</td>\n      <td>500</td>\n    </tr>\n    <tr>\n      <th>49</th>\n      <td>0.322399</td>\n      <td>squared_epsilon_insensitive</td>\n      <td>1000</td>\n    </tr>\n    <tr>\n      <th>52</th>\n      <td>0.322046</td>\n      <td>squared_epsilon_insensitive</td>\n      <td>2500</td>\n    </tr>\n    <tr>\n      <th>50</th>\n      <td>0.309700</td>\n      <td>squared_epsilon_insensitive</td>\n      <td>1500</td>\n    </tr>\n  </tbody>\n</table>\n</div>"
     },
     "execution_count": 71,
     "metadata": {},
     "output_type": "execute_result"
    }
   ],
   "source": [
    "SGD_score"
   ],
   "metadata": {
    "collapsed": false
   }
  },
  {
   "cell_type": "markdown",
   "source": [
    "more refine with fixed loss function(hinge)"
   ],
   "metadata": {
    "collapsed": false
   }
  },
  {
   "cell_type": "code",
   "execution_count": 78,
   "outputs": [
    {
     "name": "stdout",
     "output_type": "stream",
     "text": [
      "{'loss': 'hinge', 'max_iter': 2000, 'random_state': 5}\n",
      "0.508994708994709\n",
      "test score:0.5338983050847458\n",
      "val score:0.5774647887323944\n"
     ]
    }
   ],
   "source": [
    "parameters = {'loss':['hinge'],'max_iter':np.arange(2000,6000,step=500),'random_state':np.arange(0,10)}\n",
    "svc = SGDClassifier()\n",
    "clf = GridSearchCV(svc, parameters)\n",
    "clf.fit(X_train, y_train)\n",
    "print(clf.best_params_)\n",
    "print(clf.best_score_)\n",
    "print(\"test score:\"+ str(clf.score(X_test,y_test)))\n",
    "print(\"val score:\"+str(clf.score(X_val,y_val)))"
   ],
   "metadata": {
    "collapsed": false
   }
  },
  {
   "cell_type": "markdown",
   "source": [
    "### optimal parameter for SGD classifier\n",
    "> 'loss': 'hinge', 'max_iter': 2000\n",
    "\n",
    "test score:0.53\n",
    "val score:0.57"
   ],
   "metadata": {
    "collapsed": false
   }
  },
  {
   "cell_type": "markdown",
   "source": [
    "## Decision Tree"
   ],
   "metadata": {
    "collapsed": false
   }
  },
  {
   "cell_type": "code",
   "execution_count": 22,
   "outputs": [
    {
     "name": "stdout",
     "output_type": "stream",
     "text": [
      "{'max_depth': 2, 'random_state': 0}\n",
      "0.528747795414462\n",
      "test score:0.5649717514124294\n",
      "val score:0.5211267605633803\n"
     ]
    },
    {
     "name": "stderr",
     "output_type": "stream",
     "text": [
      "/Users/hokuma/miniconda/lib/python3.9/site-packages/sklearn/model_selection/_validation.py:378: FitFailedWarning: \n",
      "50 fits failed out of a total of 500.\n",
      "The score on these train-test partitions for these parameters will be set to nan.\n",
      "If these failures are not expected, you can try to debug them by setting error_score='raise'.\n",
      "\n",
      "Below are more details about the failures:\n",
      "--------------------------------------------------------------------------------\n",
      "50 fits failed with the following error:\n",
      "Traceback (most recent call last):\n",
      "  File \"/Users/hokuma/miniconda/lib/python3.9/site-packages/sklearn/model_selection/_validation.py\", line 686, in _fit_and_score\n",
      "    estimator.fit(X_train, y_train, **fit_params)\n",
      "  File \"/Users/hokuma/miniconda/lib/python3.9/site-packages/sklearn/tree/_classes.py\", line 969, in fit\n",
      "    super().fit(\n",
      "  File \"/Users/hokuma/miniconda/lib/python3.9/site-packages/sklearn/tree/_classes.py\", line 238, in fit\n",
      "    check_scalar(\n",
      "  File \"/Users/hokuma/miniconda/lib/python3.9/site-packages/sklearn/utils/validation.py\", line 1480, in check_scalar\n",
      "    raise ValueError(\n",
      "ValueError: max_depth == 0, must be >= 1.\n",
      "\n",
      "  warnings.warn(some_fits_failed_message, FitFailedWarning)\n",
      "/Users/hokuma/miniconda/lib/python3.9/site-packages/sklearn/model_selection/_search.py:953: UserWarning: One or more of the test scores are non-finite: [       nan        nan        nan        nan        nan        nan\n",
      "        nan        nan        nan        nan 0.51181658 0.51181658\n",
      " 0.51181658 0.51181658 0.51181658 0.51181658 0.51181658 0.51181658\n",
      " 0.51181658 0.51181658 0.5287478  0.5287478  0.5287478  0.5287478\n",
      " 0.5287478  0.5287478  0.5287478  0.5287478  0.5287478  0.5287478\n",
      " 0.51604938 0.51604938 0.51604938 0.51604938 0.51604938 0.51604938\n",
      " 0.51604938 0.51604938 0.51604938 0.51604938 0.52239859 0.52239859\n",
      " 0.52204586 0.52239859 0.52204586 0.52204586 0.52204586 0.52204586\n",
      " 0.52239859 0.52239859 0.50934744 0.50899471 0.50899471 0.50970018\n",
      " 0.50934744 0.50970018 0.51005291 0.50899471 0.50970018 0.51040564\n",
      " 0.49982363 0.49911817 0.49770723 0.49876543 0.49805996 0.49805996\n",
      " 0.4994709  0.49805996 0.49805996 0.49982363 0.48536155 0.48606702\n",
      " 0.48395062 0.48641975 0.48924162 0.48465608 0.48783069 0.48430335\n",
      " 0.48712522 0.48641975 0.470194   0.47336861 0.47089947 0.47442681\n",
      " 0.46737213 0.47231041 0.46878307 0.46984127 0.46843034 0.47089947\n",
      " 0.45925926 0.46243386 0.46313933 0.46349206 0.46313933 0.46243386\n",
      " 0.4627866  0.46349206 0.46313933 0.46243386]\n",
      "  warnings.warn(\n"
     ]
    }
   ],
   "source": [
    "parameters = {'random_state':np.arange(0,10),'max_depth':np.arange(0,10)}\n",
    "TREE = tree.DecisionTreeClassifier()\n",
    "clf = GridSearchCV(TREE, parameters)\n",
    "clf.fit(X_train, y_train)\n",
    "print(clf.best_params_)\n",
    "print(clf.best_score_)\n",
    "print(\"test score:\"+ str(clf.score(X_test,y_test)))\n",
    "print(\"val score:\"+str(clf.score(X_val,y_val)))"
   ],
   "metadata": {
    "collapsed": false
   }
  },
  {
   "cell_type": "markdown",
   "source": [
    "### visualize decision tree"
   ],
   "metadata": {
    "collapsed": false
   }
  },
  {
   "cell_type": "code",
   "execution_count": 24,
   "outputs": [],
   "source": [
    "clf=tree.DecisionTreeClassifier(max_depth=2)\n",
    "clf.fit(X_train,y_train)\n",
    "from sklearn.tree import export_graphviz\n",
    "export_graphviz(clf, out_file=\"tree.dot\", class_names = y_train,\n",
    "                feature_names = X.columns, impurity=True, filled=True)"
   ],
   "metadata": {
    "collapsed": false
   }
  },
  {
   "cell_type": "code",
   "execution_count": 25,
   "outputs": [
    {
     "data": {
      "image/svg+xml": "<?xml version=\"1.0\" encoding=\"UTF-8\" standalone=\"no\"?>\n<!DOCTYPE svg PUBLIC \"-//W3C//DTD SVG 1.1//EN\"\n \"http://www.w3.org/Graphics/SVG/1.1/DTD/svg11.dtd\">\n<!-- Generated by graphviz version 2.50.0 (0)\n -->\n<!-- Title: Tree Pages: 1 -->\n<svg width=\"668pt\" height=\"314pt\"\n viewBox=\"0.00 0.00 667.50 314.00\" xmlns=\"http://www.w3.org/2000/svg\" xmlns:xlink=\"http://www.w3.org/1999/xlink\">\n<g id=\"graph0\" class=\"graph\" transform=\"scale(1 1) rotate(0) translate(4 310)\">\n<title>Tree</title>\n<polygon fill=\"white\" stroke=\"transparent\" points=\"-4,4 -4,-310 663.5,-310 663.5,4 -4,4\"/>\n<!-- 0 -->\n<g id=\"node1\" class=\"node\">\n<title>0</title>\n<polygon fill=\"#e6d7fa\" stroke=\"black\" points=\"417.5,-306 255.5,-306 255.5,-223 417.5,-223 417.5,-306\"/>\n<text text-anchor=\"middle\" x=\"336.5\" y=\"-290.8\" font-family=\"Helvetica,sans-Serif\" font-size=\"14.00\">Assists &lt;= 0.18</text>\n<text text-anchor=\"middle\" x=\"336.5\" y=\"-275.8\" font-family=\"Helvetica,sans-Serif\" font-size=\"14.00\">gini = 0.644</text>\n<text text-anchor=\"middle\" x=\"336.5\" y=\"-260.8\" font-family=\"Helvetica,sans-Serif\" font-size=\"14.00\">samples = 2835</text>\n<text text-anchor=\"middle\" x=\"336.5\" y=\"-245.8\" font-family=\"Helvetica,sans-Serif\" font-size=\"14.00\">value = [884, 677, 1274]</text>\n<text text-anchor=\"middle\" x=\"336.5\" y=\"-230.8\" font-family=\"Helvetica,sans-Serif\" font-size=\"14.00\">class = Draw</text>\n</g>\n<!-- 1 -->\n<g id=\"node2\" class=\"node\">\n<title>1</title>\n<polygon fill=\"#fbeade\" stroke=\"black\" points=\"328,-187 173,-187 173,-104 328,-104 328,-187\"/>\n<text text-anchor=\"middle\" x=\"250.5\" y=\"-171.8\" font-family=\"Helvetica,sans-Serif\" font-size=\"14.00\">Assists &lt;= &#45;0.627</text>\n<text text-anchor=\"middle\" x=\"250.5\" y=\"-156.8\" font-family=\"Helvetica,sans-Serif\" font-size=\"14.00\">gini = 0.652</text>\n<text text-anchor=\"middle\" x=\"250.5\" y=\"-141.8\" font-family=\"Helvetica,sans-Serif\" font-size=\"14.00\">samples = 1642</text>\n<text text-anchor=\"middle\" x=\"250.5\" y=\"-126.8\" font-family=\"Helvetica,sans-Serif\" font-size=\"14.00\">value = [703, 425, 514]</text>\n<text text-anchor=\"middle\" x=\"250.5\" y=\"-111.8\" font-family=\"Helvetica,sans-Serif\" font-size=\"14.00\">class = Home</text>\n</g>\n<!-- 0&#45;&gt;1 -->\n<g id=\"edge1\" class=\"edge\">\n<title>0&#45;&gt;1</title>\n<path fill=\"none\" stroke=\"black\" d=\"M306.66,-222.91C300.13,-214.01 293.14,-204.51 286.39,-195.33\"/>\n<polygon fill=\"black\" stroke=\"black\" points=\"289.03,-193.01 280.28,-187.02 283.39,-197.15 289.03,-193.01\"/>\n<text text-anchor=\"middle\" x=\"276.51\" y=\"-208.03\" font-family=\"Helvetica,sans-Serif\" font-size=\"14.00\">True</text>\n</g>\n<!-- 4 -->\n<g id=\"node5\" class=\"node\">\n<title>4</title>\n<polygon fill=\"#bb94f1\" stroke=\"black\" points=\"501,-187 346,-187 346,-104 501,-104 501,-187\"/>\n<text text-anchor=\"middle\" x=\"423.5\" y=\"-171.8\" font-family=\"Helvetica,sans-Serif\" font-size=\"14.00\">Clean sheets &lt;= 0.521</text>\n<text text-anchor=\"middle\" x=\"423.5\" y=\"-156.8\" font-family=\"Helvetica,sans-Serif\" font-size=\"14.00\">gini = 0.527</text>\n<text text-anchor=\"middle\" x=\"423.5\" y=\"-141.8\" font-family=\"Helvetica,sans-Serif\" font-size=\"14.00\">samples = 1193</text>\n<text text-anchor=\"middle\" x=\"423.5\" y=\"-126.8\" font-family=\"Helvetica,sans-Serif\" font-size=\"14.00\">value = [181, 252, 760]</text>\n<text text-anchor=\"middle\" x=\"423.5\" y=\"-111.8\" font-family=\"Helvetica,sans-Serif\" font-size=\"14.00\">class = Draw</text>\n</g>\n<!-- 0&#45;&gt;4 -->\n<g id=\"edge4\" class=\"edge\">\n<title>0&#45;&gt;4</title>\n<path fill=\"none\" stroke=\"black\" d=\"M366.68,-222.91C373.36,-213.92 380.51,-204.32 387.4,-195.05\"/>\n<polygon fill=\"black\" stroke=\"black\" points=\"390.21,-197.13 393.37,-187.02 384.59,-192.96 390.21,-197.13\"/>\n<text text-anchor=\"middle\" x=\"397.01\" y=\"-208.05\" font-family=\"Helvetica,sans-Serif\" font-size=\"14.00\">False</text>\n</g>\n<!-- 2 -->\n<g id=\"node3\" class=\"node\">\n<title>2</title>\n<polygon fill=\"#f3c3a0\" stroke=\"black\" points=\"155,-68 0,-68 0,0 155,0 155,-68\"/>\n<text text-anchor=\"middle\" x=\"77.5\" y=\"-52.8\" font-family=\"Helvetica,sans-Serif\" font-size=\"14.00\">gini = 0.566</text>\n<text text-anchor=\"middle\" x=\"77.5\" y=\"-37.8\" font-family=\"Helvetica,sans-Serif\" font-size=\"14.00\">samples = 693</text>\n<text text-anchor=\"middle\" x=\"77.5\" y=\"-22.8\" font-family=\"Helvetica,sans-Serif\" font-size=\"14.00\">value = [410, 133, 150]</text>\n<text text-anchor=\"middle\" x=\"77.5\" y=\"-7.8\" font-family=\"Helvetica,sans-Serif\" font-size=\"14.00\">class = Home</text>\n</g>\n<!-- 1&#45;&gt;2 -->\n<g id=\"edge2\" class=\"edge\">\n<title>1&#45;&gt;2</title>\n<path fill=\"none\" stroke=\"black\" d=\"M186.08,-103.73C170.44,-93.82 153.76,-83.27 138.29,-73.48\"/>\n<polygon fill=\"black\" stroke=\"black\" points=\"140.16,-70.52 129.83,-68.13 136.41,-76.43 140.16,-70.52\"/>\n</g>\n<!-- 3 -->\n<g id=\"node4\" class=\"node\">\n<title>3</title>\n<polygon fill=\"#f1eafc\" stroke=\"black\" points=\"328,-68 173,-68 173,0 328,0 328,-68\"/>\n<text text-anchor=\"middle\" x=\"250.5\" y=\"-52.8\" font-family=\"Helvetica,sans-Serif\" font-size=\"14.00\">gini = 0.663</text>\n<text text-anchor=\"middle\" x=\"250.5\" y=\"-37.8\" font-family=\"Helvetica,sans-Serif\" font-size=\"14.00\">samples = 949</text>\n<text text-anchor=\"middle\" x=\"250.5\" y=\"-22.8\" font-family=\"Helvetica,sans-Serif\" font-size=\"14.00\">value = [293, 292, 364]</text>\n<text text-anchor=\"middle\" x=\"250.5\" y=\"-7.8\" font-family=\"Helvetica,sans-Serif\" font-size=\"14.00\">class = Draw</text>\n</g>\n<!-- 1&#45;&gt;3 -->\n<g id=\"edge3\" class=\"edge\">\n<title>1&#45;&gt;3</title>\n<path fill=\"none\" stroke=\"black\" d=\"M250.5,-103.73C250.5,-95.52 250.5,-86.86 250.5,-78.56\"/>\n<polygon fill=\"black\" stroke=\"black\" points=\"254,-78.3 250.5,-68.3 247,-78.3 254,-78.3\"/>\n</g>\n<!-- 5 -->\n<g id=\"node6\" class=\"node\">\n<title>5</title>\n<polygon fill=\"#d4bcf6\" stroke=\"black\" points=\"501,-68 346,-68 346,0 501,0 501,-68\"/>\n<text text-anchor=\"middle\" x=\"423.5\" y=\"-52.8\" font-family=\"Helvetica,sans-Serif\" font-size=\"14.00\">gini = 0.611</text>\n<text text-anchor=\"middle\" x=\"423.5\" y=\"-37.8\" font-family=\"Helvetica,sans-Serif\" font-size=\"14.00\">samples = 583</text>\n<text text-anchor=\"middle\" x=\"423.5\" y=\"-22.8\" font-family=\"Helvetica,sans-Serif\" font-size=\"14.00\">value = [119, 160, 304]</text>\n<text text-anchor=\"middle\" x=\"423.5\" y=\"-7.8\" font-family=\"Helvetica,sans-Serif\" font-size=\"14.00\">class = Draw</text>\n</g>\n<!-- 4&#45;&gt;5 -->\n<g id=\"edge5\" class=\"edge\">\n<title>4&#45;&gt;5</title>\n<path fill=\"none\" stroke=\"black\" d=\"M423.5,-103.73C423.5,-95.52 423.5,-86.86 423.5,-78.56\"/>\n<polygon fill=\"black\" stroke=\"black\" points=\"427,-78.3 423.5,-68.3 420,-78.3 427,-78.3\"/>\n</g>\n<!-- 6 -->\n<g id=\"node7\" class=\"node\">\n<title>6</title>\n<polygon fill=\"#a674ed\" stroke=\"black\" points=\"659.5,-68 519.5,-68 519.5,0 659.5,0 659.5,-68\"/>\n<text text-anchor=\"middle\" x=\"589.5\" y=\"-52.8\" font-family=\"Helvetica,sans-Serif\" font-size=\"14.00\">gini = 0.408</text>\n<text text-anchor=\"middle\" x=\"589.5\" y=\"-37.8\" font-family=\"Helvetica,sans-Serif\" font-size=\"14.00\">samples = 610</text>\n<text text-anchor=\"middle\" x=\"589.5\" y=\"-22.8\" font-family=\"Helvetica,sans-Serif\" font-size=\"14.00\">value = [62, 92, 456]</text>\n<text text-anchor=\"middle\" x=\"589.5\" y=\"-7.8\" font-family=\"Helvetica,sans-Serif\" font-size=\"14.00\">class = Draw</text>\n</g>\n<!-- 4&#45;&gt;6 -->\n<g id=\"edge6\" class=\"edge\">\n<title>4&#45;&gt;6</title>\n<path fill=\"none\" stroke=\"black\" d=\"M485.31,-103.73C500.18,-93.92 516.03,-83.46 530.76,-73.75\"/>\n<polygon fill=\"black\" stroke=\"black\" points=\"532.86,-76.55 539.28,-68.13 529.01,-70.71 532.86,-76.55\"/>\n</g>\n</g>\n</svg>\n",
      "text/plain": "<graphviz.sources.Source at 0x16bdc6eb0>"
     },
     "execution_count": 25,
     "metadata": {},
     "output_type": "execute_result"
    }
   ],
   "source": [
    "import graphviz\n",
    "with open(\"tree.dot\") as f:\n",
    " dot_graph = f.read()\n",
    "graphviz.Source(dot_graph)"
   ],
   "metadata": {
    "collapsed": false
   }
  },
  {
   "cell_type": "markdown",
   "source": [
    "# Classfication with feature selection"
   ],
   "metadata": {
    "collapsed": false
   }
  },
  {
   "cell_type": "code",
   "execution_count": 76,
   "outputs": [],
   "source": [
    "data=pd.read_csv('Data/Dataset.csv').drop(['Unnamed: 0'],axis=1).sort_values(by=['MatchID'])\n",
    "df_home=data.filter(regex='home').rename(columns=lambda x:x.replace('_home',''))\n",
    "df_away=data.filter(regex='away').rename(columns=lambda x:x.replace('_away',''))\n",
    "df_diff=df_home-df_away\n",
    "cond=[(df_diff['Score']<0),(df_diff['Score']==0),(df_diff['Score']>0)]\n",
    "val=['Away','Draw','Home']\n",
    "df_diff['Result']=np.select(cond,val)\n",
    "df_diff=df_diff.drop(columns=['Score'])\n",
    "X=df_diff.iloc[:,:-1]\n",
    "y=df_diff.iloc[:,-1:].values.ravel()"
   ],
   "metadata": {
    "collapsed": false
   }
  },
  {
   "cell_type": "markdown",
   "source": [
    "## Feature Selection with Tree"
   ],
   "metadata": {
    "collapsed": false
   }
  },
  {
   "cell_type": "code",
   "execution_count": 77,
   "outputs": [
    {
     "name": "stdout",
     "output_type": "stream",
     "text": [
      "Feature ranking:\n",
      "1. feature Clean sheets (0.047)\n",
      "2. feature Assists (0.035)\n",
      "3. feature Goals (0.031)\n",
      "4. feature Big Chances Created (0.030)\n",
      "5. feature Passes (0.030)\n",
      "6. feature Blocked shots (0.026)\n",
      "7. feature Goals Conceded (0.023)\n",
      "8. feature Goals with right foot (0.023)\n",
      "9. feature Shots on target (0.023)\n",
      "10. feature Goals with left foot (0.021)\n",
      "11. feature Big chances missed (0.021)\n",
      "12. feature Hit woodwork (0.020)\n",
      "13. feature Own goals (0.020)\n",
      "14. feature Through balls (0.020)\n",
      "15. feature Shots (0.020)\n",
      "16. feature Accurate long balls (0.019)\n",
      "17. feature Sweeper clearances (0.019)\n",
      "18. feature Clearances off line (0.019)\n",
      "19. feature Crosses (0.019)\n",
      "20. feature Penalties scored (0.019)\n",
      "21. feature Tackle success % (0.019)\n",
      "22. feature Cross accuracy % (0.018)\n",
      "23. feature Successful 50/50s (0.018)\n",
      "24. feature Catches (0.018)\n",
      "25. feature Freekicks scored (0.018)\n",
      "26. feature Offsides (0.018)\n",
      "27. feature Tackles (0.018)\n",
      "28. feature Last man tackles (0.018)\n",
      "29. feature Penalties Saved (0.018)\n",
      "30. feature Goal Kicks (0.018)\n",
      "31. feature Red cards (0.018)\n",
      "32. feature Punches (0.018)\n",
      "33. feature Throw outs (0.018)\n",
      "34. feature Headed goals (0.017)\n",
      "35. feature Passes per match (0.017)\n",
      "36. feature Shooting accuracy % (0.017)\n",
      "37. feature Recoveries (0.017)\n",
      "38. feature Clearances (0.017)\n",
      "39. feature Errors leading to goal (0.017)\n",
      "40. feature Aerial battles won (0.017)\n",
      "41. feature Duels won (0.017)\n",
      "42. feature Interceptions (0.017)\n",
      "43. feature Goals per match (0.017)\n",
      "44. feature Yellow cards (0.017)\n",
      "45. feature Fouls (0.016)\n",
      "46. feature Headed Clearance (0.016)\n",
      "47. feature Saves (0.016)\n",
      "48. feature Aerial battles lost (0.016)\n",
      "49. feature High Claims (0.015)\n",
      "50. feature Duels lost (0.015)\n"
     ]
    },
    {
     "data": {
      "text/plain": "<Figure size 640x480 with 1 Axes>",
      "image/png": "[encoded data removed]"
     },
     "metadata": {},
     "output_type": "display_data"
    }
   ],
   "source": [
    "forest=RandomForestClassifier()\n",
    "forest.fit(X,y)\n",
    "importances = forest.feature_importances_\n",
    "std = np.std([tree.feature_importances_ for tree in forest.estimators_], axis=0)\n",
    "indices = np.argsort(importances)[::-1]\n",
    "\n",
    "# Print the feature ranking\n",
    "print(\"Feature ranking:\")\n",
    "\n",
    "for f in range(X.shape[1]):\n",
    "    print(\"{}. feature {} ({:.3f})\".format(f + 1, X.columns[indices][f], importances[indices[f]]))\n",
    "\n",
    "# Plot the impurity-based feature importances of the forest\n",
    "plt.figure()\n",
    "plt.title(\"Feature importances\")\n",
    "plt.bar(range(X.shape[1]), importances[indices],\n",
    "        color=\"r\", yerr=std[indices], align=\"center\")\n",
    "plt.xticks(range(X.shape[1]), X.columns[indices], rotation=45)\n",
    "plt.xlim([-1, X.shape[1]])\n",
    "plt.show()"
   ],
   "metadata": {
    "collapsed": false
   }
  },
  {
   "cell_type": "code",
   "execution_count": 78,
   "outputs": [],
   "source": [
    "X=X.drop(columns=X.columns[indices[13:]])"
   ],
   "metadata": {
    "collapsed": false
   }
  },
  {
   "cell_type": "markdown",
   "source": [
    "## Train,Test,Validation set split\n",
    "Split train,test,validation set into 0.8,0.1,0.1"
   ],
   "metadata": {
    "collapsed": false
   }
  },
  {
   "cell_type": "code",
   "execution_count": 36,
   "outputs": [],
   "source": [
    "X_train,X_test,y_train,y_test=train_test_split(X_scaled,y,test_size=0.2)\n",
    "X_test,X_val,y_test,y_val=train_test_split(X_test,y_test,test_size=0.5)"
   ],
   "metadata": {
    "collapsed": false
   }
  },
  {
   "cell_type": "code",
   "execution_count": 37,
   "outputs": [
    {
     "data": {
      "text/plain": "((2835, 13), (2835,), (354, 13), (354,), (355, 13), (355,))"
     },
     "execution_count": 37,
     "metadata": {},
     "output_type": "execute_result"
    }
   ],
   "source": [
    "X_train.shape, y_train.shape, X_test.shape, y_test.shape, X_val.shape, y_val.shape"
   ],
   "metadata": {
    "collapsed": false
   }
  },
  {
   "cell_type": "markdown",
   "source": [
    "## SVM"
   ],
   "metadata": {
    "collapsed": false
   }
  },
  {
   "cell_type": "code",
   "execution_count": 38,
   "outputs": [
    {
     "name": "stdout",
     "output_type": "stream",
     "text": [
      "{'C': 9, 'gamma': 0.01, 'kernel': 'rbf'}\n",
      "0.5527336860670194\n",
      "test score:0.5254237288135594\n",
      "val score:0.6\n"
     ]
    }
   ],
   "source": [
    "parameters = {'kernel': ('linear', 'rbf'), 'gamma': [1, 0.1, 0.01, 0.001, 0.0001], 'C': np.arange(1, 10)}\n",
    "svc = svm.SVC()\n",
    "clf = GridSearchCV(svc, parameters)\n",
    "clf.fit(X_train, y_train)\n",
    "print(clf.best_params_)\n",
    "print(clf.best_score_)\n",
    "print(\"test score:\"+ str(clf.score(X_test,y_test)))\n",
    "print(\"val score:\"+str(clf.score(X_val,y_val)))"
   ],
   "metadata": {
    "collapsed": false
   }
  },
  {
   "cell_type": "code",
   "execution_count": 39,
   "outputs": [],
   "source": [
    "SVM_result=clf.cv_results_"
   ],
   "metadata": {
    "collapsed": false
   }
  },
  {
   "cell_type": "code",
   "execution_count": 40,
   "outputs": [],
   "source": [
    "tmp_score=pd.DataFrame(SVM_result['mean_test_score'])\n",
    "tmp_attr=pd.DataFrame(SVM_result['params'])"
   ],
   "metadata": {
    "collapsed": false
   }
  },
  {
   "cell_type": "code",
   "execution_count": 41,
   "outputs": [],
   "source": [
    "SVM_score=pd.concat([tmp_score,tmp_attr],axis=1)\n",
    "SVM_score.columns=['Score','C','gamma','kernel']\n",
    "SVM_score=SVM_score.sort_values(by='Score',ascending=False)"
   ],
   "metadata": {
    "collapsed": false
   }
  },
  {
   "cell_type": "code",
   "execution_count": 42,
   "outputs": [
    {
     "data": {
      "text/plain": "       Score  C  gamma kernel\n85  0.552734  9   0.01    rbf\n65  0.552734  7   0.01    rbf\n75  0.552381  8   0.01    rbf\n55  0.552028  6   0.01    rbf\n45  0.551675  5   0.01    rbf\n..       ... ..    ...    ...\n41  0.476896  5   1.00    rbf\n21  0.475485  3   1.00    rbf\n61  0.475485  7   1.00    rbf\n71  0.474780  8   1.00    rbf\n81  0.474427  9   1.00    rbf\n\n[90 rows x 4 columns]",
      "text/html": "<div>\n<style scoped>\n    .dataframe tbody tr th:only-of-type {\n        vertical-align: middle;\n    }\n\n    .dataframe tbody tr th {\n        vertical-align: top;\n    }\n\n    .dataframe thead th {\n        text-align: right;\n    }\n</style>\n<table border=\"1\" class=\"dataframe\">\n  <thead>\n    <tr style=\"text-align: right;\">\n      <th></th>\n      <th>Score</th>\n      <th>C</th>\n      <th>gamma</th>\n      <th>kernel</th>\n    </tr>\n  </thead>\n  <tbody>\n    <tr>\n      <th>85</th>\n      <td>0.552734</td>\n      <td>9</td>\n      <td>0.01</td>\n      <td>rbf</td>\n    </tr>\n    <tr>\n      <th>65</th>\n      <td>0.552734</td>\n      <td>7</td>\n      <td>0.01</td>\n      <td>rbf</td>\n    </tr>\n    <tr>\n      <th>75</th>\n      <td>0.552381</td>\n      <td>8</td>\n      <td>0.01</td>\n      <td>rbf</td>\n    </tr>\n    <tr>\n      <th>55</th>\n      <td>0.552028</td>\n      <td>6</td>\n      <td>0.01</td>\n      <td>rbf</td>\n    </tr>\n    <tr>\n      <th>45</th>\n      <td>0.551675</td>\n      <td>5</td>\n      <td>0.01</td>\n      <td>rbf</td>\n    </tr>\n    <tr>\n      <th>...</th>\n      <td>...</td>\n      <td>...</td>\n      <td>...</td>\n      <td>...</td>\n    </tr>\n    <tr>\n      <th>41</th>\n      <td>0.476896</td>\n      <td>5</td>\n      <td>1.00</td>\n      <td>rbf</td>\n    </tr>\n    <tr>\n      <th>21</th>\n      <td>0.475485</td>\n      <td>3</td>\n      <td>1.00</td>\n      <td>rbf</td>\n    </tr>\n    <tr>\n      <th>61</th>\n      <td>0.475485</td>\n      <td>7</td>\n      <td>1.00</td>\n      <td>rbf</td>\n    </tr>\n    <tr>\n      <th>71</th>\n      <td>0.474780</td>\n      <td>8</td>\n      <td>1.00</td>\n      <td>rbf</td>\n    </tr>\n    <tr>\n      <th>81</th>\n      <td>0.474427</td>\n      <td>9</td>\n      <td>1.00</td>\n      <td>rbf</td>\n    </tr>\n  </tbody>\n</table>\n<p>90 rows × 4 columns</p>\n</div>"
     },
     "execution_count": 42,
     "metadata": {},
     "output_type": "execute_result"
    }
   ],
   "source": [
    "SVM_score"
   ],
   "metadata": {
    "collapsed": false
   }
  },
  {
   "cell_type": "markdown",
   "source": [
    "more refine with fixed kernel"
   ],
   "metadata": {
    "collapsed": false
   }
  },
  {
   "cell_type": "code",
   "execution_count": 45,
   "outputs": [
    {
     "name": "stdout",
     "output_type": "stream",
     "text": [
      "{'C': 14, 'gamma': 0.01, 'kernel': 'rbf'}\n",
      "0.5541446208112875\n",
      "test score:0.5310734463276836\n",
      "val score:0.6\n"
     ]
    }
   ],
   "source": [
    "parameters = {'kernel': ['rbf'], 'gamma': [0.01,0.001,0.0001], 'C': np.arange(1, 20)}\n",
    "svc = svm.SVC()\n",
    "clf = GridSearchCV(svc, parameters)\n",
    "clf.fit(X_train, y_train)\n",
    "print(clf.best_params_)\n",
    "print(clf.best_score_)\n",
    "print(\"test score:\"+ str(clf.score(X_test,y_test)))\n",
    "print(\"val score:\"+str(clf.score(X_val,y_val)))"
   ],
   "metadata": {
    "collapsed": false
   }
  },
  {
   "cell_type": "markdown",
   "source": [
    "### optimal parameter for SVM classifier\n",
    "> 'C': 14, 'gamma': 0.01, 'kernel': 'rbf'\n",
    "\n",
    "test score:0.53\n",
    "val score:0.6"
   ],
   "metadata": {
    "collapsed": false
   }
  },
  {
   "cell_type": "markdown",
   "source": [
    "## SGD classifier"
   ],
   "metadata": {
    "collapsed": false
   }
  },
  {
   "cell_type": "code",
   "execution_count": 46,
   "outputs": [
    {
     "name": "stdout",
     "output_type": "stream",
     "text": [
      "{'loss': 'hinge', 'max_iter': 500}\n",
      "0.5428571428571429\n",
      "test score:0.5310734463276836\n",
      "val score:0.5859154929577465\n"
     ]
    }
   ],
   "source": [
    "parameters = {'loss':['hinge', 'log_loss', 'modified_huber', 'squared_hinge', 'perceptron', 'squared_error', 'huber', 'epsilon_insensitive', 'squared_epsilon_insensitive'],'max_iter':[500, 1000, 1500, 2000, 2500, 3000]}\n",
    "svc = SGDClassifier()\n",
    "clf = GridSearchCV(svc, parameters)\n",
    "clf.fit(X_train, y_train)\n",
    "print(clf.best_params_)\n",
    "print(clf.best_score_)\n",
    "print(\"test score:\"+ str(clf.score(X_test,y_test)))\n",
    "print(\"val score:\"+str(clf.score(X_val,y_val)))"
   ],
   "metadata": {
    "collapsed": false
   }
  },
  {
   "cell_type": "code",
   "execution_count": 49,
   "outputs": [],
   "source": [
    "SGD_result=clf.cv_results_\n",
    "tmp_score=pd.DataFrame(SGD_result['mean_test_score'])\n",
    "tmp_attr=pd.DataFrame(SGD_result['params'])"
   ],
   "metadata": {
    "collapsed": false
   }
  },
  {
   "cell_type": "code",
   "execution_count": 50,
   "outputs": [],
   "source": [
    "SGD_score=pd.concat([tmp_score,tmp_attr],axis=1)\n",
    "SGD_score.columns=['Score','loss','max_iter']\n",
    "SGD_score=SGD_score.sort_values(by='Score',ascending=False)"
   ],
   "metadata": {
    "collapsed": false
   }
  },
  {
   "cell_type": "code",
   "execution_count": 51,
   "outputs": [
    {
     "data": {
      "text/plain": "       Score                         loss  max_iter\n0   0.542857                        hinge       500\n41  0.539683                        huber      3000\n10  0.539683                     log_loss      2500\n8   0.536508                     log_loss      1500\n37  0.534744                        huber      1000\n9   0.530511                     log_loss      2000\n1   0.528395                        hinge      1000\n6   0.527690                     log_loss       500\n36  0.526631                        huber       500\n38  0.523810                        huber      1500\n5   0.522751                        hinge      3000\n42  0.519929          epsilon_insensitive       500\n39  0.518519                        huber      2000\n11  0.518519                     log_loss      3000\n45  0.518519          epsilon_insensitive      2000\n44  0.517813          epsilon_insensitive      1500\n47  0.511464          epsilon_insensitive      3000\n2   0.511464                        hinge      1500\n40  0.507231                        huber      2500\n4   0.502646                        hinge      2500\n3   0.501235                        hinge      2000\n7   0.484656                     log_loss      1000\n17  0.480776               modified_huber      3000\n28  0.479365                   perceptron      2500\n27  0.461728                   perceptron      2000\n46  0.458201          epsilon_insensitive      2500\n26  0.454674                   perceptron      1500\n14  0.445503               modified_huber      1500\n34  0.443034                squared_error      2500\n35  0.441623                squared_error      3000\n43  0.441270          epsilon_insensitive      1000\n24  0.438095                   perceptron       500\n12  0.433510               modified_huber       500\n21  0.432451                squared_hinge      2000\n22  0.429982                squared_hinge      2500\n25  0.427513                   perceptron      1000\n16  0.427160               modified_huber      2500\n29  0.425750                   perceptron      3000\n15  0.425750               modified_huber      2000\n23  0.423280                squared_hinge      3000\n20  0.419048                squared_hinge      1500\n52  0.418695  squared_epsilon_insensitive      2500\n18  0.410935                squared_hinge       500\n13  0.406349               modified_huber      1000\n19  0.402116                squared_hinge      1000\n32  0.382716                squared_error      1500\n33  0.381658                squared_error      2000\n50  0.369665  squared_epsilon_insensitive      1500\n31  0.356261                squared_error      1000\n30  0.345326                squared_error       500\n51  0.344268  squared_epsilon_insensitive      2000\n48  0.326279  squared_epsilon_insensitive       500\n53  0.298060  squared_epsilon_insensitive      3000\n49  0.251499  squared_epsilon_insensitive      1000",
      "text/html": "<div>\n<style scoped>\n    .dataframe tbody tr th:only-of-type {\n        vertical-align: middle;\n    }\n\n    .dataframe tbody tr th {\n        vertical-align: top;\n    }\n\n    .dataframe thead th {\n        text-align: right;\n    }\n</style>\n<table border=\"1\" class=\"dataframe\">\n  <thead>\n    <tr style=\"text-align: right;\">\n      <th></th>\n      <th>Score</th>\n      <th>loss</th>\n      <th>max_iter</th>\n    </tr>\n  </thead>\n  <tbody>\n    <tr>\n      <th>0</th>\n      <td>0.542857</td>\n      <td>hinge</td>\n      <td>500</td>\n    </tr>\n    <tr>\n      <th>41</th>\n      <td>0.539683</td>\n      <td>huber</td>\n      <td>3000</td>\n    </tr>\n    <tr>\n      <th>10</th>\n      <td>0.539683</td>\n      <td>log_loss</td>\n      <td>2500</td>\n    </tr>\n    <tr>\n      <th>8</th>\n      <td>0.536508</td>\n      <td>log_loss</td>\n      <td>1500</td>\n    </tr>\n    <tr>\n      <th>37</th>\n      <td>0.534744</td>\n      <td>huber</td>\n      <td>1000</td>\n    </tr>\n    <tr>\n      <th>9</th>\n      <td>0.530511</td>\n      <td>log_loss</td>\n      <td>2000</td>\n    </tr>\n    <tr>\n      <th>1</th>\n      <td>0.528395</td>\n      <td>hinge</td>\n      <td>1000</td>\n    </tr>\n    <tr>\n      <th>6</th>\n      <td>0.527690</td>\n      <td>log_loss</td>\n      <td>500</td>\n    </tr>\n    <tr>\n      <th>36</th>\n      <td>0.526631</td>\n      <td>huber</td>\n      <td>500</td>\n    </tr>\n    <tr>\n      <th>38</th>\n      <td>0.523810</td>\n      <td>huber</td>\n      <td>1500</td>\n    </tr>\n    <tr>\n      <th>5</th>\n      <td>0.522751</td>\n      <td>hinge</td>\n      <td>3000</td>\n    </tr>\n    <tr>\n      <th>42</th>\n      <td>0.519929</td>\n      <td>epsilon_insensitive</td>\n      <td>500</td>\n    </tr>\n    <tr>\n      <th>39</th>\n      <td>0.518519</td>\n      <td>huber</td>\n      <td>2000</td>\n    </tr>\n    <tr>\n      <th>11</th>\n      <td>0.518519</td>\n      <td>log_loss</td>\n      <td>3000</td>\n    </tr>\n    <tr>\n      <th>45</th>\n      <td>0.518519</td>\n      <td>epsilon_insensitive</td>\n      <td>2000</td>\n    </tr>\n    <tr>\n      <th>44</th>\n      <td>0.517813</td>\n      <td>epsilon_insensitive</td>\n      <td>1500</td>\n    </tr>\n    <tr>\n      <th>47</th>\n      <td>0.511464</td>\n      <td>epsilon_insensitive</td>\n      <td>3000</td>\n    </tr>\n    <tr>\n      <th>2</th>\n      <td>0.511464</td>\n      <td>hinge</td>\n      <td>1500</td>\n    </tr>\n    <tr>\n      <th>40</th>\n      <td>0.507231</td>\n      <td>huber</td>\n      <td>2500</td>\n    </tr>\n    <tr>\n      <th>4</th>\n      <td>0.502646</td>\n      <td>hinge</td>\n      <td>2500</td>\n    </tr>\n    <tr>\n      <th>3</th>\n      <td>0.501235</td>\n      <td>hinge</td>\n      <td>2000</td>\n    </tr>\n    <tr>\n      <th>7</th>\n      <td>0.484656</td>\n      <td>log_loss</td>\n      <td>1000</td>\n    </tr>\n    <tr>\n      <th>17</th>\n      <td>0.480776</td>\n      <td>modified_huber</td>\n      <td>3000</td>\n    </tr>\n    <tr>\n      <th>28</th>\n      <td>0.479365</td>\n      <td>perceptron</td>\n      <td>2500</td>\n    </tr>\n    <tr>\n      <th>27</th>\n      <td>0.461728</td>\n      <td>perceptron</td>\n      <td>2000</td>\n    </tr>\n    <tr>\n      <th>46</th>\n      <td>0.458201</td>\n      <td>epsilon_insensitive</td>\n      <td>2500</td>\n    </tr>\n    <tr>\n      <th>26</th>\n      <td>0.454674</td>\n      <td>perceptron</td>\n      <td>1500</td>\n    </tr>\n    <tr>\n      <th>14</th>\n      <td>0.445503</td>\n      <td>modified_huber</td>\n      <td>1500</td>\n    </tr>\n    <tr>\n      <th>34</th>\n      <td>0.443034</td>\n      <td>squared_error</td>\n      <td>2500</td>\n    </tr>\n    <tr>\n      <th>35</th>\n      <td>0.441623</td>\n      <td>squared_error</td>\n      <td>3000</td>\n    </tr>\n    <tr>\n      <th>43</th>\n      <td>0.441270</td>\n      <td>epsilon_insensitive</td>\n      <td>1000</td>\n    </tr>\n    <tr>\n      <th>24</th>\n      <td>0.438095</td>\n      <td>perceptron</td>\n      <td>500</td>\n    </tr>\n    <tr>\n      <th>12</th>\n      <td>0.433510</td>\n      <td>modified_huber</td>\n      <td>500</td>\n    </tr>\n    <tr>\n      <th>21</th>\n      <td>0.432451</td>\n      <td>squared_hinge</td>\n      <td>2000</td>\n    </tr>\n    <tr>\n      <th>22</th>\n      <td>0.429982</td>\n      <td>squared_hinge</td>\n      <td>2500</td>\n    </tr>\n    <tr>\n      <th>25</th>\n      <td>0.427513</td>\n      <td>perceptron</td>\n      <td>1000</td>\n    </tr>\n    <tr>\n      <th>16</th>\n      <td>0.427160</td>\n      <td>modified_huber</td>\n      <td>2500</td>\n    </tr>\n    <tr>\n      <th>29</th>\n      <td>0.425750</td>\n      <td>perceptron</td>\n      <td>3000</td>\n    </tr>\n    <tr>\n      <th>15</th>\n      <td>0.425750</td>\n      <td>modified_huber</td>\n      <td>2000</td>\n    </tr>\n    <tr>\n      <th>23</th>\n      <td>0.423280</td>\n      <td>squared_hinge</td>\n      <td>3000</td>\n    </tr>\n    <tr>\n      <th>20</th>\n      <td>0.419048</td>\n      <td>squared_hinge</td>\n      <td>1500</td>\n    </tr>\n    <tr>\n      <th>52</th>\n      <td>0.418695</td>\n      <td>squared_epsilon_insensitive</td>\n      <td>2500</td>\n    </tr>\n    <tr>\n      <th>18</th>\n      <td>0.410935</td>\n      <td>squared_hinge</td>\n      <td>500</td>\n    </tr>\n    <tr>\n      <th>13</th>\n      <td>0.406349</td>\n      <td>modified_huber</td>\n      <td>1000</td>\n    </tr>\n    <tr>\n      <th>19</th>\n      <td>0.402116</td>\n      <td>squared_hinge</td>\n      <td>1000</td>\n    </tr>\n    <tr>\n      <th>32</th>\n      <td>0.382716</td>\n      <td>squared_error</td>\n      <td>1500</td>\n    </tr>\n    <tr>\n      <th>33</th>\n      <td>0.381658</td>\n      <td>squared_error</td>\n      <td>2000</td>\n    </tr>\n    <tr>\n      <th>50</th>\n      <td>0.369665</td>\n      <td>squared_epsilon_insensitive</td>\n      <td>1500</td>\n    </tr>\n    <tr>\n      <th>31</th>\n      <td>0.356261</td>\n      <td>squared_error</td>\n      <td>1000</td>\n    </tr>\n    <tr>\n      <th>30</th>\n      <td>0.345326</td>\n      <td>squared_error</td>\n      <td>500</td>\n    </tr>\n    <tr>\n      <th>51</th>\n      <td>0.344268</td>\n      <td>squared_epsilon_insensitive</td>\n      <td>2000</td>\n    </tr>\n    <tr>\n      <th>48</th>\n      <td>0.326279</td>\n      <td>squared_epsilon_insensitive</td>\n      <td>500</td>\n    </tr>\n    <tr>\n      <th>53</th>\n      <td>0.298060</td>\n      <td>squared_epsilon_insensitive</td>\n      <td>3000</td>\n    </tr>\n    <tr>\n      <th>49</th>\n      <td>0.251499</td>\n      <td>squared_epsilon_insensitive</td>\n      <td>1000</td>\n    </tr>\n  </tbody>\n</table>\n</div>"
     },
     "execution_count": 51,
     "metadata": {},
     "output_type": "execute_result"
    }
   ],
   "source": [
    "SGD_score"
   ],
   "metadata": {
    "collapsed": false
   }
  },
  {
   "cell_type": "markdown",
   "source": [
    "more refine with fixed loss function(hinge)"
   ],
   "metadata": {
    "collapsed": false
   }
  },
  {
   "cell_type": "code",
   "execution_count": 53,
   "outputs": [
    {
     "name": "stdout",
     "output_type": "stream",
     "text": [
      "{'loss': 'hinge', 'max_iter': 2000}\n",
      "0.5432098765432098\n",
      "test score:0.4180790960451977\n",
      "val score:0.39154929577464787\n"
     ]
    }
   ],
   "source": [
    "parameters = {'loss':['hinge'],'max_iter':np.arange(500,6000,step=500)}\n",
    "svc = SGDClassifier()\n",
    "clf = GridSearchCV(svc, parameters)\n",
    "clf.fit(X_train, y_train)\n",
    "print(clf.best_params_)\n",
    "print(clf.best_score_)\n",
    "print(\"test score:\"+ str(clf.score(X_test,y_test)))\n",
    "print(\"val score:\"+str(clf.score(X_val,y_val)))"
   ],
   "metadata": {
    "collapsed": false
   }
  },
  {
   "cell_type": "markdown",
   "source": [
    "### optimal parameter for SGD classifier\n",
    "> 'loss': 'hinge', 'max_iter': 2000\n",
    "\n",
    "test score:0.41\n",
    "val score:0.39"
   ],
   "metadata": {
    "collapsed": false
   }
  },
  {
   "cell_type": "markdown",
   "source": [
    "## Decision Tree"
   ],
   "metadata": {
    "collapsed": false
   }
  },
  {
   "cell_type": "code",
   "execution_count": 83,
   "outputs": [
    {
     "name": "stdout",
     "output_type": "stream",
     "text": [
      "{'max_depth': 4, 'random_state': 0}\n",
      "0.5350970017636684\n",
      "test score:0.4915254237288136\n",
      "val score:0.5521126760563381\n"
     ]
    }
   ],
   "source": [
    "parameters = {'random_state':np.arange(0,10),'max_depth':np.arange(4,10)}\n",
    "TREE = tree.DecisionTreeClassifier()\n",
    "clf = GridSearchCV(TREE, parameters)\n",
    "clf.fit(X_train, y_train)\n",
    "print(clf.best_params_)\n",
    "print(clf.best_score_)\n",
    "print(\"test score:\"+ str(clf.score(X_test,y_test)))\n",
    "print(\"val score:\"+str(clf.score(X_val,y_val)))"
   ],
   "metadata": {
    "collapsed": false
   }
  },
  {
   "cell_type": "markdown",
   "source": [
    "### visualize decision tree"
   ],
   "metadata": {
    "collapsed": false
   }
  },
  {
   "cell_type": "code",
   "execution_count": 87,
   "outputs": [],
   "source": [
    "clf=tree.DecisionTreeClassifier(max_depth=4)\n",
    "clf.fit(X_train,y_train)\n",
    "from sklearn.tree import export_graphviz\n",
    "export_graphviz(clf, out_file=\"tree.dot\", class_names = y_train,\n",
    "                feature_names = X.columns, impurity=True, filled=True)"
   ],
   "metadata": {
    "collapsed": false
   }
  },
  {
   "cell_type": "code",
   "execution_count": 88,
   "outputs": [
    {
     "data": {
      "image/svg+xml": "<?xml version=\"1.0\" encoding=\"UTF-8\" standalone=\"no\"?>\n<!DOCTYPE svg PUBLIC \"-//W3C//DTD SVG 1.1//EN\"\n \"http://www.w3.org/Graphics/SVG/1.1/DTD/svg11.dtd\">\n<!-- Generated by graphviz version 2.50.0 (0)\n -->\n<!-- Title: Tree Pages: 1 -->\n<svg width=\"2360pt\" height=\"552pt\"\n viewBox=\"0.00 0.00 2360.00 552.00\" xmlns=\"http://www.w3.org/2000/svg\" xmlns:xlink=\"http://www.w3.org/1999/xlink\">\n<g id=\"graph0\" class=\"graph\" transform=\"scale(1 1) rotate(0) translate(4 548)\">\n<title>Tree</title>\n<polygon fill=\"white\" stroke=\"transparent\" points=\"-4,4 -4,-548 2356,-548 2356,4 -4,4\"/>\n<!-- 0 -->\n<g id=\"node1\" class=\"node\">\n<title>0</title>\n<polygon fill=\"#e5d7fa\" stroke=\"black\" points=\"1284,-544 1122,-544 1122,-461 1284,-461 1284,-544\"/>\n<text text-anchor=\"middle\" x=\"1203\" y=\"-528.8\" font-family=\"Helvetica,sans-Serif\" font-size=\"14.00\">Assists &lt;= 0.185</text>\n<text text-anchor=\"middle\" x=\"1203\" y=\"-513.8\" font-family=\"Helvetica,sans-Serif\" font-size=\"14.00\">gini = 0.644</text>\n<text text-anchor=\"middle\" x=\"1203\" y=\"-498.8\" font-family=\"Helvetica,sans-Serif\" font-size=\"14.00\">samples = 2835</text>\n<text text-anchor=\"middle\" x=\"1203\" y=\"-483.8\" font-family=\"Helvetica,sans-Serif\" font-size=\"14.00\">value = [879, 679, 1277]</text>\n<text text-anchor=\"middle\" x=\"1203\" y=\"-468.8\" font-family=\"Helvetica,sans-Serif\" font-size=\"14.00\">class = Home</text>\n</g>\n<!-- 1 -->\n<g id=\"node2\" class=\"node\">\n<title>1</title>\n<polygon fill=\"#fbece1\" stroke=\"black\" points=\"988,-425 830,-425 830,-342 988,-342 988,-425\"/>\n<text text-anchor=\"middle\" x=\"909\" y=\"-409.8\" font-family=\"Helvetica,sans-Serif\" font-size=\"14.00\">Clean sheets &lt;= &#45;0.326</text>\n<text text-anchor=\"middle\" x=\"909\" y=\"-394.8\" font-family=\"Helvetica,sans-Serif\" font-size=\"14.00\">gini = 0.654</text>\n<text text-anchor=\"middle\" x=\"909\" y=\"-379.8\" font-family=\"Helvetica,sans-Serif\" font-size=\"14.00\">samples = 1664</text>\n<text text-anchor=\"middle\" x=\"909\" y=\"-364.8\" font-family=\"Helvetica,sans-Serif\" font-size=\"14.00\">value = [697, 442, 525]</text>\n<text text-anchor=\"middle\" x=\"909\" y=\"-349.8\" font-family=\"Helvetica,sans-Serif\" font-size=\"14.00\">class = Draw</text>\n</g>\n<!-- 0&#45;&gt;1 -->\n<g id=\"edge1\" class=\"edge\">\n<title>0&#45;&gt;1</title>\n<path fill=\"none\" stroke=\"black\" d=\"M1121.88,-469.22C1083.26,-453.85 1036.97,-435.43 997.44,-419.7\"/>\n<polygon fill=\"black\" stroke=\"black\" points=\"998.66,-416.41 988.07,-415.97 996.07,-422.92 998.66,-416.41\"/>\n<text text-anchor=\"middle\" x=\"997.96\" y=\"-435.23\" font-family=\"Helvetica,sans-Serif\" font-size=\"14.00\">True</text>\n</g>\n<!-- 16 -->\n<g id=\"node17\" class=\"node\">\n<title>16</title>\n<polygon fill=\"#ba92f1\" stroke=\"black\" points=\"1593.5,-425 1438.5,-425 1438.5,-342 1593.5,-342 1593.5,-425\"/>\n<text text-anchor=\"middle\" x=\"1516\" y=\"-409.8\" font-family=\"Helvetica,sans-Serif\" font-size=\"14.00\">Passes &lt;= 0.781</text>\n<text text-anchor=\"middle\" x=\"1516\" y=\"-394.8\" font-family=\"Helvetica,sans-Serif\" font-size=\"14.00\">gini = 0.522</text>\n<text text-anchor=\"middle\" x=\"1516\" y=\"-379.8\" font-family=\"Helvetica,sans-Serif\" font-size=\"14.00\">samples = 1171</text>\n<text text-anchor=\"middle\" x=\"1516\" y=\"-364.8\" font-family=\"Helvetica,sans-Serif\" font-size=\"14.00\">value = [182, 237, 752]</text>\n<text text-anchor=\"middle\" x=\"1516\" y=\"-349.8\" font-family=\"Helvetica,sans-Serif\" font-size=\"14.00\">class = Home</text>\n</g>\n<!-- 0&#45;&gt;16 -->\n<g id=\"edge16\" class=\"edge\">\n<title>0&#45;&gt;16</title>\n<path fill=\"none\" stroke=\"black\" d=\"M1284.01,-471.22C1328.4,-454.62 1383.45,-434.05 1428.78,-417.1\"/>\n<polygon fill=\"black\" stroke=\"black\" points=\"1430.15,-420.33 1438.3,-413.55 1427.7,-413.77 1430.15,-420.33\"/>\n<text text-anchor=\"middle\" x=\"1427.93\" y=\"-432.59\" font-family=\"Helvetica,sans-Serif\" font-size=\"14.00\">False</text>\n</g>\n<!-- 2 -->\n<g id=\"node3\" class=\"node\">\n<title>2</title>\n<polygon fill=\"#f4caac\" stroke=\"black\" points=\"547.5,-306 392.5,-306 392.5,-223 547.5,-223 547.5,-306\"/>\n<text text-anchor=\"middle\" x=\"470\" y=\"-290.8\" font-family=\"Helvetica,sans-Serif\" font-size=\"14.00\">Assists &lt;= &#45;0.68</text>\n<text text-anchor=\"middle\" x=\"470\" y=\"-275.8\" font-family=\"Helvetica,sans-Serif\" font-size=\"14.00\">gini = 0.597</text>\n<text text-anchor=\"middle\" x=\"470\" y=\"-260.8\" font-family=\"Helvetica,sans-Serif\" font-size=\"14.00\">samples = 870</text>\n<text text-anchor=\"middle\" x=\"470\" y=\"-245.8\" font-family=\"Helvetica,sans-Serif\" font-size=\"14.00\">value = [478, 195, 197]</text>\n<text text-anchor=\"middle\" x=\"470\" y=\"-230.8\" font-family=\"Helvetica,sans-Serif\" font-size=\"14.00\">class = Draw</text>\n</g>\n<!-- 1&#45;&gt;2 -->\n<g id=\"edge2\" class=\"edge\">\n<title>1&#45;&gt;2</title>\n<path fill=\"none\" stroke=\"black\" d=\"M829.75,-361.38C753.02,-340.93 636.93,-309.99 557.51,-288.82\"/>\n<polygon fill=\"black\" stroke=\"black\" points=\"558.09,-285.36 547.53,-286.16 556.29,-292.12 558.09,-285.36\"/>\n</g>\n<!-- 9 -->\n<g id=\"node10\" class=\"node\">\n<title>9</title>\n<polygon fill=\"#ece2fb\" stroke=\"black\" points=\"994,-306 824,-306 824,-223 994,-223 994,-306\"/>\n<text text-anchor=\"middle\" x=\"909\" y=\"-290.8\" font-family=\"Helvetica,sans-Serif\" font-size=\"14.00\">Shots on target &lt;= &#45;0.873</text>\n<text text-anchor=\"middle\" x=\"909\" y=\"-275.8\" font-family=\"Helvetica,sans-Serif\" font-size=\"14.00\">gini = 0.657</text>\n<text text-anchor=\"middle\" x=\"909\" y=\"-260.8\" font-family=\"Helvetica,sans-Serif\" font-size=\"14.00\">samples = 794</text>\n<text text-anchor=\"middle\" x=\"909\" y=\"-245.8\" font-family=\"Helvetica,sans-Serif\" font-size=\"14.00\">value = [219, 247, 328]</text>\n<text text-anchor=\"middle\" x=\"909\" y=\"-230.8\" font-family=\"Helvetica,sans-Serif\" font-size=\"14.00\">class = Home</text>\n</g>\n<!-- 1&#45;&gt;9 -->\n<g id=\"edge9\" class=\"edge\">\n<title>1&#45;&gt;9</title>\n<path fill=\"none\" stroke=\"black\" d=\"M909,-341.91C909,-333.65 909,-324.86 909,-316.3\"/>\n<polygon fill=\"black\" stroke=\"black\" points=\"912.5,-316.02 909,-306.02 905.5,-316.02 912.5,-316.02\"/>\n</g>\n<!-- 3 -->\n<g id=\"node4\" class=\"node\">\n<title>3</title>\n<polygon fill=\"#f0b58b\" stroke=\"black\" points=\"312,-187 144,-187 144,-104 312,-104 312,-187\"/>\n<text text-anchor=\"middle\" x=\"228\" y=\"-171.8\" font-family=\"Helvetica,sans-Serif\" font-size=\"14.00\">Goals Conceded &lt;= 1.31</text>\n<text text-anchor=\"middle\" x=\"228\" y=\"-156.8\" font-family=\"Helvetica,sans-Serif\" font-size=\"14.00\">gini = 0.508</text>\n<text text-anchor=\"middle\" x=\"228\" y=\"-141.8\" font-family=\"Helvetica,sans-Serif\" font-size=\"14.00\">samples = 481</text>\n<text text-anchor=\"middle\" x=\"228\" y=\"-126.8\" font-family=\"Helvetica,sans-Serif\" font-size=\"14.00\">value = [317, 83, 81]</text>\n<text text-anchor=\"middle\" x=\"228\" y=\"-111.8\" font-family=\"Helvetica,sans-Serif\" font-size=\"14.00\">class = Draw</text>\n</g>\n<!-- 2&#45;&gt;3 -->\n<g id=\"edge3\" class=\"edge\">\n<title>2&#45;&gt;3</title>\n<path fill=\"none\" stroke=\"black\" d=\"M392.43,-226C369.73,-215.02 344.68,-202.91 321.12,-191.52\"/>\n<polygon fill=\"black\" stroke=\"black\" points=\"322.35,-188.23 311.82,-187.03 319.3,-194.53 322.35,-188.23\"/>\n</g>\n<!-- 6 -->\n<g id=\"node7\" class=\"node\">\n<title>6</title>\n<polygon fill=\"#fbeade\" stroke=\"black\" points=\"550,-187 390,-187 390,-104 550,-104 550,-187\"/>\n<text text-anchor=\"middle\" x=\"470\" y=\"-171.8\" font-family=\"Helvetica,sans-Serif\" font-size=\"14.00\">Hit woodwork &lt;= &#45;0.918</text>\n<text text-anchor=\"middle\" x=\"470\" y=\"-156.8\" font-family=\"Helvetica,sans-Serif\" font-size=\"14.00\">gini = 0.657</text>\n<text text-anchor=\"middle\" x=\"470\" y=\"-141.8\" font-family=\"Helvetica,sans-Serif\" font-size=\"14.00\">samples = 389</text>\n<text text-anchor=\"middle\" x=\"470\" y=\"-126.8\" font-family=\"Helvetica,sans-Serif\" font-size=\"14.00\">value = [161, 112, 116]</text>\n<text text-anchor=\"middle\" x=\"470\" y=\"-111.8\" font-family=\"Helvetica,sans-Serif\" font-size=\"14.00\">class = Draw</text>\n</g>\n<!-- 2&#45;&gt;6 -->\n<g id=\"edge6\" class=\"edge\">\n<title>2&#45;&gt;6</title>\n<path fill=\"none\" stroke=\"black\" d=\"M470,-222.91C470,-214.65 470,-205.86 470,-197.3\"/>\n<polygon fill=\"black\" stroke=\"black\" points=\"473.5,-197.02 470,-187.02 466.5,-197.02 473.5,-197.02\"/>\n</g>\n<!-- 4 -->\n<g id=\"node5\" class=\"node\">\n<title>4</title>\n<polygon fill=\"#f2bf9b\" stroke=\"black\" points=\"140,-68 0,-68 0,0 140,0 140,-68\"/>\n<text text-anchor=\"middle\" x=\"70\" y=\"-52.8\" font-family=\"Helvetica,sans-Serif\" font-size=\"14.00\">gini = 0.554</text>\n<text text-anchor=\"middle\" x=\"70\" y=\"-37.8\" font-family=\"Helvetica,sans-Serif\" font-size=\"14.00\">samples = 349</text>\n<text text-anchor=\"middle\" x=\"70\" y=\"-22.8\" font-family=\"Helvetica,sans-Serif\" font-size=\"14.00\">value = [212, 66, 71]</text>\n<text text-anchor=\"middle\" x=\"70\" y=\"-7.8\" font-family=\"Helvetica,sans-Serif\" font-size=\"14.00\">class = Draw</text>\n</g>\n<!-- 3&#45;&gt;4 -->\n<g id=\"edge4\" class=\"edge\">\n<title>3&#45;&gt;4</title>\n<path fill=\"none\" stroke=\"black\" d=\"M169.17,-103.73C155.14,-94.01 140.21,-83.66 126.31,-74.02\"/>\n<polygon fill=\"black\" stroke=\"black\" points=\"128.01,-70.94 117.8,-68.13 124.02,-76.7 128.01,-70.94\"/>\n</g>\n<!-- 5 -->\n<g id=\"node6\" class=\"node\">\n<title>5</title>\n<polygon fill=\"#eb9f67\" stroke=\"black\" points=\"298,-68 158,-68 158,0 298,0 298,-68\"/>\n<text text-anchor=\"middle\" x=\"228\" y=\"-52.8\" font-family=\"Helvetica,sans-Serif\" font-size=\"14.00\">gini = 0.345</text>\n<text text-anchor=\"middle\" x=\"228\" y=\"-37.8\" font-family=\"Helvetica,sans-Serif\" font-size=\"14.00\">samples = 132</text>\n<text text-anchor=\"middle\" x=\"228\" y=\"-22.8\" font-family=\"Helvetica,sans-Serif\" font-size=\"14.00\">value = [105, 17, 10]</text>\n<text text-anchor=\"middle\" x=\"228\" y=\"-7.8\" font-family=\"Helvetica,sans-Serif\" font-size=\"14.00\">class = Draw</text>\n</g>\n<!-- 3&#45;&gt;5 -->\n<g id=\"edge5\" class=\"edge\">\n<title>3&#45;&gt;5</title>\n<path fill=\"none\" stroke=\"black\" d=\"M228,-103.73C228,-95.52 228,-86.86 228,-78.56\"/>\n<polygon fill=\"black\" stroke=\"black\" points=\"231.5,-78.3 228,-68.3 224.5,-78.3 231.5,-78.3\"/>\n</g>\n<!-- 7 -->\n<g id=\"node8\" class=\"node\">\n<title>7</title>\n<polygon fill=\"#eeab7b\" stroke=\"black\" points=\"433.5,-68 316.5,-68 316.5,0 433.5,0 433.5,-68\"/>\n<text text-anchor=\"middle\" x=\"375\" y=\"-52.8\" font-family=\"Helvetica,sans-Serif\" font-size=\"14.00\">gini = 0.375</text>\n<text text-anchor=\"middle\" x=\"375\" y=\"-37.8\" font-family=\"Helvetica,sans-Serif\" font-size=\"14.00\">samples = 24</text>\n<text text-anchor=\"middle\" x=\"375\" y=\"-22.8\" font-family=\"Helvetica,sans-Serif\" font-size=\"14.00\">value = [18, 6, 0]</text>\n<text text-anchor=\"middle\" x=\"375\" y=\"-7.8\" font-family=\"Helvetica,sans-Serif\" font-size=\"14.00\">class = Draw</text>\n</g>\n<!-- 6&#45;&gt;7 -->\n<g id=\"edge7\" class=\"edge\">\n<title>6&#45;&gt;7</title>\n<path fill=\"none\" stroke=\"black\" d=\"M434.63,-103.73C426.79,-94.7 418.49,-85.12 410.64,-76.08\"/>\n<polygon fill=\"black\" stroke=\"black\" points=\"413.09,-73.56 403.89,-68.3 407.8,-78.15 413.09,-73.56\"/>\n</g>\n<!-- 8 -->\n<g id=\"node9\" class=\"node\">\n<title>8</title>\n<polygon fill=\"#fcf1ea\" stroke=\"black\" points=\"606.5,-68 451.5,-68 451.5,0 606.5,0 606.5,-68\"/>\n<text text-anchor=\"middle\" x=\"529\" y=\"-52.8\" font-family=\"Helvetica,sans-Serif\" font-size=\"14.00\">gini = 0.661</text>\n<text text-anchor=\"middle\" x=\"529\" y=\"-37.8\" font-family=\"Helvetica,sans-Serif\" font-size=\"14.00\">samples = 365</text>\n<text text-anchor=\"middle\" x=\"529\" y=\"-22.8\" font-family=\"Helvetica,sans-Serif\" font-size=\"14.00\">value = [143, 106, 116]</text>\n<text text-anchor=\"middle\" x=\"529\" y=\"-7.8\" font-family=\"Helvetica,sans-Serif\" font-size=\"14.00\">class = Draw</text>\n</g>\n<!-- 6&#45;&gt;8 -->\n<g id=\"edge8\" class=\"edge\">\n<title>6&#45;&gt;8</title>\n<path fill=\"none\" stroke=\"black\" d=\"M491.97,-103.73C496.64,-95.06 501.58,-85.9 506.27,-77.18\"/>\n<polygon fill=\"black\" stroke=\"black\" points=\"509.4,-78.76 511.06,-68.3 503.23,-75.44 509.4,-78.76\"/>\n</g>\n<!-- 10 -->\n<g id=\"node11\" class=\"node\">\n<title>10</title>\n<polygon fill=\"#fbeee4\" stroke=\"black\" points=\"896,-187 738,-187 738,-104 896,-104 896,-187\"/>\n<text text-anchor=\"middle\" x=\"817\" y=\"-171.8\" font-family=\"Helvetica,sans-Serif\" font-size=\"14.00\">Blocked shots &lt;= 0.933</text>\n<text text-anchor=\"middle\" x=\"817\" y=\"-156.8\" font-family=\"Helvetica,sans-Serif\" font-size=\"14.00\">gini = 0.655</text>\n<text text-anchor=\"middle\" x=\"817\" y=\"-141.8\" font-family=\"Helvetica,sans-Serif\" font-size=\"14.00\">samples = 174</text>\n<text text-anchor=\"middle\" x=\"817\" y=\"-126.8\" font-family=\"Helvetica,sans-Serif\" font-size=\"14.00\">value = [72, 56, 46]</text>\n<text text-anchor=\"middle\" x=\"817\" y=\"-111.8\" font-family=\"Helvetica,sans-Serif\" font-size=\"14.00\">class = Draw</text>\n</g>\n<!-- 9&#45;&gt;10 -->\n<g id=\"edge10\" class=\"edge\">\n<title>9&#45;&gt;10</title>\n<path fill=\"none\" stroke=\"black\" d=\"M877.08,-222.91C870.02,-213.92 862.46,-204.32 855.18,-195.05\"/>\n<polygon fill=\"black\" stroke=\"black\" points=\"857.8,-192.72 848.86,-187.02 852.29,-197.05 857.8,-192.72\"/>\n</g>\n<!-- 13 -->\n<g id=\"node14\" class=\"node\">\n<title>13</title>\n<polygon fill=\"#e4d5f9\" stroke=\"black\" points=\"1090,-187 914,-187 914,-104 1090,-104 1090,-187\"/>\n<text text-anchor=\"middle\" x=\"1002\" y=\"-171.8\" font-family=\"Helvetica,sans-Serif\" font-size=\"14.00\">Goals Conceded &lt;= 0.409</text>\n<text text-anchor=\"middle\" x=\"1002\" y=\"-156.8\" font-family=\"Helvetica,sans-Serif\" font-size=\"14.00\">gini = 0.642</text>\n<text text-anchor=\"middle\" x=\"1002\" y=\"-141.8\" font-family=\"Helvetica,sans-Serif\" font-size=\"14.00\">samples = 620</text>\n<text text-anchor=\"middle\" x=\"1002\" y=\"-126.8\" font-family=\"Helvetica,sans-Serif\" font-size=\"14.00\">value = [147, 191, 282]</text>\n<text text-anchor=\"middle\" x=\"1002\" y=\"-111.8\" font-family=\"Helvetica,sans-Serif\" font-size=\"14.00\">class = Home</text>\n</g>\n<!-- 9&#45;&gt;13 -->\n<g id=\"edge13\" class=\"edge\">\n<title>9&#45;&gt;13</title>\n<path fill=\"none\" stroke=\"black\" d=\"M941.27,-222.91C948.41,-213.92 956.04,-204.32 963.41,-195.05\"/>\n<polygon fill=\"black\" stroke=\"black\" points=\"966.31,-197.03 969.79,-187.02 960.83,-192.67 966.31,-197.03\"/>\n</g>\n<!-- 11 -->\n<g id=\"node12\" class=\"node\">\n<title>11</title>\n<polygon fill=\"#fefbf9\" stroke=\"black\" points=\"757,-68 625,-68 625,0 757,0 757,-68\"/>\n<text text-anchor=\"middle\" x=\"691\" y=\"-52.8\" font-family=\"Helvetica,sans-Serif\" font-size=\"14.00\">gini = 0.662</text>\n<text text-anchor=\"middle\" x=\"691\" y=\"-37.8\" font-family=\"Helvetica,sans-Serif\" font-size=\"14.00\">samples = 154</text>\n<text text-anchor=\"middle\" x=\"691\" y=\"-22.8\" font-family=\"Helvetica,sans-Serif\" font-size=\"14.00\">value = [57, 54, 43]</text>\n<text text-anchor=\"middle\" x=\"691\" y=\"-7.8\" font-family=\"Helvetica,sans-Serif\" font-size=\"14.00\">class = Draw</text>\n</g>\n<!-- 10&#45;&gt;11 -->\n<g id=\"edge11\" class=\"edge\">\n<title>10&#45;&gt;11</title>\n<path fill=\"none\" stroke=\"black\" d=\"M770.08,-103.73C759.27,-94.33 747.79,-84.35 737.01,-74.99\"/>\n<polygon fill=\"black\" stroke=\"black\" points=\"739.16,-72.22 729.32,-68.3 734.57,-77.5 739.16,-72.22\"/>\n</g>\n<!-- 12 -->\n<g id=\"node13\" class=\"node\">\n<title>12</title>\n<polygon fill=\"#eda673\" stroke=\"black\" points=\"892.5,-68 775.5,-68 775.5,0 892.5,0 892.5,-68\"/>\n<text text-anchor=\"middle\" x=\"834\" y=\"-52.8\" font-family=\"Helvetica,sans-Serif\" font-size=\"14.00\">gini = 0.405</text>\n<text text-anchor=\"middle\" x=\"834\" y=\"-37.8\" font-family=\"Helvetica,sans-Serif\" font-size=\"14.00\">samples = 20</text>\n<text text-anchor=\"middle\" x=\"834\" y=\"-22.8\" font-family=\"Helvetica,sans-Serif\" font-size=\"14.00\">value = [15, 2, 3]</text>\n<text text-anchor=\"middle\" x=\"834\" y=\"-7.8\" font-family=\"Helvetica,sans-Serif\" font-size=\"14.00\">class = Draw</text>\n</g>\n<!-- 10&#45;&gt;12 -->\n<g id=\"edge12\" class=\"edge\">\n<title>10&#45;&gt;12</title>\n<path fill=\"none\" stroke=\"black\" d=\"M823.33,-103.73C824.62,-95.43 825.98,-86.67 827.28,-78.28\"/>\n<polygon fill=\"black\" stroke=\"black\" points=\"830.75,-78.72 828.83,-68.3 823.84,-77.64 830.75,-78.72\"/>\n</g>\n<!-- 14 -->\n<g id=\"node15\" class=\"node\">\n<title>14</title>\n<polygon fill=\"#d9c3f7\" stroke=\"black\" points=\"1057.5,-68 910.5,-68 910.5,0 1057.5,0 1057.5,-68\"/>\n<text text-anchor=\"middle\" x=\"984\" y=\"-52.8\" font-family=\"Helvetica,sans-Serif\" font-size=\"14.00\">gini = 0.621</text>\n<text text-anchor=\"middle\" x=\"984\" y=\"-37.8\" font-family=\"Helvetica,sans-Serif\" font-size=\"14.00\">samples = 422</text>\n<text text-anchor=\"middle\" x=\"984\" y=\"-22.8\" font-family=\"Helvetica,sans-Serif\" font-size=\"14.00\">value = [89, 121, 212]</text>\n<text text-anchor=\"middle\" x=\"984\" y=\"-7.8\" font-family=\"Helvetica,sans-Serif\" font-size=\"14.00\">class = Home</text>\n</g>\n<!-- 13&#45;&gt;14 -->\n<g id=\"edge14\" class=\"edge\">\n<title>13&#45;&gt;14</title>\n<path fill=\"none\" stroke=\"black\" d=\"M995.3,-103.73C993.93,-95.43 992.49,-86.67 991.12,-78.28\"/>\n<polygon fill=\"black\" stroke=\"black\" points=\"994.55,-77.6 989.47,-68.3 987.64,-78.73 994.55,-77.6\"/>\n</g>\n<!-- 15 -->\n<g id=\"node16\" class=\"node\">\n<title>15</title>\n<polygon fill=\"#ffffff\" stroke=\"black\" points=\"1208,-68 1076,-68 1076,0 1208,0 1208,-68\"/>\n<text text-anchor=\"middle\" x=\"1142\" y=\"-52.8\" font-family=\"Helvetica,sans-Serif\" font-size=\"14.00\">gini = 0.664</text>\n<text text-anchor=\"middle\" x=\"1142\" y=\"-37.8\" font-family=\"Helvetica,sans-Serif\" font-size=\"14.00\">samples = 198</text>\n<text text-anchor=\"middle\" x=\"1142\" y=\"-22.8\" font-family=\"Helvetica,sans-Serif\" font-size=\"14.00\">value = [58, 70, 70]</text>\n<text text-anchor=\"middle\" x=\"1142\" y=\"-7.8\" font-family=\"Helvetica,sans-Serif\" font-size=\"14.00\">class = Away</text>\n</g>\n<!-- 13&#45;&gt;15 -->\n<g id=\"edge15\" class=\"edge\">\n<title>13&#45;&gt;15</title>\n<path fill=\"none\" stroke=\"black\" d=\"M1054.13,-103.73C1066.26,-94.24 1079.15,-84.16 1091.22,-74.72\"/>\n<polygon fill=\"black\" stroke=\"black\" points=\"1093.7,-77.22 1099.43,-68.3 1089.39,-71.7 1093.7,-77.22\"/>\n</g>\n<!-- 17 -->\n<g id=\"node18\" class=\"node\">\n<title>17</title>\n<polygon fill=\"#ccaef4\" stroke=\"black\" points=\"1604,-306 1428,-306 1428,-223 1604,-223 1604,-306\"/>\n<text text-anchor=\"middle\" x=\"1516\" y=\"-290.8\" font-family=\"Helvetica,sans-Serif\" font-size=\"14.00\">Goals Conceded &lt;= 0.107</text>\n<text text-anchor=\"middle\" x=\"1516\" y=\"-275.8\" font-family=\"Helvetica,sans-Serif\" font-size=\"14.00\">gini = 0.596</text>\n<text text-anchor=\"middle\" x=\"1516\" y=\"-260.8\" font-family=\"Helvetica,sans-Serif\" font-size=\"14.00\">samples = 669</text>\n<text text-anchor=\"middle\" x=\"1516\" y=\"-245.8\" font-family=\"Helvetica,sans-Serif\" font-size=\"14.00\">value = [141, 160, 368]</text>\n<text text-anchor=\"middle\" x=\"1516\" y=\"-230.8\" font-family=\"Helvetica,sans-Serif\" font-size=\"14.00\">class = Home</text>\n</g>\n<!-- 16&#45;&gt;17 -->\n<g id=\"edge17\" class=\"edge\">\n<title>16&#45;&gt;17</title>\n<path fill=\"none\" stroke=\"black\" d=\"M1516,-341.91C1516,-333.65 1516,-324.86 1516,-316.3\"/>\n<polygon fill=\"black\" stroke=\"black\" points=\"1519.5,-316.02 1516,-306.02 1512.5,-316.02 1519.5,-316.02\"/>\n</g>\n<!-- 24 -->\n<g id=\"node25\" class=\"node\">\n<title>24</title>\n<polygon fill=\"#a470ec\" stroke=\"black\" points=\"2017,-306 1837,-306 1837,-223 2017,-223 2017,-306\"/>\n<text text-anchor=\"middle\" x=\"1927\" y=\"-290.8\" font-family=\"Helvetica,sans-Serif\" font-size=\"14.00\">Goals Conceded &lt;= &#45;0.695</text>\n<text text-anchor=\"middle\" x=\"1927\" y=\"-275.8\" font-family=\"Helvetica,sans-Serif\" font-size=\"14.00\">gini = 0.385</text>\n<text text-anchor=\"middle\" x=\"1927\" y=\"-260.8\" font-family=\"Helvetica,sans-Serif\" font-size=\"14.00\">samples = 502</text>\n<text text-anchor=\"middle\" x=\"1927\" y=\"-245.8\" font-family=\"Helvetica,sans-Serif\" font-size=\"14.00\">value = [41, 77, 384]</text>\n<text text-anchor=\"middle\" x=\"1927\" y=\"-230.8\" font-family=\"Helvetica,sans-Serif\" font-size=\"14.00\">class = Home</text>\n</g>\n<!-- 16&#45;&gt;24 -->\n<g id=\"edge24\" class=\"edge\">\n<title>16&#45;&gt;24</title>\n<path fill=\"none\" stroke=\"black\" d=\"M1593.79,-360.36C1659.8,-341.56 1754.95,-314.48 1826.68,-294.06\"/>\n<polygon fill=\"black\" stroke=\"black\" points=\"1827.98,-297.33 1836.64,-291.22 1826.06,-290.59 1827.98,-297.33\"/>\n</g>\n<!-- 18 -->\n<g id=\"node19\" class=\"node\">\n<title>18</title>\n<polygon fill=\"#c09df2\" stroke=\"black\" points=\"1514,-187 1356,-187 1356,-104 1514,-104 1514,-187\"/>\n<text text-anchor=\"middle\" x=\"1435\" y=\"-171.8\" font-family=\"Helvetica,sans-Serif\" font-size=\"14.00\">Blocked shots &lt;= 0.765</text>\n<text text-anchor=\"middle\" x=\"1435\" y=\"-156.8\" font-family=\"Helvetica,sans-Serif\" font-size=\"14.00\">gini = 0.554</text>\n<text text-anchor=\"middle\" x=\"1435\" y=\"-141.8\" font-family=\"Helvetica,sans-Serif\" font-size=\"14.00\">samples = 493</text>\n<text text-anchor=\"middle\" x=\"1435\" y=\"-126.8\" font-family=\"Helvetica,sans-Serif\" font-size=\"14.00\">value = [86, 108, 299]</text>\n<text text-anchor=\"middle\" x=\"1435\" y=\"-111.8\" font-family=\"Helvetica,sans-Serif\" font-size=\"14.00\">class = Home</text>\n</g>\n<!-- 17&#45;&gt;18 -->\n<g id=\"edge18\" class=\"edge\">\n<title>17&#45;&gt;18</title>\n<path fill=\"none\" stroke=\"black\" d=\"M1487.9,-222.91C1481.74,-214.01 1475.16,-204.51 1468.81,-195.33\"/>\n<polygon fill=\"black\" stroke=\"black\" points=\"1471.62,-193.25 1463.05,-187.02 1465.87,-197.24 1471.62,-193.25\"/>\n</g>\n<!-- 21 -->\n<g id=\"node22\" class=\"node\">\n<title>21</title>\n<polygon fill=\"#f0e8fc\" stroke=\"black\" points=\"1664,-187 1532,-187 1532,-104 1664,-104 1664,-187\"/>\n<text text-anchor=\"middle\" x=\"1598\" y=\"-171.8\" font-family=\"Helvetica,sans-Serif\" font-size=\"14.00\">Assists &lt;= 1.077</text>\n<text text-anchor=\"middle\" x=\"1598\" y=\"-156.8\" font-family=\"Helvetica,sans-Serif\" font-size=\"14.00\">gini = 0.661</text>\n<text text-anchor=\"middle\" x=\"1598\" y=\"-141.8\" font-family=\"Helvetica,sans-Serif\" font-size=\"14.00\">samples = 176</text>\n<text text-anchor=\"middle\" x=\"1598\" y=\"-126.8\" font-family=\"Helvetica,sans-Serif\" font-size=\"14.00\">value = [55, 52, 69]</text>\n<text text-anchor=\"middle\" x=\"1598\" y=\"-111.8\" font-family=\"Helvetica,sans-Serif\" font-size=\"14.00\">class = Home</text>\n</g>\n<!-- 17&#45;&gt;21 -->\n<g id=\"edge21\" class=\"edge\">\n<title>17&#45;&gt;21</title>\n<path fill=\"none\" stroke=\"black\" d=\"M1544.45,-222.91C1550.68,-214.01 1557.34,-204.51 1563.78,-195.33\"/>\n<polygon fill=\"black\" stroke=\"black\" points=\"1566.73,-197.22 1569.6,-187.02 1561,-193.2 1566.73,-197.22\"/>\n</g>\n<!-- 19 -->\n<g id=\"node20\" class=\"node\">\n<title>19</title>\n<polygon fill=\"#bd98f1\" stroke=\"black\" points=\"1373.5,-68 1226.5,-68 1226.5,0 1373.5,0 1373.5,-68\"/>\n<text text-anchor=\"middle\" x=\"1300\" y=\"-52.8\" font-family=\"Helvetica,sans-Serif\" font-size=\"14.00\">gini = 0.54</text>\n<text text-anchor=\"middle\" x=\"1300\" y=\"-37.8\" font-family=\"Helvetica,sans-Serif\" font-size=\"14.00\">samples = 477</text>\n<text text-anchor=\"middle\" x=\"1300\" y=\"-22.8\" font-family=\"Helvetica,sans-Serif\" font-size=\"14.00\">value = [78, 102, 297]</text>\n<text text-anchor=\"middle\" x=\"1300\" y=\"-7.8\" font-family=\"Helvetica,sans-Serif\" font-size=\"14.00\">class = Home</text>\n</g>\n<!-- 18&#45;&gt;19 -->\n<g id=\"edge19\" class=\"edge\">\n<title>18&#45;&gt;19</title>\n<path fill=\"none\" stroke=\"black\" d=\"M1384.73,-103.73C1373.04,-94.24 1360.6,-84.16 1348.96,-74.72\"/>\n<polygon fill=\"black\" stroke=\"black\" points=\"1351.03,-71.88 1341.05,-68.3 1346.62,-77.32 1351.03,-71.88\"/>\n</g>\n<!-- 20 -->\n<g id=\"node21\" class=\"node\">\n<title>20</title>\n<polygon fill=\"#fae6d7\" stroke=\"black\" points=\"1502,-68 1392,-68 1392,0 1502,0 1502,-68\"/>\n<text text-anchor=\"middle\" x=\"1447\" y=\"-52.8\" font-family=\"Helvetica,sans-Serif\" font-size=\"14.00\">gini = 0.594</text>\n<text text-anchor=\"middle\" x=\"1447\" y=\"-37.8\" font-family=\"Helvetica,sans-Serif\" font-size=\"14.00\">samples = 16</text>\n<text text-anchor=\"middle\" x=\"1447\" y=\"-22.8\" font-family=\"Helvetica,sans-Serif\" font-size=\"14.00\">value = [8, 6, 2]</text>\n<text text-anchor=\"middle\" x=\"1447\" y=\"-7.8\" font-family=\"Helvetica,sans-Serif\" font-size=\"14.00\">class = Draw</text>\n</g>\n<!-- 18&#45;&gt;20 -->\n<g id=\"edge20\" class=\"edge\">\n<title>18&#45;&gt;20</title>\n<path fill=\"none\" stroke=\"black\" d=\"M1439.47,-103.73C1440.38,-95.43 1441.34,-86.67 1442.26,-78.28\"/>\n<polygon fill=\"black\" stroke=\"black\" points=\"1445.74,-78.62 1443.35,-68.3 1438.78,-77.86 1445.74,-78.62\"/>\n</g>\n<!-- 22 -->\n<g id=\"node23\" class=\"node\">\n<title>22</title>\n<polygon fill=\"#f7f3fd\" stroke=\"black\" points=\"1652,-68 1520,-68 1520,0 1652,0 1652,-68\"/>\n<text text-anchor=\"middle\" x=\"1586\" y=\"-52.8\" font-family=\"Helvetica,sans-Serif\" font-size=\"14.00\">gini = 0.665</text>\n<text text-anchor=\"middle\" x=\"1586\" y=\"-37.8\" font-family=\"Helvetica,sans-Serif\" font-size=\"14.00\">samples = 169</text>\n<text text-anchor=\"middle\" x=\"1586\" y=\"-22.8\" font-family=\"Helvetica,sans-Serif\" font-size=\"14.00\">value = [55, 52, 62]</text>\n<text text-anchor=\"middle\" x=\"1586\" y=\"-7.8\" font-family=\"Helvetica,sans-Serif\" font-size=\"14.00\">class = Home</text>\n</g>\n<!-- 21&#45;&gt;22 -->\n<g id=\"edge22\" class=\"edge\">\n<title>21&#45;&gt;22</title>\n<path fill=\"none\" stroke=\"black\" d=\"M1593.53,-103.73C1592.62,-95.43 1591.66,-86.67 1590.74,-78.28\"/>\n<polygon fill=\"black\" stroke=\"black\" points=\"1594.22,-77.86 1589.65,-68.3 1587.26,-78.62 1594.22,-77.86\"/>\n</g>\n<!-- 23 -->\n<g id=\"node24\" class=\"node\">\n<title>23</title>\n<polygon fill=\"#8139e5\" stroke=\"black\" points=\"1780,-68 1670,-68 1670,0 1780,0 1780,-68\"/>\n<text text-anchor=\"middle\" x=\"1725\" y=\"-52.8\" font-family=\"Helvetica,sans-Serif\" font-size=\"14.00\">gini = 0.0</text>\n<text text-anchor=\"middle\" x=\"1725\" y=\"-37.8\" font-family=\"Helvetica,sans-Serif\" font-size=\"14.00\">samples = 7</text>\n<text text-anchor=\"middle\" x=\"1725\" y=\"-22.8\" font-family=\"Helvetica,sans-Serif\" font-size=\"14.00\">value = [0, 0, 7]</text>\n<text text-anchor=\"middle\" x=\"1725\" y=\"-7.8\" font-family=\"Helvetica,sans-Serif\" font-size=\"14.00\">class = Home</text>\n</g>\n<!-- 21&#45;&gt;23 -->\n<g id=\"edge23\" class=\"edge\">\n<title>21&#45;&gt;23</title>\n<path fill=\"none\" stroke=\"black\" d=\"M1645.29,-103.73C1656.19,-94.33 1667.76,-84.35 1678.62,-74.99\"/>\n<polygon fill=\"black\" stroke=\"black\" points=\"1681.09,-77.48 1686.38,-68.3 1676.52,-72.18 1681.09,-77.48\"/>\n</g>\n<!-- 25 -->\n<g id=\"node26\" class=\"node\">\n<title>25</title>\n<polygon fill=\"#985dea\" stroke=\"black\" points=\"1997,-187 1857,-187 1857,-104 1997,-104 1997,-187\"/>\n<text text-anchor=\"middle\" x=\"1927\" y=\"-171.8\" font-family=\"Helvetica,sans-Serif\" font-size=\"14.00\">Own goals &lt;= 2.954</text>\n<text text-anchor=\"middle\" x=\"1927\" y=\"-156.8\" font-family=\"Helvetica,sans-Serif\" font-size=\"14.00\">gini = 0.281</text>\n<text text-anchor=\"middle\" x=\"1927\" y=\"-141.8\" font-family=\"Helvetica,sans-Serif\" font-size=\"14.00\">samples = 280</text>\n<text text-anchor=\"middle\" x=\"1927\" y=\"-126.8\" font-family=\"Helvetica,sans-Serif\" font-size=\"14.00\">value = [14, 31, 235]</text>\n<text text-anchor=\"middle\" x=\"1927\" y=\"-111.8\" font-family=\"Helvetica,sans-Serif\" font-size=\"14.00\">class = Home</text>\n</g>\n<!-- 24&#45;&gt;25 -->\n<g id=\"edge25\" class=\"edge\">\n<title>24&#45;&gt;25</title>\n<path fill=\"none\" stroke=\"black\" d=\"M1927,-222.91C1927,-214.65 1927,-205.86 1927,-197.3\"/>\n<polygon fill=\"black\" stroke=\"black\" points=\"1930.5,-197.02 1927,-187.02 1923.5,-197.02 1930.5,-197.02\"/>\n</g>\n<!-- 28 -->\n<g id=\"node29\" class=\"node\">\n<title>28</title>\n<polygon fill=\"#b58bf0\" stroke=\"black\" points=\"2233,-187 2075,-187 2075,-104 2233,-104 2233,-187\"/>\n<text text-anchor=\"middle\" x=\"2154\" y=\"-171.8\" font-family=\"Helvetica,sans-Serif\" font-size=\"14.00\">Blocked shots &lt;= 0.712</text>\n<text text-anchor=\"middle\" x=\"2154\" y=\"-156.8\" font-family=\"Helvetica,sans-Serif\" font-size=\"14.00\">gini = 0.492</text>\n<text text-anchor=\"middle\" x=\"2154\" y=\"-141.8\" font-family=\"Helvetica,sans-Serif\" font-size=\"14.00\">samples = 222</text>\n<text text-anchor=\"middle\" x=\"2154\" y=\"-126.8\" font-family=\"Helvetica,sans-Serif\" font-size=\"14.00\">value = [27, 46, 149]</text>\n<text text-anchor=\"middle\" x=\"2154\" y=\"-111.8\" font-family=\"Helvetica,sans-Serif\" font-size=\"14.00\">class = Home</text>\n</g>\n<!-- 24&#45;&gt;28 -->\n<g id=\"edge28\" class=\"edge\">\n<title>24&#45;&gt;28</title>\n<path fill=\"none\" stroke=\"black\" d=\"M2005.76,-222.91C2025.3,-212.83 2046.37,-201.98 2066.31,-191.7\"/>\n<polygon fill=\"black\" stroke=\"black\" points=\"2068.1,-194.71 2075.38,-187.02 2064.89,-188.49 2068.1,-194.71\"/>\n</g>\n<!-- 26 -->\n<g id=\"node27\" class=\"node\">\n<title>26</title>\n<polygon fill=\"#975be9\" stroke=\"black\" points=\"1938,-68 1798,-68 1798,0 1938,0 1938,-68\"/>\n<text text-anchor=\"middle\" x=\"1868\" y=\"-52.8\" font-family=\"Helvetica,sans-Serif\" font-size=\"14.00\">gini = 0.272</text>\n<text text-anchor=\"middle\" x=\"1868\" y=\"-37.8\" font-family=\"Helvetica,sans-Serif\" font-size=\"14.00\">samples = 278</text>\n<text text-anchor=\"middle\" x=\"1868\" y=\"-22.8\" font-family=\"Helvetica,sans-Serif\" font-size=\"14.00\">value = [14, 29, 235]</text>\n<text text-anchor=\"middle\" x=\"1868\" y=\"-7.8\" font-family=\"Helvetica,sans-Serif\" font-size=\"14.00\">class = Home</text>\n</g>\n<!-- 25&#45;&gt;26 -->\n<g id=\"edge26\" class=\"edge\">\n<title>25&#45;&gt;26</title>\n<path fill=\"none\" stroke=\"black\" d=\"M1905.03,-103.73C1900.36,-95.06 1895.42,-85.9 1890.73,-77.18\"/>\n<polygon fill=\"black\" stroke=\"black\" points=\"1893.77,-75.44 1885.94,-68.3 1887.6,-78.76 1893.77,-75.44\"/>\n</g>\n<!-- 27 -->\n<g id=\"node28\" class=\"node\">\n<title>27</title>\n<polygon fill=\"#39e581\" stroke=\"black\" points=\"2066,-68 1956,-68 1956,0 2066,0 2066,-68\"/>\n<text text-anchor=\"middle\" x=\"2011\" y=\"-52.8\" font-family=\"Helvetica,sans-Serif\" font-size=\"14.00\">gini = 0.0</text>\n<text text-anchor=\"middle\" x=\"2011\" y=\"-37.8\" font-family=\"Helvetica,sans-Serif\" font-size=\"14.00\">samples = 2</text>\n<text text-anchor=\"middle\" x=\"2011\" y=\"-22.8\" font-family=\"Helvetica,sans-Serif\" font-size=\"14.00\">value = [0, 2, 0]</text>\n<text text-anchor=\"middle\" x=\"2011\" y=\"-7.8\" font-family=\"Helvetica,sans-Serif\" font-size=\"14.00\">class = Away</text>\n</g>\n<!-- 25&#45;&gt;27 -->\n<g id=\"edge27\" class=\"edge\">\n<title>25&#45;&gt;27</title>\n<path fill=\"none\" stroke=\"black\" d=\"M1958.28,-103.73C1965.14,-94.79 1972.4,-85.32 1979.28,-76.36\"/>\n<polygon fill=\"black\" stroke=\"black\" points=\"1982.15,-78.36 1985.46,-68.3 1976.59,-74.1 1982.15,-78.36\"/>\n</g>\n<!-- 29 -->\n<g id=\"node30\" class=\"node\">\n<title>29</title>\n<polygon fill=\"#b388ef\" stroke=\"black\" points=\"2224,-68 2084,-68 2084,0 2224,0 2224,-68\"/>\n<text text-anchor=\"middle\" x=\"2154\" y=\"-52.8\" font-family=\"Helvetica,sans-Serif\" font-size=\"14.00\">gini = 0.479</text>\n<text text-anchor=\"middle\" x=\"2154\" y=\"-37.8\" font-family=\"Helvetica,sans-Serif\" font-size=\"14.00\">samples = 218</text>\n<text text-anchor=\"middle\" x=\"2154\" y=\"-22.8\" font-family=\"Helvetica,sans-Serif\" font-size=\"14.00\">value = [25, 44, 149]</text>\n<text text-anchor=\"middle\" x=\"2154\" y=\"-7.8\" font-family=\"Helvetica,sans-Serif\" font-size=\"14.00\">class = Home</text>\n</g>\n<!-- 28&#45;&gt;29 -->\n<g id=\"edge29\" class=\"edge\">\n<title>28&#45;&gt;29</title>\n<path fill=\"none\" stroke=\"black\" d=\"M2154,-103.73C2154,-95.52 2154,-86.86 2154,-78.56\"/>\n<polygon fill=\"black\" stroke=\"black\" points=\"2157.5,-78.3 2154,-68.3 2150.5,-78.3 2157.5,-78.3\"/>\n</g>\n<!-- 30 -->\n<g id=\"node31\" class=\"node\">\n<title>30</title>\n<polygon fill=\"#ffffff\" stroke=\"black\" points=\"2352,-68 2242,-68 2242,0 2352,0 2352,-68\"/>\n<text text-anchor=\"middle\" x=\"2297\" y=\"-52.8\" font-family=\"Helvetica,sans-Serif\" font-size=\"14.00\">gini = 0.5</text>\n<text text-anchor=\"middle\" x=\"2297\" y=\"-37.8\" font-family=\"Helvetica,sans-Serif\" font-size=\"14.00\">samples = 4</text>\n<text text-anchor=\"middle\" x=\"2297\" y=\"-22.8\" font-family=\"Helvetica,sans-Serif\" font-size=\"14.00\">value = [2, 2, 0]</text>\n<text text-anchor=\"middle\" x=\"2297\" y=\"-7.8\" font-family=\"Helvetica,sans-Serif\" font-size=\"14.00\">class = Draw</text>\n</g>\n<!-- 28&#45;&gt;30 -->\n<g id=\"edge30\" class=\"edge\">\n<title>28&#45;&gt;30</title>\n<path fill=\"none\" stroke=\"black\" d=\"M2207.25,-103.73C2219.75,-94.15 2233.06,-83.96 2245.49,-74.44\"/>\n<polygon fill=\"black\" stroke=\"black\" points=\"2247.7,-77.16 2253.51,-68.3 2243.45,-71.6 2247.7,-77.16\"/>\n</g>\n</g>\n</svg>\n",
      "text/plain": "<graphviz.sources.Source at 0x2857e1850>"
     },
     "execution_count": 88,
     "metadata": {},
     "output_type": "execute_result"
    }
   ],
   "source": [
    "import graphviz\n",
    "with open(\"tree.dot\") as f:\n",
    " dot_graph = f.read()\n",
    "graphviz.Source(dot_graph)"
   ],
   "metadata": {
    "collapsed": false
   }
  },
  {
   "cell_type": "markdown",
   "source": [
    "### optimal parameter for Tree classifier\n",
    "> 'max_depth': 4\n",
    "\n",
    "test score:0.49\n",
    "val score:0.55"
   ],
   "metadata": {
    "collapsed": false
   }
  },
  {
   "cell_type": "markdown",
   "source": [
    "# Regression"
   ],
   "metadata": {
    "collapsed": false
   }
  },
  {
   "cell_type": "markdown",
   "source": [
    "## Logistic Regression"
   ],
   "metadata": {
    "collapsed": false
   }
  },
  {
   "cell_type": "code",
   "execution_count": 26,
   "outputs": [
    {
     "data": {
      "text/plain": "LogisticRegression(max_iter=500)",
      "text/html": "<style>#sk-container-id-6 {color: black;background-color: white;}#sk-container-id-6 pre{padding: 0;}#sk-container-id-6 div.sk-toggleable {background-color: white;}#sk-container-id-6 label.sk-toggleable__label {cursor: pointer;display: block;width: 100%;margin-bottom: 0;padding: 0.3em;box-sizing: border-box;text-align: center;}#sk-container-id-6 label.sk-toggleable__label-arrow:before {content: \"▸\";float: left;margin-right: 0.25em;color: #696969;}#sk-container-id-6 label.sk-toggleable__label-arrow:hover:before {color: black;}#sk-container-id-6 div.sk-estimator:hover label.sk-toggleable__label-arrow:before {color: black;}#sk-container-id-6 div.sk-toggleable__content {max-height: 0;max-width: 0;overflow: hidden;text-align: left;background-color: #f0f8ff;}#sk-container-id-6 div.sk-toggleable__content pre {margin: 0.2em;color: black;border-radius: 0.25em;background-color: #f0f8ff;}#sk-container-id-6 input.sk-toggleable__control:checked~div.sk-toggleable__content {max-height: 200px;max-width: 100%;overflow: auto;}#sk-container-id-6 input.sk-toggleable__control:checked~label.sk-toggleable__label-arrow:before {content: \"▾\";}#sk-container-id-6 div.sk-estimator input.sk-toggleable__control:checked~label.sk-toggleable__label {background-color: #d4ebff;}#sk-container-id-6 div.sk-label input.sk-toggleable__control:checked~label.sk-toggleable__label {background-color: #d4ebff;}#sk-container-id-6 input.sk-hidden--visually {border: 0;clip: rect(1px 1px 1px 1px);clip: rect(1px, 1px, 1px, 1px);height: 1px;margin: -1px;overflow: hidden;padding: 0;position: absolute;width: 1px;}#sk-container-id-6 div.sk-estimator {font-family: monospace;background-color: #f0f8ff;border: 1px dotted black;border-radius: 0.25em;box-sizing: border-box;margin-bottom: 0.5em;}#sk-container-id-6 div.sk-estimator:hover {background-color: #d4ebff;}#sk-container-id-6 div.sk-parallel-item::after {content: \"\";width: 100%;border-bottom: 1px solid gray;flex-grow: 1;}#sk-container-id-6 div.sk-label:hover label.sk-toggleable__label {background-color: #d4ebff;}#sk-container-id-6 div.sk-serial::before {content: \"\";position: absolute;border-left: 1px solid gray;box-sizing: border-box;top: 0;bottom: 0;left: 50%;z-index: 0;}#sk-container-id-6 div.sk-serial {display: flex;flex-direction: column;align-items: center;background-color: white;padding-right: 0.2em;padding-left: 0.2em;position: relative;}#sk-container-id-6 div.sk-item {position: relative;z-index: 1;}#sk-container-id-6 div.sk-parallel {display: flex;align-items: stretch;justify-content: center;background-color: white;position: relative;}#sk-container-id-6 div.sk-item::before, #sk-container-id-6 div.sk-parallel-item::before {content: \"\";position: absolute;border-left: 1px solid gray;box-sizing: border-box;top: 0;bottom: 0;left: 50%;z-index: -1;}#sk-container-id-6 div.sk-parallel-item {display: flex;flex-direction: column;z-index: 1;position: relative;background-color: white;}#sk-container-id-6 div.sk-parallel-item:first-child::after {align-self: flex-end;width: 50%;}#sk-container-id-6 div.sk-parallel-item:last-child::after {align-self: flex-start;width: 50%;}#sk-container-id-6 div.sk-parallel-item:only-child::after {width: 0;}#sk-container-id-6 div.sk-dashed-wrapped {border: 1px dashed gray;margin: 0 0.4em 0.5em 0.4em;box-sizing: border-box;padding-bottom: 0.4em;background-color: white;}#sk-container-id-6 div.sk-label label {font-family: monospace;font-weight: bold;display: inline-block;line-height: 1.2em;}#sk-container-id-6 div.sk-label-container {text-align: center;}#sk-container-id-6 div.sk-container {/* jupyter's `normalize.less` sets `[hidden] { display: none; }` but bootstrap.min.css set `[hidden] { display: none !important; }` so we also need the `!important` here to be able to override the default hidden behavior on the sphinx rendered scikit-learn.org. See: https://github.com/scikit-learn/scikit-learn/issues/21755 */display: inline-block !important;position: relative;}#sk-container-id-6 div.sk-text-repr-fallback {display: none;}</style><div id=\"sk-container-id-6\" class=\"sk-top-container\"><div class=\"sk-text-repr-fallback\"><pre>LogisticRegression(max_iter=500)</pre><b>In a Jupyter environment, please rerun this cell to show the HTML representation or trust the notebook. <br />On GitHub, the HTML representation is unable to render, please try loading this page with nbviewer.org.</b></div><div class=\"sk-container\" hidden><div class=\"sk-item\"><div class=\"sk-estimator sk-toggleable\"><input class=\"sk-toggleable__control sk-hidden--visually\" id=\"sk-estimator-id-8\" type=\"checkbox\" checked><label for=\"sk-estimator-id-8\" class=\"sk-toggleable__label sk-toggleable__label-arrow\">LogisticRegression</label><div class=\"sk-toggleable__content\"><pre>LogisticRegression(max_iter=500)</pre></div></div></div></div></div>"
     },
     "execution_count": 26,
     "metadata": {},
     "output_type": "execute_result"
    }
   ],
   "source": [
    "parameters={'max_iter':[500, 1000, 1500, 2000, 2500, 3000]}\n",
    " = LogisticRegression()\n",
    "clf.max_iter=500\n",
    "clf.fit(X_train, y_train)"
   ],
   "metadata": {
    "collapsed": false
   }
  },
  {
   "cell_type": "code",
   "execution_count": 27,
   "outputs": [
    {
     "data": {
      "text/plain": "0.519774011299435"
     },
     "execution_count": 27,
     "metadata": {},
     "output_type": "execute_result"
    }
   ],
   "source": [
    "clf.score(X_test,y_test)"
   ],
   "metadata": {
    "collapsed": false
   }
  },
  {
   "cell_type": "code",
   "execution_count": 28,
   "outputs": [
    {
     "data": {
      "text/plain": "0.5492957746478874"
     },
     "execution_count": 28,
     "metadata": {},
     "output_type": "execute_result"
    }
   ],
   "source": [
    "clf.score(X_val,y_val)"
   ],
   "metadata": {
    "collapsed": false
   }
  }
 ],
 "metadata": {
  "kernelspec": {
   "display_name": "Python 3.7.0 64-bit",
   "language": "python",
   "name": "python3"
  },
  "language_info": {
   "codemirror_mode": {
    "name": "ipython",
    "version": 3
   },
   "file_extension": ".py",
   "mimetype": "text/x-python",
   "name": "python",
   "nbconvert_exporter": "python",
   "pygments_lexer": "ipython3",
   "version": "3.7.0"
  },
  "orig_nbformat": 4,
  "vscode": {
   "interpreter": {
    "hash": "e774977668b7c0ae8309835a5187aa7fbf7669e7d0bb59755bc63e573643edcd"
   }
  }
 },
 "nbformat": 4,
 "nbformat_minor": 2
}
