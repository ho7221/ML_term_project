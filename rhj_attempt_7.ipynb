{
  "cells": [
    {
      "cell_type": "code",
      "source": [
        "from google.colab import drive\n",
        "drive.mount('/content/drive')"
      ],
      "metadata": {
        "id": "C5CoYXHewuu7",
        "outputId": "d2a80998-04bc-4ab4-81d2-f918909307b5",
        "colab": {
          "base_uri": "https://localhost:8080/"
        }
      },
      "execution_count": 1,
      "outputs": [
        {
          "output_type": "stream",
          "name": "stdout",
          "text": [
            "Mounted at /content/drive\n"
          ]
        }
      ]
    },
    {
      "cell_type": "code",
      "execution_count": 8,
      "metadata": {
        "id": "sTPY7qDFv24Z"
      },
      "outputs": [],
      "source": [
        "import numpy as np\n",
        "import pandas as pd\n",
        "from sklearn.model_selection import train_test_split\n",
        "from sklearn.ensemble import RandomForestClassifier\n",
        "import matplotlib.pyplot as plt\n",
        "import seaborn as sns"
      ]
    },
    {
      "cell_type": "markdown",
      "source": [
        "When importing dataset, by sorting with MatchID, dataset is now timeseries dataset. Every feature is (home-away) and result is decided with score diff. We have total 50 feature differences."
      ],
      "metadata": {
        "collapsed": false,
        "id": "TwsxnAfGv24a"
      }
    },
    {
      "cell_type": "code",
      "execution_count": 9,
      "metadata": {
        "id": "-hQ4_QUEv24b"
      },
      "outputs": [],
      "source": [
        "data=pd.read_csv('/content/drive/MyDrive/Dataset.csv').drop(['Unnamed: 0'],axis=1).sort_values(by=['MatchID'])\n",
        "df_home=data.filter(regex='home').rename(columns=lambda x:x.replace('_home',''))\n",
        "df_away=data.filter(regex='away').rename(columns=lambda x:x.replace('_away',''))\n",
        "df_diff=df_home-df_away\n",
        "cond=[(df_diff['Score']<0),(df_diff['Score']==0),(df_diff['Score']>0)]\n",
        "val=['Away','Draw','Home']\n",
        "df_diff['Result']=np.select(cond,val)\n",
        "df_diff=df_diff.drop(columns=['Score'])\n",
        "X=df_diff.iloc[:,:-1]\n",
        "y=df_diff.iloc[:,-1:]"
      ]
    },
    {
      "cell_type": "markdown",
      "source": [
        "## Train,Test,Validation set split\n",
        "Split train,test,validation set into 0.8,0.1,0.1"
      ],
      "metadata": {
        "collapsed": false,
        "id": "Dtoofbq9v24c"
      }
    },
    {
      "cell_type": "code",
      "execution_count": 10,
      "metadata": {
        "id": "OM40OaCAv24d"
      },
      "outputs": [],
      "source": [
        "X_train,X_test,y_train,y_test=train_test_split(X,y,test_size=0.2)\n",
        "X_test,X_val,y_test,y_val=train_test_split(X_test,y_test,test_size=0.5)"
      ]
    },
    {
      "cell_type": "code",
      "execution_count": 11,
      "outputs": [
        {
          "output_type": "execute_result",
          "data": {
            "text/plain": [
              "((2546, 50), (2546, 1), (318, 50), (318, 1), (319, 50), (319, 1))"
            ]
          },
          "metadata": {},
          "execution_count": 11
        }
      ],
      "source": [
        "X_train.shape, y_train.shape, X_test.shape, y_test.shape, X_val.shape, y_val.shape"
      ],
      "metadata": {
        "id": "US4YWJkEv24d",
        "outputId": "5c32a90c-375d-4232-d33d-1334fd363f54",
        "colab": {
          "base_uri": "https://localhost:8080/"
        }
      }
    },
    {
      "cell_type": "markdown",
      "source": [
        "## Feature selection"
      ],
      "metadata": {
        "collapsed": false,
        "id": "2UDsUrzev24d"
      }
    },
    {
      "cell_type": "code",
      "execution_count": 12,
      "outputs": [
        {
          "output_type": "stream",
          "name": "stdout",
          "text": [
            "Feature ranking:\n",
            "1. feature Assists (0.038)\n",
            "2. feature Passes (0.033)\n",
            "3. feature Passes per match (0.032)\n",
            "4. feature Big Chances Created (0.031)\n",
            "5. feature Clean sheets (0.025)\n",
            "6. feature Goals per match (0.024)\n",
            "7. feature Shots on target (0.024)\n",
            "8. feature Blocked shots (0.023)\n",
            "9. feature Goals with right foot (0.023)\n",
            "10. feature Goals with left foot (0.022)\n",
            "11. feature Hit woodwork (0.021)\n",
            "12. feature Goals (0.021)\n",
            "13. feature Through balls (0.021)\n",
            "14. feature Big chances missed (0.021)\n",
            "15. feature Tackle success % (0.020)\n",
            "16. feature Penalties scored (0.020)\n",
            "17. feature Shots (0.020)\n",
            "18. feature Clearances off line (0.020)\n",
            "19. feature Successful 50/50s (0.020)\n",
            "20. feature Cross accuracy % (0.020)\n",
            "21. feature Own goals (0.020)\n",
            "22. feature Last man tackles (0.020)\n",
            "23. feature Shooting accuracy % (0.019)\n",
            "24. feature Crosses (0.019)\n",
            "25. feature Offsides (0.019)\n",
            "26. feature Red cards (0.019)\n",
            "27. feature Tackles (0.019)\n",
            "28. feature Freekicks scored (0.019)\n",
            "29. feature Errors leading to goal (0.018)\n",
            "30. feature Goals Conceded (0.018)\n",
            "31. feature Yellow cards (0.018)\n",
            "32. feature Penalties Saved (0.018)\n",
            "33. feature Sweeper clearances (0.017)\n",
            "34. feature Catches (0.017)\n",
            "35. feature Headed goals (0.017)\n",
            "36. feature Accurate long balls (0.017)\n",
            "37. feature Clearances (0.017)\n",
            "38. feature Fouls (0.017)\n",
            "39. feature Interceptions (0.017)\n",
            "40. feature Punches (0.017)\n",
            "41. feature Aerial battles lost (0.017)\n",
            "42. feature Recoveries (0.017)\n",
            "43. feature Goal Kicks (0.017)\n",
            "44. feature High Claims (0.017)\n",
            "45. feature Throw outs (0.016)\n",
            "46. feature Duels lost (0.016)\n",
            "47. feature Aerial battles won (0.016)\n",
            "48. feature Headed Clearance (0.015)\n",
            "49. feature Saves (0.015)\n",
            "50. feature Duels won (0.014)\n"
          ]
        },
        {
          "output_type": "display_data",
          "data": {
            "text/plain": [
              "<Figure size 432x288 with 1 Axes>"
            ],
            "image/png": "[encoded data removed]"
          },
          "metadata": {
            "needs_background": "light"
          }
        }
      ],
      "source": [
        "forest=RandomForestClassifier()\n",
        "forest.fit(X_train,y_train.values.ravel())\n",
        "importances = forest.feature_importances_\n",
        "std = np.std([tree.feature_importances_ for tree in forest.estimators_], axis=0)\n",
        "indices = np.argsort(importances)[::-1]\n",
        "\n",
        "# Print the feature ranking\n",
        "print(\"Feature ranking:\")\n",
        "\n",
        "for f in range(X.shape[1]):\n",
        "    print(\"{}. feature {} ({:.3f})\".format(f + 1, X.columns[indices][f], importances[indices[f]]))\n",
        "\n",
        "# Plot the impurity-based feature importances of the forest\n",
        "plt.figure()\n",
        "plt.title(\"Feature importances\")\n",
        "plt.bar(range(X.shape[1]), importances[indices],\n",
        "        color=\"r\", yerr=std[indices], align=\"center\")\n",
        "plt.xticks(range(X.shape[1]), X.columns[indices], rotation=45)\n",
        "plt.xlim([-1, X.shape[1]])\n",
        "plt.show()"
      ],
      "metadata": {
        "id": "hzD5ss4ev24e",
        "outputId": "a370eedb-9fc9-429d-9be1-ad2a3fe647dd",
        "colab": {
          "base_uri": "https://localhost:8080/",
          "height": 1000
        }
      }
    },
    {
      "cell_type": "markdown",
      "source": [
        "classifying with win/draw/lose is useless."
      ],
      "metadata": {
        "id": "aXab4zoWyURC"
      }
    },
    {
      "cell_type": "code",
      "source": [],
      "metadata": {
        "id": "R9HPAHdzyXIw"
      },
      "execution_count": null,
      "outputs": []
    }
  ],
  "metadata": {
    "kernelspec": {
      "display_name": "Python 3.7.0 64-bit",
      "language": "python",
      "name": "python3"
    },
    "language_info": {
      "codemirror_mode": {
        "name": "ipython",
        "version": 3
      },
      "file_extension": ".py",
      "mimetype": "text/x-python",
      "name": "python",
      "nbconvert_exporter": "python",
      "pygments_lexer": "ipython3",
      "version": "3.7.0"
    },
    "orig_nbformat": 4,
    "vscode": {
      "interpreter": {
        "hash": "e774977668b7c0ae8309835a5187aa7fbf7669e7d0bb59755bc63e573643edcd"
      }
    },
    "colab": {
      "provenance": []
    }
  },
  "nbformat": 4,
  "nbformat_minor": 0
}