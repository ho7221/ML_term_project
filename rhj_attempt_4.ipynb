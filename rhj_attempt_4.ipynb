{
 "cells": [
  {
   "cell_type": "markdown",
   "metadata": {},
   "source": [
    "## Import library & Dataset"
   ]
  },
  {
   "cell_type": "code",
   "execution_count": null,
   "metadata": {},
   "outputs": [],
   "source": [
    "pip install numpy pandas seaborn scikit-learn seaborn"
   ]
  },
  {
   "cell_type": "code",
   "execution_count": 1,
   "metadata": {},
   "outputs": [],
   "source": [
    "%matplotlib inline\n",
    "import pandas as pd\n",
    "import numpy as np\n",
    "import seaborn as sns\n",
    "from sklearn.discriminant_analysis import LinearDiscriminantAnalysis\n",
    "from sklearn.preprocessing import StandardScaler"
   ]
  },
  {
   "cell_type": "code",
   "execution_count": 2,
   "metadata": {},
   "outputs": [],
   "source": [
    "DATA_SRC='./Data/Dataset.csv'\n",
    "df=pd.read_csv(DATA_SRC)\n",
    "both_side_df=df.drop(columns=['MatchID','Home_team','Away_team','Score_home','Score_away'])\n",
    "features=['Possesion','Shots_on_target','Shots','Touches','Passes','Tackles','Clearance','Corners','Offsides','Yellow_cards','Fouls_conceded','Red_cards']"
   ]
  },
  {
   "cell_type": "markdown",
   "metadata": {},
   "source": [
    "## Preprocess trainset & testset"
   ]
  },
  {
   "cell_type": "code",
   "execution_count": 6,
   "metadata": {},
   "outputs": [],
   "source": [
    "scaler=StandardScaler()\n",
    "standardized_both_side_df=pd.DataFrame(scaler.fit_transform(both_side_df))\n",
    "lda=LinearDiscriminantAnalysis(n_components=6)\n",
    "lda_df=pd.DataFrame(lda.fit_transform(standardized_both_side_df,df['Score_home']))"
   ]
  },
  {
   "cell_type": "markdown",
   "metadata": {},
   "source": [
    "## Linear Regression"
   ]
  },
  {
   "cell_type": "code",
   "execution_count": 7,
   "metadata": {},
   "outputs": [],
   "source": [
    "from sklearn.linear_model import LinearRegression\n",
    "from sklearn.metrics import mean_squared_error\n",
    "from sklearn.metrics import r2_score\n",
    "from sklearn.model_selection import train_test_split"
   ]
  },
  {
   "cell_type": "code",
   "execution_count": 8,
   "metadata": {},
   "outputs": [],
   "source": [
    "X=lda_df.values\n",
    "y=df['Score_home'].values\n",
    "X_train, X_test, y_train, y_test = train_test_split(X, y, test_size = .2, random_state = 42)"
   ]
  },
  {
   "cell_type": "code",
   "execution_count": null,
   "metadata": {},
   "outputs": [],
   "source": [
    "X=standardized_both_side_df.values\n",
    "y=df['Score_home'].values\n",
    "X_train, X_test, y_train, y_test = train_test_split(X, y, test_size = .2, random_state = 42)"
   ]
  },
  {
   "cell_type": "code",
   "execution_count": 9,
   "metadata": {},
   "outputs": [
    {
     "name": "stdout",
     "output_type": "stream",
     "text": [
      "Train RMSE:  1.0097391893784464\n",
      "Test RMSE:  1.0061989685118586\n",
      "Train Score:  0.41161129383269734\n",
      "Test Score:  0.3970993561628825\n"
     ]
    }
   ],
   "source": [
    "lin_reg=LinearRegression()\n",
    "lin_reg.fit(X_train,y_train)\n",
    "predictions=lin_reg.predict(X_test)\n",
    "Y_train_pred=lin_reg.predict(X_train)\n",
    "print(\"Train RMSE: \",np.sqrt(mean_squared_error(y_train,Y_train_pred)))\n",
    "print(\"Test RMSE: \",np.sqrt(mean_squared_error(y_test,predictions)))\n",
    "print(\"Train Score: \",r2_score(y_train,Y_train_pred))\n",
    "print(\"Test Score: \",r2_score(y_test,predictions))"
   ]
  },
  {
   "cell_type": "markdown",
   "metadata": {},
   "source": [
    "## Problem\n",
    "Test error is now less than Train error but problem is that score is too low. We should now try reducing feature and append dataset.\n"
   ]
  }
 ],
 "metadata": {
  "kernelspec": {
   "display_name": "Python 3.7.0 64-bit",
   "language": "python",
   "name": "python3"
  },
  "language_info": {
   "codemirror_mode": {
    "name": "ipython",
    "version": 3
   },
   "file_extension": ".py",
   "mimetype": "text/x-python",
   "name": "python",
   "nbconvert_exporter": "python",
   "pygments_lexer": "ipython3",
   "version": "3.7.0"
  },
  "orig_nbformat": 4,
  "vscode": {
   "interpreter": {
    "hash": "e774977668b7c0ae8309835a5187aa7fbf7669e7d0bb59755bc63e573643edcd"
   }
  }
 },
 "nbformat": 4,
 "nbformat_minor": 2
}
