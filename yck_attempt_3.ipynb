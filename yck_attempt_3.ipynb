{
 "cells": [
  {
   "cell_type": "markdown",
   "id": "1de7159f",
   "metadata": {},
   "source": [
    "# Loading Data"
   ]
  },
  {
   "cell_type": "code",
   "execution_count": 131,
   "id": "97420e25",
   "metadata": {},
   "outputs": [],
   "source": [
    "import warnings\n",
    "warnings.filterwarnings('ignore')\n",
    "\n",
    "import pandas as pd\n",
    "import numpy as np\n",
    "%matplotlib inline"
   ]
  },
  {
   "cell_type": "code",
   "execution_count": 132,
   "id": "73a593ae",
   "metadata": {},
   "outputs": [
    {
     "data": {
      "text/html": [
       "<div>\n",
       "<style scoped>\n",
       "    .dataframe tbody tr th:only-of-type {\n",
       "        vertical-align: middle;\n",
       "    }\n",
       "\n",
       "    .dataframe tbody tr th {\n",
       "        vertical-align: top;\n",
       "    }\n",
       "\n",
       "    .dataframe thead th {\n",
       "        text-align: right;\n",
       "    }\n",
       "</style>\n",
       "<table border=\"1\" class=\"dataframe\">\n",
       "  <thead>\n",
       "    <tr style=\"text-align: right;\">\n",
       "      <th></th>\n",
       "      <th>MatchID</th>\n",
       "      <th>Home_team</th>\n",
       "      <th>Away_team</th>\n",
       "      <th>Score_home</th>\n",
       "      <th>Score_away</th>\n",
       "      <th>Possession_home</th>\n",
       "      <th>Possession_away</th>\n",
       "      <th>Shots_on_target_home</th>\n",
       "      <th>Shots_on_target_away</th>\n",
       "      <th>Shots_home</th>\n",
       "      <th>...</th>\n",
       "      <th>Corners_home</th>\n",
       "      <th>Corners_away</th>\n",
       "      <th>Offsides_home</th>\n",
       "      <th>Offsides_away</th>\n",
       "      <th>Yellow_cards_home</th>\n",
       "      <th>Yellow_cards_away</th>\n",
       "      <th>Fouls_conceded_home</th>\n",
       "      <th>Fouls_conceded_away</th>\n",
       "      <th>Red_cards_home</th>\n",
       "      <th>Red_cards_away</th>\n",
       "    </tr>\n",
       "  </thead>\n",
       "  <tbody>\n",
       "    <tr>\n",
       "      <th>0</th>\n",
       "      <td>5567</td>\n",
       "      <td>Arsenal</td>\n",
       "      <td>Aston Villa</td>\n",
       "      <td>1</td>\n",
       "      <td>1</td>\n",
       "      <td>72.9</td>\n",
       "      <td>27.1</td>\n",
       "      <td>7.0</td>\n",
       "      <td>3.0</td>\n",
       "      <td>24.0</td>\n",
       "      <td>...</td>\n",
       "      <td>18.0</td>\n",
       "      <td>1.0</td>\n",
       "      <td>2.0</td>\n",
       "      <td>6.0</td>\n",
       "      <td>1.0</td>\n",
       "      <td>2.0</td>\n",
       "      <td>10.0</td>\n",
       "      <td>19.0</td>\n",
       "      <td>0.0</td>\n",
       "      <td>0.0</td>\n",
       "    </tr>\n",
       "    <tr>\n",
       "      <th>1</th>\n",
       "      <td>5568</td>\n",
       "      <td>Bolton</td>\n",
       "      <td>Spurs</td>\n",
       "      <td>2</td>\n",
       "      <td>0</td>\n",
       "      <td>37.8</td>\n",
       "      <td>62.2</td>\n",
       "      <td>4.0</td>\n",
       "      <td>2.0</td>\n",
       "      <td>13.0</td>\n",
       "      <td>...</td>\n",
       "      <td>6.0</td>\n",
       "      <td>3.0</td>\n",
       "      <td>3.0</td>\n",
       "      <td>1.0</td>\n",
       "      <td>0.0</td>\n",
       "      <td>0.0</td>\n",
       "      <td>22.0</td>\n",
       "      <td>22.0</td>\n",
       "      <td>0.0</td>\n",
       "      <td>0.0</td>\n",
       "    </tr>\n",
       "    <tr>\n",
       "      <th>2</th>\n",
       "      <td>5569</td>\n",
       "      <td>Everton</td>\n",
       "      <td>Watford</td>\n",
       "      <td>2</td>\n",
       "      <td>1</td>\n",
       "      <td>47.0</td>\n",
       "      <td>53.0</td>\n",
       "      <td>2.0</td>\n",
       "      <td>7.0</td>\n",
       "      <td>8.0</td>\n",
       "      <td>...</td>\n",
       "      <td>0.0</td>\n",
       "      <td>6.0</td>\n",
       "      <td>5.0</td>\n",
       "      <td>1.0</td>\n",
       "      <td>2.0</td>\n",
       "      <td>2.0</td>\n",
       "      <td>12.0</td>\n",
       "      <td>15.0</td>\n",
       "      <td>0.0</td>\n",
       "      <td>0.0</td>\n",
       "    </tr>\n",
       "    <tr>\n",
       "      <th>3</th>\n",
       "      <td>5570</td>\n",
       "      <td>Newcastle</td>\n",
       "      <td>Wigan</td>\n",
       "      <td>2</td>\n",
       "      <td>1</td>\n",
       "      <td>55.3</td>\n",
       "      <td>44.7</td>\n",
       "      <td>5.0</td>\n",
       "      <td>4.0</td>\n",
       "      <td>8.0</td>\n",
       "      <td>...</td>\n",
       "      <td>4.0</td>\n",
       "      <td>11.0</td>\n",
       "      <td>6.0</td>\n",
       "      <td>3.0</td>\n",
       "      <td>1.0</td>\n",
       "      <td>2.0</td>\n",
       "      <td>18.0</td>\n",
       "      <td>19.0</td>\n",
       "      <td>0.0</td>\n",
       "      <td>0.0</td>\n",
       "    </tr>\n",
       "    <tr>\n",
       "      <th>4</th>\n",
       "      <td>5571</td>\n",
       "      <td>Portsmouth</td>\n",
       "      <td>Blackburn</td>\n",
       "      <td>3</td>\n",
       "      <td>0</td>\n",
       "      <td>44.3</td>\n",
       "      <td>55.7</td>\n",
       "      <td>11.0</td>\n",
       "      <td>3.0</td>\n",
       "      <td>21.0</td>\n",
       "      <td>...</td>\n",
       "      <td>6.0</td>\n",
       "      <td>2.0</td>\n",
       "      <td>5.0</td>\n",
       "      <td>0.0</td>\n",
       "      <td>2.0</td>\n",
       "      <td>0.0</td>\n",
       "      <td>22.0</td>\n",
       "      <td>17.0</td>\n",
       "      <td>0.0</td>\n",
       "      <td>1.0</td>\n",
       "    </tr>\n",
       "  </tbody>\n",
       "</table>\n",
       "<p>5 rows × 29 columns</p>\n",
       "</div>"
      ],
      "text/plain": [
       "   MatchID   Home_team    Away_team  Score_home  Score_away  Possession_home  \\\n",
       "0     5567     Arsenal  Aston Villa           1           1             72.9   \n",
       "1     5568      Bolton        Spurs           2           0             37.8   \n",
       "2     5569     Everton      Watford           2           1             47.0   \n",
       "3     5570   Newcastle        Wigan           2           1             55.3   \n",
       "4     5571  Portsmouth    Blackburn           3           0             44.3   \n",
       "\n",
       "   Possession_away  Shots_on_target_home  Shots_on_target_away  Shots_home  \\\n",
       "0             27.1                   7.0                   3.0        24.0   \n",
       "1             62.2                   4.0                   2.0        13.0   \n",
       "2             53.0                   2.0                   7.0         8.0   \n",
       "3             44.7                   5.0                   4.0         8.0   \n",
       "4             55.7                  11.0                   3.0        21.0   \n",
       "\n",
       "   ...  Corners_home  Corners_away  Offsides_home  Offsides_away  \\\n",
       "0  ...          18.0           1.0            2.0            6.0   \n",
       "1  ...           6.0           3.0            3.0            1.0   \n",
       "2  ...           0.0           6.0            5.0            1.0   \n",
       "3  ...           4.0          11.0            6.0            3.0   \n",
       "4  ...           6.0           2.0            5.0            0.0   \n",
       "\n",
       "   Yellow_cards_home  Yellow_cards_away  Fouls_conceded_home  \\\n",
       "0                1.0                2.0                 10.0   \n",
       "1                0.0                0.0                 22.0   \n",
       "2                2.0                2.0                 12.0   \n",
       "3                1.0                2.0                 18.0   \n",
       "4                2.0                0.0                 22.0   \n",
       "\n",
       "   Fouls_conceded_away  Red_cards_home  Red_cards_away  \n",
       "0                 19.0             0.0             0.0  \n",
       "1                 22.0             0.0             0.0  \n",
       "2                 15.0             0.0             0.0  \n",
       "3                 19.0             0.0             0.0  \n",
       "4                 17.0             0.0             1.0  \n",
       "\n",
       "[5 rows x 29 columns]"
      ]
     },
     "execution_count": 132,
     "metadata": {},
     "output_type": "execute_result"
    }
   ],
   "source": [
    "DATA_SRC='./Data/Dataset.csv'\n",
    "df = pd.read_csv(DATA_SRC)\n",
    "\n",
    "df.sort_values('MatchID', inplace = True)\n",
    "df.head()"
   ]
  },
  {
   "cell_type": "markdown",
   "id": "bc02d7ca",
   "metadata": {},
   "source": [
    "데이터셋을 불러서 ```MatchID```, ```Home_team```, ```Away_team``` 등의 column을 drop한 DataFrame을 ```df_```에 저장  \n",
    "필요시 함수를 만들어서 feature를 가공해 덧붙일 수 있음(ex. 유효 슈팅 / 슈팅)"
   ]
  },
  {
   "cell_type": "code",
   "execution_count": 133,
   "id": "ba19606e",
   "metadata": {},
   "outputs": [
    {
     "name": "stdout",
     "output_type": "stream",
     "text": [
      "24\n"
     ]
    },
    {
     "data": {
      "text/plain": [
       "['Possession_home',\n",
       " 'Possession_away',\n",
       " 'Shots_on_target_home',\n",
       " 'Shots_on_target_away',\n",
       " 'Shots_home',\n",
       " 'Shots_away',\n",
       " 'Touches_home',\n",
       " 'Touches_away',\n",
       " 'Passes_home',\n",
       " 'Passes_away',\n",
       " 'Tackles_home',\n",
       " 'Tackles_away',\n",
       " 'Clearances_home',\n",
       " 'Clearances_away',\n",
       " 'Corners_home',\n",
       " 'Corners_away',\n",
       " 'Offsides_home',\n",
       " 'Offsides_away',\n",
       " 'Yellow_cards_home',\n",
       " 'Yellow_cards_away',\n",
       " 'Fouls_conceded_home',\n",
       " 'Fouls_conceded_away',\n",
       " 'Red_cards_home',\n",
       " 'Red_cards_away']"
      ]
     },
     "execution_count": 133,
     "metadata": {},
     "output_type": "execute_result"
    }
   ],
   "source": [
    "df_ = df.drop(columns = ['MatchID', 'Home_team', 'Away_team', 'Score_home', 'Score_away'])\n",
    "print(len(df_.columns))\n",
    "list(df_)\n",
    "#df_.hist()"
   ]
  },
  {
   "cell_type": "markdown",
   "id": "86f14d43",
   "metadata": {},
   "source": [
    "Correlation matrix를 보기 위해 seaborn을 import하고, home team과 away team의 features 간 correlation 출력  \n",
    "사실 home team과 away team의 승률에 약간 차이가 나서 home/away에 따른 차이가 있을 줄 알고 그래프를 만들어 보았는데  \n",
    "딱히 두드러지는 차이점은 없었음"
   ]
  },
  {
   "cell_type": "code",
   "execution_count": 134,
   "id": "6d9b7afe",
   "metadata": {},
   "outputs": [
    {
     "data": {
      "text/plain": [
       "['Possession_home',\n",
       " 'Shots_on_target_home',\n",
       " 'Shots_home',\n",
       " 'Touches_home',\n",
       " 'Passes_home',\n",
       " 'Tackles_home',\n",
       " 'Clearances_home',\n",
       " 'Corners_home',\n",
       " 'Offsides_home',\n",
       " 'Yellow_cards_home',\n",
       " 'Fouls_conceded_home',\n",
       " 'Red_cards_home']"
      ]
     },
     "execution_count": 134,
     "metadata": {},
     "output_type": "execute_result"
    },
    {
     "data": {
      "image/png": "[encoded data removed]",
      "text/plain": [
       "<Figure size 640x480 with 2 Axes>"
      ]
     },
     "metadata": {},
     "output_type": "display_data"
    }
   ],
   "source": [
    "import seaborn as sbn\n",
    "\n",
    "home_features = [f for f in list(df_) if 'home' in f]\n",
    "df_home = df_[home_features]  #home team features를 담은 DataFrame 임시 생성\n",
    "home_corr_matrix = df_home.corr()\n",
    "\n",
    "sbn.heatmap(home_corr_matrix)\n",
    "list(df_home)"
   ]
  },
  {
   "cell_type": "code",
   "execution_count": 135,
   "id": "7fe22891",
   "metadata": {},
   "outputs": [
    {
     "data": {
      "text/plain": [
       "<AxesSubplot:>"
      ]
     },
     "execution_count": 135,
     "metadata": {},
     "output_type": "execute_result"
    },
    {
     "data": {
      "image/png": "[encoded data removed]",
      "text/plain": [
       "<Figure size 640x480 with 2 Axes>"
      ]
     },
     "metadata": {},
     "output_type": "display_data"
    }
   ],
   "source": [
    "away_features = [f for f in list(df_) if 'away' in f]\n",
    "away_corr_matrix = df_[away_features].corr()\n",
    "df_away = df_[away_features] #임시 생성\n",
    "\n",
    "sbn.heatmap(away_corr_matrix)"
   ]
  },
  {
   "cell_type": "markdown",
   "id": "f6af6f7d",
   "metadata": {},
   "source": [
    "## Modeling"
   ]
  },
  {
   "cell_type": "markdown",
   "id": "ee8f3a00",
   "metadata": {},
   "source": [
    "우선 Logistic Regression과 Linear Regression Model을 import해서 deploy 해보았음"
   ]
  },
  {
   "cell_type": "code",
   "execution_count": 136,
   "id": "c1bbd8df",
   "metadata": {},
   "outputs": [],
   "source": [
    "from sklearn.linear_model import LogisticRegression\n",
    "from sklearn.linear_model import LinearRegression\n",
    "\n",
    "from sklearn.model_selection import train_test_split\n",
    "from sklearn.model_selection import GridSearchCV\n",
    "\n",
    "from sklearn.metrics import mean_squared_error\n",
    "\n",
    "from sklearn.model_selection import KFold\n",
    "\n",
    "from sklearn.metrics import r2_score\n",
    "\n",
    "from sklearn.ensemble import RandomForestRegressor\n",
    "\n",
    "from sklearn.preprocessing import StandardScaler"
   ]
  },
  {
   "cell_type": "markdown",
   "id": "18a9b65e",
   "metadata": {},
   "source": [
    "### Linear Regression"
   ]
  },
  {
   "cell_type": "code",
   "execution_count": 156,
   "id": "e8b611f3",
   "metadata": {},
   "outputs": [
    {
     "name": "stdout",
     "output_type": "stream",
     "text": [
      "Prediction:  [2.26617162 2.11327224 2.10802828 2.40771901 4.34365902]\n",
      "Labels:  [1, 2, 2, 2, 3]\n",
      "RMSE:  1.0390285662482808\n",
      "Prediction:  [1.25942888 1.70375067 3.8694478  0.95253691 1.88286116]\n",
      "Labels:  [1, 0, 6, 2, 0]\n",
      "RMSE:  1.010029426776077\n",
      "Prediction:  [1.58326702 1.39505084 0.98726893 1.24225993 1.34539831]\n",
      "Labels:  [1, 0, 0, 2, 0]\n",
      "RMSE:  1.0099676075678237\n",
      "Prediction:  [1.37881485 2.24008039 0.34978948 2.84977122 2.53540585]\n",
      "Labels:  [2, 0, 0, 4, 2]\n",
      "RMSE:  1.0108436083601455\n"
     ]
    }
   ],
   "source": [
    "X = df_.values\n",
    "y = df['Score_home'].values\n",
    "\n",
    "X_train, X_test, y_train, y_test = train_test_split(X, y, test_size = .2, random_state = 42)\n",
    "\n",
    "lin_reg = LinearRegression()\n",
    "lin_reg.fit(X, y)\n",
    "\n",
    "for train_index, test_index in kf.split(X):\n",
    "    #print(\"TRAIN:\", train_index, \"TEST:\", test_index)\n",
    "    X_train, X_test = X[train_index], X[test_index]\n",
    "    y_train, y_test = y[train_index], y[test_index]\n",
    "    lin_reg.fit(X_train, y_train)\n",
    "    some_data = X_test[:5]\n",
    "    some_labels = y_test[:5]\n",
    "    print('Prediction: ', lin_reg.predict(some_data))\n",
    "    print('Labels: ', list(some_labels))\n",
    "    \n",
    "    goal_predictions = lin_reg.predict(df_.values)\n",
    "    lin_mse = mean_squared_error(y, goal_predictions)\n",
    "    lin_rmse = np.sqrt(lin_mse)\n",
    "    print('RMSE: ', lin_rmse)"
   ]
  },
  {
   "cell_type": "code",
   "execution_count": 157,
   "id": "a6063705",
   "metadata": {},
   "outputs": [
    {
     "name": "stdout",
     "output_type": "stream",
     "text": [
      "Prediction:  [1.63693797 1.58542543 1.55144773 1.78524387 3.89497127 2.71381531\n",
      " 1.14285525 1.64510421 1.44212651 2.83325764 2.96103939 0.76922697\n",
      " 2.86289813 2.20133379 0.07938472]\n",
      "Labels:  [1, 2, 2, 2, 3, 3, 1, 3, 3, 5, 2, 1, 2, 1, 0]\n"
     ]
    }
   ],
   "source": [
    "some_data = df_.iloc[:15]\n",
    "some_labels = df['Score_home'][:15]\n",
    "print('Prediction: ', lin_reg.predict(some_data))\n",
    "print('Labels: ', list(some_labels))"
   ]
  },
  {
   "cell_type": "code",
   "execution_count": 158,
   "id": "b90d22b0",
   "metadata": {},
   "outputs": [
    {
     "name": "stdout",
     "output_type": "stream",
     "text": [
      "RMSE:  1.0108436083601455\n"
     ]
    }
   ],
   "source": [
    "goal_predictions = lin_reg.predict(df_.values)\n",
    "lin_mse = mean_squared_error(y, goal_predictions)\n",
    "lin_rmse = np.sqrt(lin_mse)\n",
    "print('RMSE: ', lin_rmse)"
   ]
  },
  {
   "cell_type": "markdown",
   "id": "58b50414",
   "metadata": {},
   "source": [
    "____"
   ]
  },
  {
   "cell_type": "markdown",
   "id": "7be891b1",
   "metadata": {},
   "source": [
    "## Standardization"
   ]
  },
  {
   "cell_type": "markdown",
   "id": "75a77194",
   "metadata": {},
   "source": [
    "Standardizaion을 해도 왜 결과가 똑같을까"
   ]
  },
  {
   "cell_type": "code",
   "execution_count": 159,
   "id": "72082072",
   "metadata": {},
   "outputs": [
    {
     "name": "stdout",
     "output_type": "stream",
     "text": [
      "Prediction:  [2.26617162 2.11327224 2.10802828 2.40771901 4.34365902]\n",
      "Labels:  [1, 2, 2, 2, 3]\n",
      "RMSE:  1.0390285662482814\n",
      "Prediction:  [1.25942888 1.70375067 3.8694478  0.95253691 1.88286116]\n",
      "Labels:  [1, 0, 6, 2, 0]\n",
      "RMSE:  1.0100294267760768\n",
      "Prediction:  [1.58326702 1.39505084 0.98726893 1.24225993 1.34539831]\n",
      "Labels:  [1, 0, 0, 2, 0]\n",
      "RMSE:  1.0099676075678237\n",
      "Prediction:  [1.37881485 2.24008039 0.34978948 2.84977122 2.53540585]\n",
      "Labels:  [2, 0, 0, 4, 2]\n",
      "RMSE:  1.010843608360146\n"
     ]
    }
   ],
   "source": [
    "scaler = StandardScaler()\n",
    "df_scaled = pd.DataFrame(scaler.fit_transform(df_))\n",
    "\n",
    "X_std = df_scaled.values\n",
    "y_std = df['Score_home'].values\n",
    "\n",
    "X_train, X_test, y_train, y_test = train_test_split(X_std, y_std, test_size = .2, random_state = 42)\n",
    "\n",
    "lin_reg = LinearRegression()\n",
    "lin_reg.fit(X_std, y_std)\n",
    "\n",
    "for train_index, test_index in kf.split(X_std):\n",
    "    #print(\"TRAIN:\", train_index, \"TEST:\", test_index)\n",
    "    X_train, X_test = X_std[train_index], X_std[test_index]\n",
    "    y_train, y_test = y_std[train_index], y_std[test_index]\n",
    "    lin_reg.fit(X_train, y_train)\n",
    "    some_data = X_test[:5]\n",
    "    some_labels = y_test[:5]\n",
    "    print('Prediction: ', lin_reg.predict(some_data))\n",
    "    print('Labels: ', list(some_labels))\n",
    "    \n",
    "    goal_predictions = lin_reg.predict(df_scaled.values)\n",
    "    lin_mse = mean_squared_error(y, goal_predictions)\n",
    "    lin_rmse = np.sqrt(lin_mse)\n",
    "    print('RMSE: ', lin_rmse)\n",
    "\n",
    "#df_scaled.head()"
   ]
  },
  {
   "cell_type": "code",
   "execution_count": 160,
   "id": "4c7ff201",
   "metadata": {},
   "outputs": [
    {
     "name": "stdout",
     "output_type": "stream",
     "text": [
      "Prediction:  [1.63693797 1.58542543 1.55144773 1.78524387 3.89497127 2.71381531\n",
      " 1.14285525 1.64510421 1.44212651 2.83325764 2.96103939 0.76922697\n",
      " 2.86289813 2.20133379 0.07938472]\n",
      "Labels:  [1, 2, 2, 2, 3, 3, 1, 3, 3, 5, 2, 1, 2, 1, 0]\n"
     ]
    }
   ],
   "source": [
    "some_data = df_scaled.iloc[:15]\n",
    "some_labels = df['Score_home'][:15]\n",
    "print('Prediction: ', lin_reg.predict(some_data))\n",
    "print('Labels: ', list(some_labels))"
   ]
  },
  {
   "cell_type": "code",
   "execution_count": 161,
   "id": "b2d9f308",
   "metadata": {},
   "outputs": [
    {
     "name": "stdout",
     "output_type": "stream",
     "text": [
      "RMSE:  1.010843608360146\n"
     ]
    }
   ],
   "source": [
    "goal_predictions = lin_reg.predict(df_scaled.values)\n",
    "lin_mse = mean_squared_error(y_std, goal_predictions)\n",
    "lin_rmse = np.sqrt(lin_mse)\n",
    "print('RMSE: ', lin_rmse)"
   ]
  },
  {
   "cell_type": "markdown",
   "id": "6ccc3607",
   "metadata": {},
   "source": [
    "----"
   ]
  },
  {
   "cell_type": "markdown",
   "id": "639b37a7",
   "metadata": {},
   "source": [
    "Home team만의 attribute로 예측했을 때는 RMSE가 더 큰 듯?"
   ]
  },
  {
   "cell_type": "code",
   "execution_count": 154,
   "id": "7442f871",
   "metadata": {},
   "outputs": [
    {
     "name": "stdout",
     "output_type": "stream",
     "text": [
      "Prediction:  [2.13387239 1.60097488 1.61978463 1.97834036 3.76833748]\n",
      "Labels:  [1, 2, 2, 2, 3]\n",
      "RMSE:  1.0416448892798746\n",
      "Prediction:  [0.80817585 1.83828941 3.98644679 0.75266966 2.15692517]\n",
      "Labels:  [1, 0, 6, 2, 0]\n",
      "RMSE:  1.033890897449351\n",
      "Prediction:  [1.61869097 1.77968429 0.97666082 1.4996214  1.02986547]\n",
      "Labels:  [1, 0, 0, 2, 0]\n",
      "RMSE:  1.033792095192225\n",
      "Prediction:  [1.34835714 2.13349854 0.72955163 2.84691356 2.52839291]\n",
      "Labels:  [2, 0, 0, 4, 2]\n",
      "RMSE:  1.0342133639160924\n"
     ]
    }
   ],
   "source": [
    "X_home = df_home.values\n",
    "y_home = df['Score_home'].values\n",
    "\n",
    "kf = KFold(n_splits=4)\n",
    "\n",
    "lin_reg = LinearRegression()\n",
    "\n",
    "for train_index, test_index in kf.split(X_home):\n",
    "    #print(\"TRAIN:\", train_index, \"TEST:\", test_index)\n",
    "    X_train, X_test = X_home[train_index], X_home[test_index]\n",
    "    y_train, y_test = y_home[train_index], y_home[test_index]\n",
    "    lin_reg.fit(X_train, y_train)\n",
    "    some_data = X_test[:5]\n",
    "    some_labels = y_test[:5]\n",
    "    print('Prediction: ', lin_reg.predict(some_data))\n",
    "    print('Labels: ', list(some_labels))\n",
    "    \n",
    "    goal_predictions = lin_reg.predict(df_home.values)\n",
    "    lin_mse = mean_squared_error(y, goal_predictions)\n",
    "    lin_rmse = np.sqrt(lin_mse)\n",
    "    print('RMSE: ', lin_rmse)\n",
    "    \n",
    "\n",
    "#X_train, X_test, y_train, y_test = train_test_split(X, y, test_size = .2, random_state = 42)\n",
    "\n",
    "# some_data = df_home.iloc[:5]\n",
    "# some_labels = df['Score_home'][:5]\n",
    "# print('Prediction: ', lin_reg.predict(some_data))\n",
    "# print('Labels: ', list(some_labels))"
   ]
  },
  {
   "cell_type": "markdown",
   "id": "be39e90c",
   "metadata": {},
   "source": [
    "----"
   ]
  },
  {
   "cell_type": "code",
   "execution_count": 79,
   "id": "248911e4",
   "metadata": {},
   "outputs": [
    {
     "data": {
      "text/plain": [
       "{'max_features': 8, 'n_estimators': 50}"
      ]
     },
     "execution_count": 79,
     "metadata": {},
     "output_type": "execute_result"
    }
   ],
   "source": [
    "param_grid = [\n",
    "    {'n_estimators': [3, 10, 30, 50], 'max_features': [2, 4, 6, 8]},\n",
    "    {'bootstrap': [False], 'n_estimators': [3, 10], 'max_features': [2, 3, 4]},\n",
    "]\n",
    "\n",
    "forest_reg = RandomForestRegressor()\n",
    "\n",
    "grid_search = GridSearchCV(forest_reg, param_grid, cv=5,\n",
    "                          scoring='neg_mean_squared_error',\n",
    "                          return_train_score=True)\n",
    "\n",
    "grid_search.fit(X, y)\n",
    "grid_search.best_params_"
   ]
  },
  {
   "cell_type": "markdown",
   "id": "e98e860e",
   "metadata": {},
   "source": [
    "----"
   ]
  },
  {
   "cell_type": "markdown",
   "id": "b3107aa8",
   "metadata": {},
   "source": [
    "## Decision Tree Regressor"
   ]
  },
  {
   "cell_type": "code",
   "execution_count": 104,
   "id": "82dfb0e1",
   "metadata": {},
   "outputs": [
    {
     "data": {
      "text/plain": [
       "DecisionTreeRegressor()"
      ]
     },
     "execution_count": 104,
     "metadata": {},
     "output_type": "execute_result"
    }
   ],
   "source": [
    "from sklearn.tree import DecisionTreeRegressor\n",
    "\n",
    "tree_reg = DecisionTreeRegressor()\n",
    "tree_reg.fit(X, y)"
   ]
  },
  {
   "cell_type": "code",
   "execution_count": 105,
   "id": "c14542a4",
   "metadata": {},
   "outputs": [
    {
     "name": "stdout",
     "output_type": "stream",
     "text": [
      "Prediction:  [1. 2. 2. 2. 3.]\n",
      "Labels:  [1, 2, 2, 2, 3]\n",
      "RMSE:  1.008837828080188\n",
      "Prediction:  [1. 0. 6. 2. 0.]\n",
      "Labels:  [1, 0, 6, 2, 0]\n",
      "RMSE:  1.008837828080188\n",
      "Prediction:  [1. 0. 0. 2. 0.]\n",
      "Labels:  [1, 0, 0, 2, 0]\n",
      "RMSE:  1.008837828080188\n",
      "Prediction:  [2. 0. 0. 4. 2.]\n",
      "Labels:  [2, 0, 0, 4, 2]\n",
      "RMSE:  1.008837828080188\n"
     ]
    }
   ],
   "source": [
    "for train_index, test_index in kf.split(X):\n",
    "    #print(\"TRAIN:\", train_index, \"TEST:\", test_index)\n",
    "    X_train, X_test = X[train_index], X[test_index]\n",
    "    y_train, y_test = y[train_index], y[test_index]\n",
    "    lin_reg.fit(X_train, y_train)\n",
    "    some_data = X_test[:5]\n",
    "    some_labels = y_test[:5]\n",
    "    print('Prediction: ', tree_reg.predict(some_data))\n",
    "    print('Labels: ', list(some_labels))\n",
    "    \n",
    "    tree_goal_predictions = tree_reg.predict(df_.values)\n",
    "    tree_mse = mean_squared_error(y, goal_predictions)\n",
    "    tree_rmse = np.sqrt(tree_mse)\n",
    "    print('RMSE: ', tree_rmse)"
   ]
  },
  {
   "cell_type": "code",
   "execution_count": 107,
   "id": "1659ce12",
   "metadata": {},
   "outputs": [
    {
     "data": {
      "text/plain": [
       "DecisionTreeRegressor()"
      ]
     },
     "execution_count": 107,
     "metadata": {},
     "output_type": "execute_result"
    }
   ],
   "source": [
    "tree_reg = DecisionTreeRegressor()\n",
    "tree_reg.fit(X_std, y_std)"
   ]
  },
  {
   "cell_type": "code",
   "execution_count": 108,
   "id": "ff3a9b21",
   "metadata": {},
   "outputs": [
    {
     "name": "stdout",
     "output_type": "stream",
     "text": [
      "Prediction:  [1. 2. 2. 2. 3.]\n",
      "Labels:  [1, 2, 2, 2, 3]\n",
      "RMSE:  1.008837828080188\n",
      "Prediction:  [1. 0. 6. 2. 0.]\n",
      "Labels:  [1, 0, 6, 2, 0]\n",
      "RMSE:  1.008837828080188\n",
      "Prediction:  [1. 0. 0. 2. 0.]\n",
      "Labels:  [1, 0, 0, 2, 0]\n",
      "RMSE:  1.008837828080188\n",
      "Prediction:  [2. 0. 0. 4. 2.]\n",
      "Labels:  [2, 0, 0, 4, 2]\n",
      "RMSE:  1.008837828080188\n"
     ]
    }
   ],
   "source": [
    "for train_index, test_index in kf.split(X_std):\n",
    "    #print(\"TRAIN:\", train_index, \"TEST:\", test_index)\n",
    "    X_train, X_test = X[train_index], X[test_index]\n",
    "    y_train, y_test = y[train_index], y[test_index]\n",
    "    lin_reg.fit(X_train, y_train)\n",
    "    some_data = X_test[:5]\n",
    "    some_labels = y_test[:5]\n",
    "    print('Prediction: ', tree_reg.predict(some_data))\n",
    "    print('Labels: ', list(some_labels))\n",
    "    \n",
    "    tree_goal_predictions = tree_reg.predict(df_.values)\n",
    "    tree_mse = mean_squared_error(y, goal_predictions)\n",
    "    tree_rmse = np.sqrt(tree_mse)\n",
    "    print('RMSE: ', tree_rmse)"
   ]
  },
  {
   "cell_type": "markdown",
   "id": "6b52e3da",
   "metadata": {},
   "source": [
    "____"
   ]
  },
  {
   "cell_type": "code",
   "execution_count": 63,
   "id": "0f5ce626",
   "metadata": {},
   "outputs": [
    {
     "data": {
      "text/plain": [
       "<AxesSubplot:>"
      ]
     },
     "execution_count": 63,
     "metadata": {},
     "output_type": "execute_result"
    },
    {
     "data": {
      "image/png": "[encoded data removed]",
      "text/plain": [
       "<Figure size 640x480 with 1 Axes>"
      ]
     },
     "metadata": {},
     "output_type": "display_data"
    }
   ],
   "source": [
    "df['Score_home'].hist()"
   ]
  },
  {
   "cell_type": "markdown",
   "id": "a1a6040b",
   "metadata": {},
   "source": [
    "대부분의 경기에서 0~2의 득점을 기록하는 점을 감안하면 RMSE가 1에 근접하는 것은 좋지 않음.  \n",
    "따라서 이것을 줄여 나가야 해요."
   ]
  },
  {
   "cell_type": "code",
   "execution_count": null,
   "id": "cd7d7ce9",
   "metadata": {},
   "outputs": [],
   "source": []
  }
 ],
 "metadata": {
  "kernelspec": {
   "display_name": "Python 3 (ipykernel)",
   "language": "python",
   "name": "python3"
  },
  "language_info": {
   "codemirror_mode": {
    "name": "ipython",
    "version": 3
   },
   "file_extension": ".py",
   "mimetype": "text/x-python",
   "name": "python",
   "nbconvert_exporter": "python",
   "pygments_lexer": "ipython3",
   "version": "3.7.13"
  }
 },
 "nbformat": 4,
 "nbformat_minor": 5
}
